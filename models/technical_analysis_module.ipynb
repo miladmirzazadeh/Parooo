{
 "cells": [
  {
   "cell_type": "code",
   "execution_count": 32,
   "metadata": {
    "ExecuteTime": {
     "end_time": "2019-10-23T21:04:20.060152Z",
     "start_time": "2019-10-23T21:03:47.893727Z"
    }
   },
   "outputs": [],
   "source": [
    "import trade_model as td\n",
    "dm=td.DataModel(\"../xcels\",[\"master0.csv\",\"master1.csv\"])\n",
    "dm.read()\n",
    "df=dm.get(\"خساپا\")"
   ]
  },
  {
   "cell_type": "code",
   "execution_count": 33,
   "metadata": {
    "ExecuteTime": {
     "end_time": "2019-10-23T21:04:20.079280Z",
     "start_time": "2019-10-23T21:04:20.067322Z"
    }
   },
   "outputs": [
    {
     "data": {
      "text/plain": [
       "Index(['symbol', 'name', 'amount', 'volume', 'value', 'lastday', 'open',\n",
       "       'close', 'last-change', 'last-percent', 'ending', 'ending-change',\n",
       "       'ending-percent', 'min', 'max', 'year', 'month', 'day', 'diff_min_max',\n",
       "       'diff_open', 'adj_scale', 'adj_open', 'adj_close', 'adj_ending',\n",
       "       'adj_min', 'adj_max', 'log_adj_open', 'log_adj_close', 'log_adj_ending',\n",
       "       'log_adj_min', 'log_adj_max'],\n",
       "      dtype='object')"
      ]
     },
     "execution_count": 33,
     "metadata": {},
     "output_type": "execute_result"
    }
   ],
   "source": [
    "df.columns"
   ]
  },
  {
   "cell_type": "code",
   "execution_count": 50,
   "metadata": {
    "ExecuteTime": {
     "end_time": "2019-10-23T21:08:08.398760Z",
     "start_time": "2019-10-23T21:08:08.390334Z"
    }
   },
   "outputs": [],
   "source": [
    "df2=df[\"2013\":\"2015\"]"
   ]
  },
  {
   "cell_type": "code",
   "execution_count": 51,
   "metadata": {
    "ExecuteTime": {
     "end_time": "2019-10-23T21:08:08.752648Z",
     "start_time": "2019-10-23T21:08:08.690301Z"
    }
   },
   "outputs": [
    {
     "data": {
      "text/html": [
       "<div>\n",
       "<style scoped>\n",
       "    .dataframe tbody tr th:only-of-type {\n",
       "        vertical-align: middle;\n",
       "    }\n",
       "\n",
       "    .dataframe tbody tr th {\n",
       "        vertical-align: top;\n",
       "    }\n",
       "\n",
       "    .dataframe thead th {\n",
       "        text-align: right;\n",
       "    }\n",
       "</style>\n",
       "<table border=\"1\" class=\"dataframe\">\n",
       "  <thead>\n",
       "    <tr style=\"text-align: right;\">\n",
       "      <th></th>\n",
       "      <th>symbol</th>\n",
       "      <th>name</th>\n",
       "      <th>amount</th>\n",
       "      <th>volume</th>\n",
       "      <th>value</th>\n",
       "      <th>lastday</th>\n",
       "      <th>open</th>\n",
       "      <th>close</th>\n",
       "      <th>last-change</th>\n",
       "      <th>last-percent</th>\n",
       "      <th>...</th>\n",
       "      <th>adj_open</th>\n",
       "      <th>adj_close</th>\n",
       "      <th>adj_ending</th>\n",
       "      <th>adj_min</th>\n",
       "      <th>adj_max</th>\n",
       "      <th>log_adj_open</th>\n",
       "      <th>log_adj_close</th>\n",
       "      <th>log_adj_ending</th>\n",
       "      <th>log_adj_min</th>\n",
       "      <th>log_adj_max</th>\n",
       "    </tr>\n",
       "    <tr>\n",
       "      <th>date</th>\n",
       "      <th></th>\n",
       "      <th></th>\n",
       "      <th></th>\n",
       "      <th></th>\n",
       "      <th></th>\n",
       "      <th></th>\n",
       "      <th></th>\n",
       "      <th></th>\n",
       "      <th></th>\n",
       "      <th></th>\n",
       "      <th></th>\n",
       "      <th></th>\n",
       "      <th></th>\n",
       "      <th></th>\n",
       "      <th></th>\n",
       "      <th></th>\n",
       "      <th></th>\n",
       "      <th></th>\n",
       "      <th></th>\n",
       "      <th></th>\n",
       "      <th></th>\n",
       "    </tr>\n",
       "  </thead>\n",
       "  <tbody>\n",
       "    <tr>\n",
       "      <td>2013-01-13</td>\n",
       "      <td>خساپا</td>\n",
       "      <td>سايپا</td>\n",
       "      <td>887.0</td>\n",
       "      <td>7391410.0</td>\n",
       "      <td>6.989910e+09</td>\n",
       "      <td>1024.0</td>\n",
       "      <td>975.0</td>\n",
       "      <td>940.0</td>\n",
       "      <td>-84.0</td>\n",
       "      <td>-8.20</td>\n",
       "      <td>...</td>\n",
       "      <td>256.543980</td>\n",
       "      <td>247.334709</td>\n",
       "      <td>248.913441</td>\n",
       "      <td>246.282221</td>\n",
       "      <td>256.543980</td>\n",
       "      <td>2.409162</td>\n",
       "      <td>2.393285</td>\n",
       "      <td>2.396048</td>\n",
       "      <td>2.391433</td>\n",
       "      <td>2.409162</td>\n",
       "    </tr>\n",
       "    <tr>\n",
       "      <td>2013-01-14</td>\n",
       "      <td>خساپا</td>\n",
       "      <td>سايپا</td>\n",
       "      <td>839.0</td>\n",
       "      <td>113955843.0</td>\n",
       "      <td>1.036056e+11</td>\n",
       "      <td>946.0</td>\n",
       "      <td>939.0</td>\n",
       "      <td>909.0</td>\n",
       "      <td>-37.0</td>\n",
       "      <td>-3.91</td>\n",
       "      <td>...</td>\n",
       "      <td>247.071587</td>\n",
       "      <td>239.177926</td>\n",
       "      <td>239.177926</td>\n",
       "      <td>239.177926</td>\n",
       "      <td>247.071587</td>\n",
       "      <td>2.392823</td>\n",
       "      <td>2.378721</td>\n",
       "      <td>2.378721</td>\n",
       "      <td>2.378721</td>\n",
       "      <td>2.392823</td>\n",
       "    </tr>\n",
       "    <tr>\n",
       "      <td>2013-01-15</td>\n",
       "      <td>خساپا</td>\n",
       "      <td>سايپا</td>\n",
       "      <td>754.0</td>\n",
       "      <td>110688936.0</td>\n",
       "      <td>1.000775e+11</td>\n",
       "      <td>909.0</td>\n",
       "      <td>910.0</td>\n",
       "      <td>919.0</td>\n",
       "      <td>10.0</td>\n",
       "      <td>1.10</td>\n",
       "      <td>...</td>\n",
       "      <td>239.441048</td>\n",
       "      <td>241.809147</td>\n",
       "      <td>237.862316</td>\n",
       "      <td>231.021143</td>\n",
       "      <td>244.703489</td>\n",
       "      <td>2.379199</td>\n",
       "      <td>2.383473</td>\n",
       "      <td>2.376326</td>\n",
       "      <td>2.363652</td>\n",
       "      <td>2.388640</td>\n",
       "    </tr>\n",
       "    <tr>\n",
       "      <td>2013-01-16</td>\n",
       "      <td>خساپا</td>\n",
       "      <td>سايپا</td>\n",
       "      <td>427.0</td>\n",
       "      <td>5471168.0</td>\n",
       "      <td>5.106381e+09</td>\n",
       "      <td>904.0</td>\n",
       "      <td>927.0</td>\n",
       "      <td>940.0</td>\n",
       "      <td>36.0</td>\n",
       "      <td>3.98</td>\n",
       "      <td>...</td>\n",
       "      <td>243.914123</td>\n",
       "      <td>247.334709</td>\n",
       "      <td>245.492855</td>\n",
       "      <td>239.704170</td>\n",
       "      <td>247.334709</td>\n",
       "      <td>2.387237</td>\n",
       "      <td>2.393285</td>\n",
       "      <td>2.390039</td>\n",
       "      <td>2.379676</td>\n",
       "      <td>2.393285</td>\n",
       "    </tr>\n",
       "    <tr>\n",
       "      <td>2013-01-19</td>\n",
       "      <td>خساپا</td>\n",
       "      <td>سايپا</td>\n",
       "      <td>61.0</td>\n",
       "      <td>851781.0</td>\n",
       "      <td>8.262276e+08</td>\n",
       "      <td>933.0</td>\n",
       "      <td>970.0</td>\n",
       "      <td>970.0</td>\n",
       "      <td>37.0</td>\n",
       "      <td>3.97</td>\n",
       "      <td>...</td>\n",
       "      <td>255.228370</td>\n",
       "      <td>255.228370</td>\n",
       "      <td>248.124075</td>\n",
       "      <td>255.228370</td>\n",
       "      <td>255.228370</td>\n",
       "      <td>2.406929</td>\n",
       "      <td>2.406929</td>\n",
       "      <td>2.394669</td>\n",
       "      <td>2.406929</td>\n",
       "      <td>2.406929</td>\n",
       "    </tr>\n",
       "    <tr>\n",
       "      <td>...</td>\n",
       "      <td>...</td>\n",
       "      <td>...</td>\n",
       "      <td>...</td>\n",
       "      <td>...</td>\n",
       "      <td>...</td>\n",
       "      <td>...</td>\n",
       "      <td>...</td>\n",
       "      <td>...</td>\n",
       "      <td>...</td>\n",
       "      <td>...</td>\n",
       "      <td>...</td>\n",
       "      <td>...</td>\n",
       "      <td>...</td>\n",
       "      <td>...</td>\n",
       "      <td>...</td>\n",
       "      <td>...</td>\n",
       "      <td>...</td>\n",
       "      <td>...</td>\n",
       "      <td>...</td>\n",
       "      <td>...</td>\n",
       "      <td>...</td>\n",
       "    </tr>\n",
       "    <tr>\n",
       "      <td>2015-12-23</td>\n",
       "      <td>خساپا</td>\n",
       "      <td>سايپا</td>\n",
       "      <td>200.0</td>\n",
       "      <td>2335185.0</td>\n",
       "      <td>2.028810e+09</td>\n",
       "      <td>871.0</td>\n",
       "      <td>878.0</td>\n",
       "      <td>870.0</td>\n",
       "      <td>-1.0</td>\n",
       "      <td>-0.11</td>\n",
       "      <td>...</td>\n",
       "      <td>387.556466</td>\n",
       "      <td>384.025200</td>\n",
       "      <td>384.025200</td>\n",
       "      <td>380.052525</td>\n",
       "      <td>387.556466</td>\n",
       "      <td>2.588335</td>\n",
       "      <td>2.584360</td>\n",
       "      <td>2.584360</td>\n",
       "      <td>2.579844</td>\n",
       "      <td>2.588335</td>\n",
       "    </tr>\n",
       "    <tr>\n",
       "      <td>2015-12-26</td>\n",
       "      <td>خساپا</td>\n",
       "      <td>سايپا</td>\n",
       "      <td>257.0</td>\n",
       "      <td>2629423.0</td>\n",
       "      <td>2.260471e+09</td>\n",
       "      <td>870.0</td>\n",
       "      <td>871.0</td>\n",
       "      <td>854.0</td>\n",
       "      <td>-16.0</td>\n",
       "      <td>-1.84</td>\n",
       "      <td>...</td>\n",
       "      <td>384.466608</td>\n",
       "      <td>376.962667</td>\n",
       "      <td>382.259567</td>\n",
       "      <td>375.197034</td>\n",
       "      <td>386.232241</td>\n",
       "      <td>2.584859</td>\n",
       "      <td>2.576298</td>\n",
       "      <td>2.582358</td>\n",
       "      <td>2.574259</td>\n",
       "      <td>2.586849</td>\n",
       "    </tr>\n",
       "    <tr>\n",
       "      <td>2015-12-27</td>\n",
       "      <td>خساپا</td>\n",
       "      <td>سايپا</td>\n",
       "      <td>517.0</td>\n",
       "      <td>5421888.0</td>\n",
       "      <td>4.825063e+09</td>\n",
       "      <td>866.0</td>\n",
       "      <td>859.0</td>\n",
       "      <td>901.0</td>\n",
       "      <td>35.0</td>\n",
       "      <td>4.04</td>\n",
       "      <td>...</td>\n",
       "      <td>379.169709</td>\n",
       "      <td>397.708856</td>\n",
       "      <td>390.646324</td>\n",
       "      <td>375.197034</td>\n",
       "      <td>401.240123</td>\n",
       "      <td>2.578834</td>\n",
       "      <td>2.599565</td>\n",
       "      <td>2.591784</td>\n",
       "      <td>2.574259</td>\n",
       "      <td>2.603404</td>\n",
       "    </tr>\n",
       "    <tr>\n",
       "      <td>2015-12-28</td>\n",
       "      <td>خساپا</td>\n",
       "      <td>سايپا</td>\n",
       "      <td>350.0</td>\n",
       "      <td>3395450.0</td>\n",
       "      <td>2.977439e+09</td>\n",
       "      <td>885.0</td>\n",
       "      <td>893.0</td>\n",
       "      <td>870.0</td>\n",
       "      <td>-15.0</td>\n",
       "      <td>-1.69</td>\n",
       "      <td>...</td>\n",
       "      <td>394.177590</td>\n",
       "      <td>384.025200</td>\n",
       "      <td>388.880691</td>\n",
       "      <td>379.611117</td>\n",
       "      <td>398.150265</td>\n",
       "      <td>2.595692</td>\n",
       "      <td>2.584360</td>\n",
       "      <td>2.589816</td>\n",
       "      <td>2.579339</td>\n",
       "      <td>2.600047</td>\n",
       "    </tr>\n",
       "    <tr>\n",
       "      <td>2015-12-30</td>\n",
       "      <td>خساپا</td>\n",
       "      <td>سايپا</td>\n",
       "      <td>304.0</td>\n",
       "      <td>2972344.0</td>\n",
       "      <td>2.668700e+09</td>\n",
       "      <td>881.0</td>\n",
       "      <td>882.0</td>\n",
       "      <td>897.0</td>\n",
       "      <td>16.0</td>\n",
       "      <td>1.82</td>\n",
       "      <td>...</td>\n",
       "      <td>389.322099</td>\n",
       "      <td>395.943223</td>\n",
       "      <td>391.970549</td>\n",
       "      <td>389.322099</td>\n",
       "      <td>402.122939</td>\n",
       "      <td>2.590309</td>\n",
       "      <td>2.597633</td>\n",
       "      <td>2.593253</td>\n",
       "      <td>2.590309</td>\n",
       "      <td>2.604359</td>\n",
       "    </tr>\n",
       "  </tbody>\n",
       "</table>\n",
       "<p>684 rows × 31 columns</p>\n",
       "</div>"
      ],
      "text/plain": [
       "           symbol   name  amount       volume         value  lastday   open  \\\n",
       "date                                                                          \n",
       "2013-01-13  خساپا  سايپا   887.0    7391410.0  6.989910e+09   1024.0  975.0   \n",
       "2013-01-14  خساپا  سايپا   839.0  113955843.0  1.036056e+11    946.0  939.0   \n",
       "2013-01-15  خساپا  سايپا   754.0  110688936.0  1.000775e+11    909.0  910.0   \n",
       "2013-01-16  خساپا  سايپا   427.0    5471168.0  5.106381e+09    904.0  927.0   \n",
       "2013-01-19  خساپا  سايپا    61.0     851781.0  8.262276e+08    933.0  970.0   \n",
       "...           ...    ...     ...          ...           ...      ...    ...   \n",
       "2015-12-23  خساپا  سايپا   200.0    2335185.0  2.028810e+09    871.0  878.0   \n",
       "2015-12-26  خساپا  سايپا   257.0    2629423.0  2.260471e+09    870.0  871.0   \n",
       "2015-12-27  خساپا  سايپا   517.0    5421888.0  4.825063e+09    866.0  859.0   \n",
       "2015-12-28  خساپا  سايپا   350.0    3395450.0  2.977439e+09    885.0  893.0   \n",
       "2015-12-30  خساپا  سايپا   304.0    2972344.0  2.668700e+09    881.0  882.0   \n",
       "\n",
       "            close  last-change  last-percent  ...    adj_open   adj_close  \\\n",
       "date                                          ...                           \n",
       "2013-01-13  940.0        -84.0         -8.20  ...  256.543980  247.334709   \n",
       "2013-01-14  909.0        -37.0         -3.91  ...  247.071587  239.177926   \n",
       "2013-01-15  919.0         10.0          1.10  ...  239.441048  241.809147   \n",
       "2013-01-16  940.0         36.0          3.98  ...  243.914123  247.334709   \n",
       "2013-01-19  970.0         37.0          3.97  ...  255.228370  255.228370   \n",
       "...           ...          ...           ...  ...         ...         ...   \n",
       "2015-12-23  870.0         -1.0         -0.11  ...  387.556466  384.025200   \n",
       "2015-12-26  854.0        -16.0         -1.84  ...  384.466608  376.962667   \n",
       "2015-12-27  901.0         35.0          4.04  ...  379.169709  397.708856   \n",
       "2015-12-28  870.0        -15.0         -1.69  ...  394.177590  384.025200   \n",
       "2015-12-30  897.0         16.0          1.82  ...  389.322099  395.943223   \n",
       "\n",
       "            adj_ending     adj_min     adj_max  log_adj_open  log_adj_close  \\\n",
       "date                                                                          \n",
       "2013-01-13  248.913441  246.282221  256.543980      2.409162       2.393285   \n",
       "2013-01-14  239.177926  239.177926  247.071587      2.392823       2.378721   \n",
       "2013-01-15  237.862316  231.021143  244.703489      2.379199       2.383473   \n",
       "2013-01-16  245.492855  239.704170  247.334709      2.387237       2.393285   \n",
       "2013-01-19  248.124075  255.228370  255.228370      2.406929       2.406929   \n",
       "...                ...         ...         ...           ...            ...   \n",
       "2015-12-23  384.025200  380.052525  387.556466      2.588335       2.584360   \n",
       "2015-12-26  382.259567  375.197034  386.232241      2.584859       2.576298   \n",
       "2015-12-27  390.646324  375.197034  401.240123      2.578834       2.599565   \n",
       "2015-12-28  388.880691  379.611117  398.150265      2.595692       2.584360   \n",
       "2015-12-30  391.970549  389.322099  402.122939      2.590309       2.597633   \n",
       "\n",
       "            log_adj_ending  log_adj_min  log_adj_max  \n",
       "date                                                  \n",
       "2013-01-13        2.396048     2.391433     2.409162  \n",
       "2013-01-14        2.378721     2.378721     2.392823  \n",
       "2013-01-15        2.376326     2.363652     2.388640  \n",
       "2013-01-16        2.390039     2.379676     2.393285  \n",
       "2013-01-19        2.394669     2.406929     2.406929  \n",
       "...                    ...          ...          ...  \n",
       "2015-12-23        2.584360     2.579844     2.588335  \n",
       "2015-12-26        2.582358     2.574259     2.586849  \n",
       "2015-12-27        2.591784     2.574259     2.603404  \n",
       "2015-12-28        2.589816     2.579339     2.600047  \n",
       "2015-12-30        2.593253     2.590309     2.604359  \n",
       "\n",
       "[684 rows x 31 columns]"
      ]
     },
     "execution_count": 51,
     "metadata": {},
     "output_type": "execute_result"
    }
   ],
   "source": [
    "df2"
   ]
  },
  {
   "cell_type": "code",
   "execution_count": 52,
   "metadata": {
    "ExecuteTime": {
     "end_time": "2019-10-23T21:08:09.799426Z",
     "start_time": "2019-10-23T21:08:09.791463Z"
    }
   },
   "outputs": [],
   "source": [
    "import numpy as np\n",
    "import pandas\n",
    "import matplotlib.pyplot as plt"
   ]
  },
  {
   "cell_type": "code",
   "execution_count": 53,
   "metadata": {
    "ExecuteTime": {
     "end_time": "2019-10-23T21:08:10.481458Z",
     "start_time": "2019-10-23T21:08:10.473343Z"
    }
   },
   "outputs": [],
   "source": [
    "x=range(1,len(df2)+1)"
   ]
  },
  {
   "cell_type": "code",
   "execution_count": 54,
   "metadata": {
    "ExecuteTime": {
     "end_time": "2019-10-23T21:08:11.034606Z",
     "start_time": "2019-10-23T21:08:11.024286Z"
    }
   },
   "outputs": [
    {
     "data": {
      "text/plain": [
       "Index(['symbol', 'name', 'amount', 'volume', 'value', 'lastday', 'open',\n",
       "       'close', 'last-change', 'last-percent', 'ending', 'ending-change',\n",
       "       'ending-percent', 'min', 'max', 'year', 'month', 'day', 'diff_min_max',\n",
       "       'diff_open', 'adj_scale', 'adj_open', 'adj_close', 'adj_ending',\n",
       "       'adj_min', 'adj_max', 'log_adj_open', 'log_adj_close', 'log_adj_ending',\n",
       "       'log_adj_min', 'log_adj_max'],\n",
       "      dtype='object')"
      ]
     },
     "execution_count": 54,
     "metadata": {},
     "output_type": "execute_result"
    }
   ],
   "source": [
    "df2.columns"
   ]
  },
  {
   "cell_type": "code",
   "execution_count": 55,
   "metadata": {
    "ExecuteTime": {
     "end_time": "2019-10-23T21:08:12.236375Z",
     "start_time": "2019-10-23T21:08:12.219624Z"
    }
   },
   "outputs": [
    {
     "data": {
      "text/plain": [
       "date\n",
       "2013-01-13    940.0\n",
       "2013-01-14    909.0\n",
       "2013-01-15    919.0\n",
       "2013-01-16    940.0\n",
       "2013-01-19    970.0\n",
       "              ...  \n",
       "2015-12-23    870.0\n",
       "2015-12-26    854.0\n",
       "2015-12-27    901.0\n",
       "2015-12-28    870.0\n",
       "2015-12-30    897.0\n",
       "Name: close, Length: 684, dtype: float64"
      ]
     },
     "execution_count": 55,
     "metadata": {},
     "output_type": "execute_result"
    }
   ],
   "source": [
    "df2[\"close\"]"
   ]
  },
  {
   "cell_type": "code",
   "execution_count": 40,
   "metadata": {
    "ExecuteTime": {
     "end_time": "2019-10-23T21:04:30.793316Z",
     "start_time": "2019-10-23T21:04:30.786437Z"
    }
   },
   "outputs": [],
   "source": [
    "from sklearn.linear_model import LinearRegression\n",
    "xx =np.array(range(1,len(df2)+1))\n",
    "x = xx.reshape(-1,1)\n",
    "y = df2[\"log_adj_close\"].values\n"
   ]
  },
  {
   "cell_type": "code",
   "execution_count": 45,
   "metadata": {
    "ExecuteTime": {
     "end_time": "2019-10-23T21:06:32.852189Z",
     "start_time": "2019-10-23T21:06:32.842726Z"
    }
   },
   "outputs": [],
   "source": [
    "model = LinearRegression()\n",
    "model.fit(x, y)\n",
    "a=model.coef_\n",
    "b=model.intercept_"
   ]
  },
  {
   "cell_type": "code",
   "execution_count": 47,
   "metadata": {
    "ExecuteTime": {
     "end_time": "2019-10-23T21:07:39.802158Z",
     "start_time": "2019-10-23T21:07:39.790644Z"
    }
   },
   "outputs": [],
   "source": [
    "std=np.std(df2[\"log_adj_close\"])"
   ]
  },
  {
   "cell_type": "code",
   "execution_count": 48,
   "metadata": {
    "ExecuteTime": {
     "end_time": "2019-10-23T21:07:48.259411Z",
     "start_time": "2019-10-23T21:07:47.940478Z"
    }
   },
   "outputs": [
    {
     "data": {
      "image/png": "[encoded data removed]",
      "text/plain": [
       "<Figure size 432x288 with 1 Axes>"
      ]
     },
     "metadata": {
      "needs_background": "light"
     },
     "output_type": "display_data"
    }
   ],
   "source": [
    "plt.plot(xx,a*xx+b)\n",
    "plt.plot(xx,a*xx+b+std)\n",
    "plt.plot(xx,a*xx+b-std)\n",
    "plt.plot(xx,df2[\"log_adj_close\"])\n",
    "plt.show()"
   ]
  },
  {
   "cell_type": "code",
   "execution_count": null,
   "metadata": {
    "ExecuteTime": {
     "end_time": "2019-10-23T20:52:27.497330Z",
     "start_time": "2019-10-23T20:52:27.013314Z"
    },
    "scrolled": false
   },
   "outputs": [],
   "source": [
    "df2.plot()"
   ]
  },
  {
   "cell_type": "code",
   "execution_count": null,
   "metadata": {
    "ExecuteTime": {
     "end_time": "2019-10-17T07:35:03.475348Z",
     "start_time": "2019-10-17T07:35:03.108987Z"
    }
   },
   "outputs": [],
   "source": [
    "df[\"adj_close\"].plot()"
   ]
  },
  {
   "cell_type": "code",
   "execution_count": null,
   "metadata": {
    "ExecuteTime": {
     "end_time": "2019-10-16T12:09:57.392282Z",
     "start_time": "2019-10-16T12:09:57.374424Z"
    }
   },
   "outputs": [],
   "source": [
    "df3=td.add_adjust(df2)"
   ]
  },
  {
   "cell_type": "code",
   "execution_count": null,
   "metadata": {
    "ExecuteTime": {
     "end_time": "2019-10-16T11:58:40.816822Z",
     "start_time": "2019-10-16T11:58:40.580325Z"
    }
   },
   "outputs": [],
   "source": [
    "df=dm.get(\"خساپا\")\n",
    "df.index"
   ]
  },
  {
   "cell_type": "code",
   "execution_count": null,
   "metadata": {
    "ExecuteTime": {
     "end_time": "2019-10-15T11:55:39.299507Z",
     "start_time": "2019-10-15T11:55:35.193636Z"
    }
   },
   "outputs": [],
   "source": [
    "# %%writefile ta_module.py\n",
    "\n",
    "\n",
    "import pandas as pd\n",
    "import numpy as np\n",
    "import plotly.graph_objects as go\n",
    "from datetime import datetime\n",
    "from math import pi\n",
    "import math\n",
    "import trade_model as td\n",
    "import matplotlib.pyplot as plt\n",
    "\n",
    "accepted_error=0.0\n",
    "\n",
    "def find_supports(firstdate,lastdate,stockname=\"خساپا\",minimum_touch=3):\n",
    "    dm=td.DataModel(\"../xcels\",[\"master0.csv\",\"master1.csv\"])\n",
    "    dm.read()\n",
    "    df=dm.get(\"خساپا\",firstdate,lastdate)\n",
    "    stocko=df[\"log_adj_open\"].tolist()\n",
    "    stockc=df[\"log_adj_close\"].tolist()\n",
    "    dates=df.index # for converting startm s to real date .... startm and stopm s are some indexes of stoko array\n",
    "    \n",
    "    lows=[]\n",
    "    lows_price=[]\n",
    "    for j in range(len(stocko)): \n",
    "        minimum=min(stocko[j],stockc[j])\n",
    "        if ( (j >10) and (j+10 < len(stocko)) ):\n",
    "            if (minimum<=min(stocko[j-10:j+10]) and minimum<=min(stockc[j-10:j+10])):\n",
    "                lows.append(j)\n",
    "                lows_price.append(minimum)\n",
    "\n",
    "        #finding the best lines \n",
    "    # cnt = numbers of line segments\n",
    "    cnt=0\n",
    "    # start and stop[cnt] = start poit in x axes and stop point for each line segments\n",
    "    startm=[]\n",
    "    stopm=[]\n",
    "    checkedpoint=[]\n",
    "    lastpoint=0\n",
    "    count_max=0\n",
    "    a_maxm=[]\n",
    "    b_maxm=[]\n",
    "    xarr=lows\n",
    "    yarr=lows_price\n",
    "    max_last=0\n",
    "    # all tangents from 80 to -80 digree . i will break them in to 1000 pieces\n",
    "    digree=np.linspace(-80,80,1000)\n",
    "    digrees=np.tan(digree*pi / 180)\n",
    "\n",
    "\n",
    "    for point in range(len(xarr)) :\n",
    "        max_last=0\n",
    "        count_max=0\n",
    "    #  x and y are the ones of this point\n",
    "        x=xarr[point]\n",
    "        y=yarr[point]\n",
    "    # for this point i am breaking the line into 100 pieces\n",
    "        b_fakes=np.linspace(y-15,y+15,100)  \n",
    "        for b in b_fakes:\n",
    "            for a in digrees:\n",
    "                count=0\n",
    "                for p in range(point+1,len(xarr)):\n",
    "                #  x_ and y_ s are for all next points in new dimensions !!\n",
    "                    x_ = xarr[p]-x\n",
    "                    y_ = yarr[p]\n",
    "                    if((x_*a+b>=y_-15) and (x_*a+b<=y_+15)):\n",
    "                        count+=1\n",
    "                        lastpoint=xarr[p]\n",
    "                    elif (y_+10 < x_*a+b ):\n",
    "                        break\n",
    "                if(count>count_max):\n",
    "                    max_last=lastpoint # max last baraye save kardane lastpointi ke niaz darime . maxof_a , b ham hamintor\n",
    "                    count_max=count\n",
    "                    maxof_a=a\n",
    "                    maxof_b=b\n",
    "                lastpoint=0\n",
    "\n",
    "    #   if this start point include a line that touch three points: count_max are the number of other points (=2) . so it should be >= minimum touch -1\n",
    "        if(count_max>=minimum_touch-1):\n",
    "            repetitious=False\n",
    "            a_in_radian=math.atan(maxof_a)\n",
    "            a_in_degree=math.degrees(a_in_radian)\n",
    "            for cnt in range(len(a_maxm)):\n",
    "                if((math.degrees(math.atan(a_maxm[cnt])) >= a_in_degree -5) and \n",
    "                   (math.degrees(math.atan(a_maxm[cnt])) <= a_in_degree +5) and\n",
    "                   (stopm[cnt]==max_last)):\n",
    "                    repetitious=True\n",
    "\n",
    "            if(not(repetitious)):\n",
    "                a_maxm.append(maxof_a)\n",
    "                b_maxm.append(maxof_a*(-x)+maxof_b)\n",
    "                startm.append(x)\n",
    "                stopm.append(max_last)\n",
    "    \n",
    "#     dates[startm]  because we wanna return exact date\n",
    "    return dates[startm],dates[stopm],a_maxm,b_maxm,df\n",
    "\n",
    "\n",
    "def find_resistances(firstdate,lastdate,stockname=\"خساپا\",minimum_touch=3):\n",
    "    dm=td.DataModel(\"../xcels\",[\"master0.csv\",\"master1.csv\"])\n",
    "    dm.read()\n",
    "    df=dm.get(stockname,firstdate,lastdate)\n",
    "   \n",
    "    stocko=df[\"open\"].tolist()\n",
    "    stockc=df[\"close\"].tolist()\n",
    "    dates=df.index # for converting startm s to real date .... startm and stopm s are some indexes of stoko array\n",
    "    \n",
    "\n",
    "    highs=[]\n",
    "    highs_price=[]\n",
    "    for j in range(len(stocko)): \n",
    "        maximum=max(stocko[j],stockc[j])\n",
    "        if ( (j >10) and (j+10 < len(stocko)) ):\n",
    "            if (maximum>=max(stocko[j-10:j+10]) and maximum>=max(stockc[j-10:j+10])):\n",
    "                highs.append(j)\n",
    "                highs_price.append(maximum)\n",
    "\n",
    "    #finding the best lines \n",
    "    # cnt = numbers of line segments\n",
    "    cnt=0\n",
    "    # start and stop[cnt] = start poit in x axes and stop point for each line segments\n",
    "    start=[]\n",
    "    stop=[]\n",
    "    checkedpoint=[]\n",
    "    lastpoint=0\n",
    "    count_max=0\n",
    "    a_max=[]\n",
    "    b_max=[]\n",
    "    xarr=highs\n",
    "    yarr=highs_price\n",
    "    max_last=0\n",
    "    # all tangents from 80 to -80 digree . i will break them in to 1000 pieces\n",
    "    digree=np.linspace(-80,80,1000)\n",
    "    digrees=np.tan(digree*pi / 180)\n",
    "\n",
    "\n",
    "    for point in range(len(xarr)) :\n",
    "        max_last=0\n",
    "        count_max=0\n",
    "    #  x and y are the ones of this point\n",
    "        x=xarr[point]\n",
    "        y=yarr[point]\n",
    "    # for this point i am breaking the line into 100 pieces\n",
    "        b_fakes=np.linspace(y-15,y+15,100)  \n",
    "        for b in b_fakes:\n",
    "            for a in digrees:\n",
    "                count=0\n",
    "                for p in range(point+1,len(xarr)):\n",
    "                #  x_ and y_ s are for all next points in new dimensions !!\n",
    "                    x_ = xarr[p]-x\n",
    "                    y_ = yarr[p]\n",
    "                    if((x_*a+b>=y_-15) and (x_*a+b<=y_+15)):\n",
    "                        count+=1\n",
    "                        lastpoint=xarr[p]\n",
    "                    elif (y_-10 > x_*a+b ):\n",
    "                        break\n",
    "                if(count>count_max):\n",
    "                    max_last=lastpoint # max last baraye save kardane lastpointi ke niaz darime . maxof_a , b ham hamintor\n",
    "                    count_max=count\n",
    "                    maxof_a=a\n",
    "                    maxof_b=b\n",
    "                lastpoint=0\n",
    "\n",
    "    #   if this start point include a line that touch three points: count_max are the number of other points .\n",
    "        if(count_max>=minimum_touch-1):\n",
    "            repetitious=False\n",
    "            a_in_radian=math.atan(maxof_a)\n",
    "            a_in_degree=math.degrees(a_in_radian)\n",
    "            for cnt in range(len(a_max)):\n",
    "                if((math.degrees(math.atan(a_max[cnt])) >= a_in_degree -5) and \n",
    "                   (math.degrees(math.atan(a_max[cnt])) <= a_in_degree +5) and\n",
    "                   (stop[cnt]==max_last)):\n",
    "                    repetitious=True\n",
    "\n",
    "            if(not(repetitious)):\n",
    "                a_max.append(maxof_a)\n",
    "                b_max.append(maxof_a*(-x)+maxof_b)\n",
    "                start.append(x)\n",
    "                stop.append(max_last)\n",
    "    #     dates[startm]  because we wanna return exact date\n",
    "    return dates[start],dates[stop],a_max,b_max,df"
   ]
  },
  {
   "cell_type": "code",
   "execution_count": null,
   "metadata": {
    "ExecuteTime": {
     "end_time": "2019-10-15T11:56:46.403982Z",
     "start_time": "2019-10-15T11:55:42.926702Z"
    }
   },
   "outputs": [],
   "source": [
    "startm,stopm,a,b,df=find_supports(\"1392-01-01\",\"1398-06-20\",\"خساپا\")"
   ]
  },
  {
   "cell_type": "code",
   "execution_count": null,
   "metadata": {
    "ExecuteTime": {
     "end_time": "2019-10-15T12:01:54.337119Z",
     "start_time": "2019-10-15T12:00:41.332947Z"
    }
   },
   "outputs": [],
   "source": [
    "start,stop,aa,bb,_=find_resistances(\"1392-01-01\",\"1398-06-20\",\"خساپا\")"
   ]
  },
  {
   "cell_type": "raw",
   "metadata": {},
   "source": [
    "# %matplotlib inline\n",
    "import matplotlib.pyplot as plt\n",
    "import time\n",
    "plt.style.use('seaborn-whitegrid')\n",
    "x=np.arange(len(stocko))\n",
    "# plt.scatter(highs, highs_price ,c=\"r\")\n",
    "# plt.scatter(lows, lows_price ,c=\"g\")\n",
    "for cnt in range(len(indexes)):\n",
    "    \n",
    "    plt.figure(num=None, figsize=(8, 4), dpi=150)\n",
    "    plt.xlim(0,1500)\n",
    "    plt.ylim(500,2500)\n",
    "    plt.xlabel('Day number')\n",
    "    plt.ylabel('Price')\n",
    "    plt.title(\"This is Price tunnel number {}\".format(cnt+1))\n",
    "\n",
    "    xx=np.linspace(start[indexes[cnt][0]],stop[indexes[cnt][0]]+50,dtype=float)\n",
    "    plt.plot(xx,a_max[indexes[cnt][0]] * xx +b_max[indexes[cnt][0]] , linestyle=\"-\",c=\"b\")\n",
    "\n",
    "    xx=np.linspace(startm[indexes[cnt][1]],stopm[indexes[cnt][1]]+50,dtype=float)\n",
    "    plt.plot(xx,a_maxm[indexes[cnt][1]] * xx +b_maxm[indexes[cnt][1]] , linestyle=\"-.\",c=\"r\")\n",
    "    plt.plot(x,stockc,linestyle=\"-\",c=\"k\")\n",
    "    plt.savefig(\"../trade/Chart images/price_tunnel {}\".format(cnt+1))\n",
    "    plt.show()"
   ]
  },
  {
   "cell_type": "code",
   "execution_count": null,
   "metadata": {
    "ExecuteTime": {
     "end_time": "2019-10-10T15:56:36.515969Z",
     "start_time": "2019-10-10T15:56:36.490464Z"
    }
   },
   "outputs": [],
   "source": [
    "df.iloc[startm[0]]\n"
   ]
  },
  {
   "cell_type": "code",
   "execution_count": null,
   "metadata": {
    "ExecuteTime": {
     "end_time": "2019-10-10T15:18:12.235303Z",
     "start_time": "2019-10-10T15:18:12.159454Z"
    }
   },
   "outputs": [],
   "source": [
    "st"
   ]
  },
  {
   "cell_type": "code",
   "execution_count": null,
   "metadata": {
    "ExecuteTime": {
     "end_time": "2019-10-10T16:17:18.024477Z",
     "start_time": "2019-10-10T16:17:18.006828Z"
    },
    "scrolled": true
   },
   "outputs": [],
   "source": [
    "print(df.loc[startm[0]])\n"
   ]
  },
  {
   "cell_type": "code",
   "execution_count": null,
   "metadata": {
    "ExecuteTime": {
     "end_time": "2019-10-15T13:10:50.098265Z",
     "start_time": "2019-10-15T13:10:48.575477Z"
    },
    "scrolled": false
   },
   "outputs": [],
   "source": [
    "plt.figure(figsize=(16,8),dpi=150)\n",
    "df[\"close\"].plot()\n"
   ]
  },
  {
   "cell_type": "code",
   "execution_count": null,
   "metadata": {
    "ExecuteTime": {
     "end_time": "2019-10-10T13:55:06.683472Z",
     "start_time": "2019-10-10T13:55:06.571613Z"
    }
   },
   "outputs": [],
   "source": [
    "df"
   ]
  }
 ],
 "metadata": {
  "kernelspec": {
   "display_name": "Python 3",
   "language": "python",
   "name": "python3"
  },
  "language_info": {
   "codemirror_mode": {
    "name": "ipython",
    "version": 3
   },
   "file_extension": ".py",
   "mimetype": "text/x-python",
   "name": "python",
   "nbconvert_exporter": "python",
   "pygments_lexer": "ipython3",
   "version": "3.6.8"
  },
  "toc": {
   "base_numbering": 1,
   "nav_menu": {},
   "number_sections": false,
   "sideBar": false,
   "skip_h1_title": false,
   "title_cell": "Table of Contents",
   "title_sidebar": "Contents",
   "toc_cell": false,
   "toc_position": {},
   "toc_section_display": false,
   "toc_window_display": false
  }
 },
 "nbformat": 4,
 "nbformat_minor": 2
}
