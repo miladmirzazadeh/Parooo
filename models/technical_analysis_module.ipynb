{
 "cells": [
  {
   "cell_type": "code",
   "execution_count": 9,
   "metadata": {},
   "outputs": [],
   "source": [
    "from data_provider import DataModel\n",
    "dm = DataModel()\n",
    "dm.read_from_csvs(\"../../xcels\",[\"master0.csv\",\"master1.csv\"])"
   ]
  },
  {
   "cell_type": "code",
   "execution_count": 10,
   "metadata": {},
   "outputs": [
    {
     "name": "stderr",
     "output_type": "stream",
     "text": [
      "2020-01-01 10:25:36.002 | DEBUG    | data_provider:get:171 - symbol is not scaled: خپارس\n",
      "2020-01-01 10:25:36.006 | DEBUG    | data_provider:adjust_and_log:57 - calculating scale\n",
      "2020-01-01 10:25:36.029 | DEBUG    | data_provider:adjust_and_log:59 - adding adjust\n",
      "2020-01-01 10:25:36.031 | DEBUG    | data_provider:add_adjust:28 - new part len is 3459, shape: (3459,)\n",
      "2020-01-01 10:25:36.065 | DEBUG    | data_provider:add_adjust:38 - found adj date: 2009-06-08 00:00:00\n",
      "2020-01-01 10:25:36.075 | DEBUG    | data_provider:add_adjust:38 - found adj date: 2010-07-05 00:00:00\n",
      "2020-01-01 10:25:36.084 | DEBUG    | data_provider:add_adjust:38 - found adj date: 2011-07-05 00:00:00\n",
      "2020-01-01 10:25:36.094 | DEBUG    | data_provider:add_adjust:38 - found adj date: 2012-06-23 00:00:00\n",
      "2020-01-01 10:25:36.104 | DEBUG    | data_provider:add_adjust:38 - found adj date: 2014-05-26 00:00:00\n",
      "2020-01-01 10:25:36.113 | DEBUG    | data_provider:add_adjust:38 - found adj date: 2016-11-15 00:00:00\n",
      "2020-01-01 10:25:36.123 | DEBUG    | data_provider:adjust_and_log:61 - adding log\n",
      "2020-01-01 10:25:36.158 | DEBUG    | data_provider:adjust_and_log:63 - done adj and log\n"
     ]
    }
   ],
   "source": [
    "df = dm.get(dm.TA_SYMBOLS[0],\"1390-01-01\")"
   ]
  },
  {
   "cell_type": "code",
   "execution_count": 172,
   "metadata": {},
   "outputs": [
    {
     "data": {
      "text/plain": [
       "Index(['symbol', 'name', 'amount', 'volume', 'value', 'lastday', 'open',\n",
       "       'close', 'last-change', 'last-percent', 'ending', 'ending-change',\n",
       "       'ending-percent', 'min', 'max', 'year', 'month', 'day', 'diff_min_max',\n",
       "       'diff_open', 'adj_min', 'adj_max', 'adj_close', 'adj_open',\n",
       "       'adj_ending', 'log_adj_open', 'log_adj_close', 'log_adj_ending',\n",
       "       'log_adj_min', 'log_adj_max', 'adj_scale'],\n",
       "      dtype='object')"
      ]
     },
     "execution_count": 172,
     "metadata": {},
     "output_type": "execute_result"
    }
   ],
   "source": [
    "df.columns"
   ]
  },
  {
   "cell_type": "code",
   "execution_count": 72,
   "metadata": {
    "ExecuteTime": {
     "end_time": "2019-10-15T11:55:39.299507Z",
     "start_time": "2019-10-15T11:55:35.193636Z"
    }
   },
   "outputs": [],
   "source": [
    "# %%writefile ta_module.py\n",
    "\n",
    "\n",
    "import pandas as pd\n",
    "import numpy as np\n",
    "import plotly.graph_objects as go\n",
    "from datetime import datetime\n",
    "from math import pi\n",
    "import math\n",
    "import matplotlib.pyplot as plt\n",
    "\n",
    "accepted_error=0.02\n",
    "\n",
    "#########################################################################\n",
    "#########################################################################\n",
    "#########################################################################\n",
    "#########################################################################\n",
    "\n",
    "\n",
    "def find_supports(df,minimum_touch=3):\n",
    "    stocko=df[\"log_adj_open\"].tolist()\n",
    "    stockc=df[\"log_adj_close\"].tolist()\n",
    "    dates=df.index # for converting startm s to real date .... startm and stopm s are some indexes of stoko array\n",
    "    \n",
    "    lows=[]\n",
    "    lows_price=[]\n",
    "    for j in range(len(stocko)): \n",
    "        minimum=min(stocko[j],stockc[j])\n",
    "        if ( (j >10) and (j+10 < len(stocko)) ):\n",
    "            if (minimum<=min(stocko[j-10:j+10]) and minimum<=min(stockc[j-10:j+10])):\n",
    "                lows.append(j)\n",
    "                lows_price.append(minimum)\n",
    "\n",
    "        #finding the best lines \n",
    "    # cnt = numbers of line segments\n",
    "    cnt=0\n",
    "    # start and stop[cnt] = start poit in x axes and stop point for each line segments\n",
    "    startm=[]\n",
    "    stopm=[]\n",
    "    checkedpoint=[]\n",
    "    lastpoint=0\n",
    "    count_max=0\n",
    "    a_maxm=[]\n",
    "    b_maxm=[]\n",
    "    xarr=lows\n",
    "    yarr=lows_price\n",
    "    max_last=0\n",
    "    # all tangents from 0.04 to -0.04 digree . i will break them in to 1000 pieces this is too short because we're using log numbers\n",
    "    digree=np.linspace(-0.05,0.05,1000)\n",
    "    coefs=np.tan(digree*pi / 180)\n",
    "\n",
    "\n",
    "    for point in range(len(xarr)) :\n",
    "        max_last=0  \n",
    "        count_max=0\n",
    "    #  x and y are the ones of this point\n",
    "        x=xarr[point]\n",
    "        y=yarr[point]\n",
    "    # for this point i am breaking the line into 100 pieces\n",
    "#         b_fakes=np.linspace(y-(y*accepted_error),y+(y*accepted_error),100)\n",
    "        b_fakes=np.linspace(math.log10((10**y)-((10**y)*accepted_error)),math.log10((10**y)+((10**y)*accepted_error)),100)\n",
    "        for b in b_fakes:\n",
    "            for a in coefs:\n",
    "                count=0\n",
    "                for p in range(point+1,len(xarr)):\n",
    "                #  x_ and y_ s are for all next points in new dimensions !!\n",
    "                    x_ = xarr[p]-x\n",
    "                    y_ = yarr[p]\n",
    "                    if(x_*a+b>=math.log10((10**y_)-((10**y_)*accepted_error))) and (x_*a+b<=math.log10((10**y_)+((10**y_)*accepted_error))):\n",
    "#                     if((x_*a+b>=y_-(y_*accepted_error)) and (x_*a+b<=y_+(y_*accepted_error))):\n",
    "                        count+=1\n",
    "                        lastpoint=xarr[p]\n",
    "                    elif (math.log10((10**y_)+((10**y_)*accepted_error)) < x_*a+b ): \n",
    "#                     elif (y_+(y_*accepted_error) < x_*a+b ):\n",
    "                        break\n",
    "                if(count>count_max):\n",
    "                    max_last=lastpoint # max last baraye save kardane lastpointi ke niaz darime . maxof_a , b ham hamintor\n",
    "                    count_max=count\n",
    "                    maxof_a=a\n",
    "                    maxof_b=b\n",
    "                lastpoint=0\n",
    "\n",
    "    #   if this start point include a line that touch three points: count_max are the number of other points (=2) . so it should be >= minimum touch -1\n",
    "        if(count_max>=minimum_touch-1):\n",
    "            repetitious=False\n",
    "            a_in_radian=math.atan(maxof_a)\n",
    "            a_in_degree=math.degrees(a_in_radian)\n",
    "            for cnt in range(len(a_maxm)):\n",
    "                if((math.degrees(math.atan(a_maxm[cnt])) >= a_in_degree -0.004) and \n",
    "                   (math.degrees(math.atan(a_maxm[cnt])) <= a_in_degree +0.004) and\n",
    "                   (stopm[cnt]==max_last)):\n",
    "                    repetitious=True\n",
    "\n",
    "            if(not(repetitious)):\n",
    "                a_maxm.append(maxof_a)\n",
    "                b_maxm.append(maxof_a*(-x)+maxof_b)\n",
    "                startm.append(x)\n",
    "                stopm.append(max_last)\n",
    "    \n",
    "#     dates[startm]  because we wanna return exact date\n",
    "    return startm,stopm,a_maxm,b_maxm,lows\n",
    "\n",
    "\n",
    "#########################################################################\n",
    "#########################################################################\n",
    "#########################################################################\n",
    "#########################################################################\n",
    "\n",
    "def find_resistances(df,minimum_touch=3):\n",
    "    stocko=df[\"adj_open\"].tolist()\n",
    "    stockc=df[\"adj_close\"].tolist()\n",
    "    dates=df.index # for converting startm s to real date .... startm and stopm s are some indexes of stoko array\n",
    "    \n",
    "\n",
    "    highs=[]\n",
    "    highs_price=[]\n",
    "    for j in range(len(stocko)): \n",
    "        maximum=max(stocko[j],stockc[j])\n",
    "        if ( (j >10) and (j+10 < len(stocko)) ):\n",
    "            if (maximum>=max(stocko[j-10:j+10]) and maximum>=max(stockc[j-10:j+10])):\n",
    "                highs.append(j)\n",
    "                highs_price.append(maximum)\n",
    "\n",
    "    #finding the best lines \n",
    "    # cnt = numbers of line segments\n",
    "    cnt=0\n",
    "    # start and stop[cnt] = start poit in x axes and stop point for each line segments\n",
    "    start=[]\n",
    "    stop=[]\n",
    "    checkedpoint=[]\n",
    "    lastpoint=0\n",
    "    count_max=0\n",
    "    a_max = []\n",
    "    b_max= []\n",
    "    xarr = highs\n",
    "    yarr = highs_price\n",
    "    max_last = 0\n",
    "    # all tangents from 80 to -80 digree . i will break them in to 1000 pieces\n",
    "    digree=np.linspace(-80,80,1000)\n",
    "    digrees=np.tan(digree*pi / 180)\n",
    "\n",
    "\n",
    "    for point in range(len(xarr)) :\n",
    "        max_last=0\n",
    "        count_max=0\n",
    "    #  x and y are the ones of this point\n",
    "        x=xarr[point]\n",
    "        y=yarr[point]\n",
    "    # for this point i am breaking the line into 100 pieces\n",
    "        b_fakes=np.linspace(y-15,y+15,100)  \n",
    "        for b in b_fakes:\n",
    "            for a in digrees:\n",
    "                count=0\n",
    "                for p in range(point+1,len(xarr)):\n",
    "                #  x_ and y_ s are for all next points in new dimensions !!\n",
    "                    x_ = xarr[p]-x\n",
    "                    y_ = yarr[p]\n",
    "                    if((x_*a+b>=y_-15) and (x_*a+b<=y_+15)):\n",
    "                        count+=1\n",
    "                        lastpoint=xarr[p]\n",
    "                    elif (y_-15 > x_*a+b ):\n",
    "                        break\n",
    "                if(count>count_max):\n",
    "                    max_last=lastpoint # max last baraye save kardane lastpointi ke niaz darime . maxof_a , b ham hamintor\n",
    "                    count_max=count\n",
    "                    maxof_a=a\n",
    "                    maxof_b=b\n",
    "                lastpoint=0\n",
    "\n",
    "    #   if this start point include a line that touch three points: count_max are the number of other points .\n",
    "        if(count_max>=minimum_touch-1):\n",
    "            repetitious=False\n",
    "            a_in_radian=math.atan(maxof_a)\n",
    "            a_in_degree=math.degrees(a_in_radian)\n",
    "            for cnt in range(len(a_max)):\n",
    "                if((math.degrees(math.atan(a_max[cnt])) >= a_in_degree -5) and \n",
    "                   (math.degrees(math.atan(a_max[cnt])) <= a_in_degree +5) and\n",
    "                   (stop[cnt]==max_last)):\n",
    "                    repetitious=True\n",
    "\n",
    "            if(not(repetitious)):\n",
    "                a_max.append(maxof_a)\n",
    "                b_max.append(maxof_a*(-x)+maxof_b)\n",
    "                start.append(x)\n",
    "                stop.append(max_last)\n",
    "    #     dates[startm]  because we wanna return exact date\n",
    "#     start_dates=df.iloc[start].index\n",
    "    return start,stop,a_max,b_max"
   ]
  },
  {
   "cell_type": "code",
   "execution_count": 2,
   "metadata": {
    "collapsed": true,
    "jupyter": {
     "outputs_hidden": true
    }
   },
   "outputs": [
    {
     "name": "stderr",
     "output_type": "stream",
     "text": [
      "2020-01-10 10:41:05.781 | DEBUG    | data_provider:get:172 - symbol is not scaled: خپارس\n",
      "2020-01-10 10:41:05.796 | DEBUG    | data_provider:adjust_and_log:57 - start adjust and log for خپارس\n",
      "2020-01-10 10:41:05.798 | DEBUG    | data_provider:adjust_and_log:58 - calculating scale\n",
      "2020-01-10 10:41:05.841 | DEBUG    | data_provider:adjust_and_log:60 - adding adjust\n",
      "2020-01-10 10:41:05.843 | DEBUG    | data_provider:add_adjust:28 - new part len is 3459, shape: (3459,)\n",
      "2020-01-10 10:41:05.877 | DEBUG    | data_provider:add_adjust:38 - found adj date: 2009-06-08 00:00:00\n",
      "2020-01-10 10:41:05.889 | DEBUG    | data_provider:add_adjust:38 - found adj date: 2010-07-05 00:00:00\n",
      "2020-01-10 10:41:05.896 | DEBUG    | data_provider:add_adjust:38 - found adj date: 2011-07-05 00:00:00\n",
      "2020-01-10 10:41:05.903 | DEBUG    | data_provider:add_adjust:38 - found adj date: 2012-06-23 00:00:00\n",
      "2020-01-10 10:41:05.911 | DEBUG    | data_provider:add_adjust:38 - found adj date: 2014-05-26 00:00:00\n",
      "2020-01-10 10:41:05.918 | DEBUG    | data_provider:add_adjust:38 - found adj date: 2016-11-15 00:00:00\n",
      "2020-01-10 10:41:05.927 | DEBUG    | data_provider:adjust_and_log:62 - adding log\n",
      "2020-01-10 10:41:05.962 | DEBUG    | data_provider:adjust_and_log:64 - done adj and log\n"
     ]
    }
   ],
   "source": [
    "from data_provider import DataModel\n",
    "dm = DataModel()\n",
    "dm.read_from_csvs(\"../../xcels\",[\"master0.csv\",\"master1.csv\"])\n",
    "df = dm.get(dm.TA_SYMBOLS[0],\"1395-01-01\",\"1396-01-01\")"
   ]
  },
  {
   "cell_type": "code",
   "execution_count": 45,
   "metadata": {},
   "outputs": [
    {
     "data": {
      "text/plain": [
       "'خپارس'"
      ]
     },
     "execution_count": 45,
     "metadata": {},
     "output_type": "execute_result"
    }
   ],
   "source": [
    "dm.TA_SYMBOLS[0]"
   ]
  },
  {
   "cell_type": "code",
   "execution_count": 73,
   "metadata": {
    "ExecuteTime": {
     "end_time": "2019-10-15T11:56:46.403982Z",
     "start_time": "2019-10-15T11:55:42.926702Z"
    }
   },
   "outputs": [],
   "source": [
    "start,stop,a,b,lows=find_supports(df)"
   ]
  },
  {
   "cell_type": "code",
   "execution_count": 76,
   "metadata": {},
   "outputs": [
    {
     "data": {
      "image/png": "[encoded data removed]",
      "text/plain": [
       "<Figure size 1080x504 with 1 Axes>"
      ]
     },
     "metadata": {
      "needs_background": "light"
     },
     "output_type": "display_data"
    }
   ],
   "source": [
    "import matplotlib.pyplot as plt\n",
    "plt.figure(figsize=(15,7))\n",
    "plt.plot(np.arange(len(df)),df.log_adj_close)\n",
    "for i in range(len(start)):\n",
    "    \n",
    "    plt.plot([start[i],stop[i]],[a[i]*start[i]+b[i],a[i]*stop[i]+b[i]])"
   ]
  },
  {
   "cell_type": "code",
   "execution_count": 19,
   "metadata": {},
   "outputs": [
    {
     "data": {
      "text/plain": [
       "5.004786340466468e-05"
      ]
     },
     "execution_count": 19,
     "metadata": {},
     "output_type": "execute_result"
    }
   ],
   "source": [
    "a_in_radian=math.atan(8.735e-7)\n",
    "a_in_degree=math.degrees(a_in_radian)\n",
    "a_in_degree"
   ]
  },
  {
   "cell_type": "code",
   "execution_count": 41,
   "metadata": {
    "ExecuteTime": {
     "end_time": "2019-10-15T12:01:54.337119Z",
     "start_time": "2019-10-15T12:00:41.332947Z"
    }
   },
   "outputs": [
    {
     "data": {
      "text/plain": [
       "2.0"
      ]
     },
     "execution_count": 41,
     "metadata": {},
     "output_type": "execute_result"
    }
   ],
   "source": [
    "math.log10(100)"
   ]
  },
  {
   "cell_type": "code",
   "execution_count": 23,
   "metadata": {},
   "outputs": [
    {
     "data": {
      "text/plain": [
       "[-0.0008726648475212713,\n",
       " -0.0008639294592936493,\n",
       " -0.0004883078725776307,\n",
       " -0.0002804057580449762,\n",
       " 0.0007468752692325392]"
      ]
     },
     "execution_count": 23,
     "metadata": {},
     "output_type": "execute_result"
    }
   ],
   "source": [
    "a"
   ]
  },
  {
   "cell_type": "raw",
   "metadata": {},
   "source": [
    "# %matplotlib inline\n",
    "import matplotlib.pyplot as plt\n",
    "import time\n",
    "plt.style.use('seaborn-whitegrid')\n",
    "x=np.arange(len(stocko))\n",
    "# plt.scatter(highs, highs_price ,c=\"r\")\n",
    "# plt.scatter(lows, lows_price ,c=\"g\")\n",
    "for cnt in range(len(indexes)):\n",
    "    \n",
    "    plt.figure(num=None, figsize=(8, 4), dpi=150)\n",
    "    plt.xlim(0,1500)\n",
    "    plt.ylim(500,2500)\n",
    "    plt.xlabel('Day number')\n",
    "    plt.ylabel('Price')\n",
    "    plt.title(\"This is Price tunnel number {}\".format(cnt+1))\n",
    "\n",
    "    xx=np.linspace(start[indexes[cnt][0]],stop[indexes[cnt][0]]+50,dtype=float)\n",
    "    plt.plot(xx,a_max[indexes[cnt][0]] * xx +b_max[indexes[cnt][0]] , linestyle=\"-\",c=\"b\")\n",
    "\n",
    "    xx=np.linspace(startm[indexes[cnt][1]],stopm[indexes[cnt][1]]+50,dtype=float)\n",
    "    plt.plot(xx,a_maxm[indexes[cnt][1]] * xx +b_maxm[indexes[cnt][1]] , linestyle=\"-.\",c=\"r\")\n",
    "    plt.plot(x,stockc,linestyle=\"-\",c=\"k\")\n",
    "    plt.savefig(\"../trade/Chart images/price_tunnel {}\".format(cnt+1))\n",
    "    plt.show()"
   ]
  }
 ],
 "metadata": {
  "kernelspec": {
   "display_name": "Python 3",
   "language": "python",
   "name": "python3"
  },
  "language_info": {
   "codemirror_mode": {
    "name": "ipython",
    "version": 3
   },
   "file_extension": ".py",
   "mimetype": "text/x-python",
   "name": "python",
   "nbconvert_exporter": "python",
   "pygments_lexer": "ipython3",
   "version": "3.6.9"
  },
  "toc": {
   "base_numbering": 1,
   "nav_menu": {},
   "number_sections": false,
   "sideBar": false,
   "skip_h1_title": false,
   "title_cell": "Table of Contents",
   "title_sidebar": "Contents",
   "toc_cell": false,
   "toc_position": {},
   "toc_section_display": false,
   "toc_window_display": false
  }
 },
 "nbformat": 4,
 "nbformat_minor": 4
}
