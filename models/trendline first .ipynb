{
 "cells": [
  {
   "cell_type": "code",
   "execution_count": 9,
   "metadata": {},
   "outputs": [],
   "source": [
    "from data_provider import DataModel\n",
    "dm = DataModel()\n",
    "dm.read_from_csvs(\"../../xcels\", [\"master0.csv\", \"master1.csv\"])"
   ]
  },
  {
   "cell_type": "code",
   "execution_count": 467,
   "metadata": {},
   "outputs": [],
   "source": [
    "df = dm.get(dm.TA_SYMBOLS[0], \"1397-01-01\" , \"1398-01-01\")"
   ]
  },
  {
   "cell_type": "code",
   "execution_count": 172,
   "metadata": {},
   "outputs": [
    {
     "data": {
      "text/plain": [
       "Index(['symbol', 'name', 'amount', 'volume', 'value', 'lastday', 'open',\n",
       "       'close', 'last-change', 'last-percent', 'ending', 'ending-change',\n",
       "       'ending-percent', 'min', 'max', 'year', 'month', 'day', 'diff_min_max',\n",
       "       'diff_open', 'adj_min', 'adj_max', 'adj_close', 'adj_open',\n",
       "       'adj_ending', 'log_adj_open', 'log_adj_close', 'log_adj_ending',\n",
       "       'log_adj_min', 'log_adj_max', 'adj_scale'],\n",
       "      dtype='object')"
      ]
     },
     "execution_count": 172,
     "metadata": {},
     "output_type": "execute_result"
    }
   ],
   "source": [
    "df.columns"
   ]
  },
  {
   "cell_type": "code",
   "execution_count": 35,
   "metadata": {
    "ExecuteTime": {
     "end_time": "2019-10-15T11:55:39.299507Z",
     "start_time": "2019-10-15T11:55:35.193636Z"
    }
   },
   "outputs": [],
   "source": [
    "# %%writefile ta_module.py\n",
    "\n",
    "\n",
    "import pandas as pd\n",
    "import numpy as np\n",
    "import plotly.graph_objects as go\n",
    "from datetime import datetime\n",
    "from math import pi\n",
    "import math\n",
    "import matplotlib.pyplot as plt\n",
    "\n",
    "accepted_error = 0.03\n",
    "\n",
    "#########################################################################\n",
    "#########################################################################\n",
    "#########################################################################\n",
    "#########################################################################\n",
    "\n",
    "\n",
    "def find_supports(df, minimum_touch = 3):\n",
    "    stocko = df[\"log_adj_open\"].tolist()\n",
    "    stockc = df[\"log_adj_close\"].tolist()\n",
    "    dates = df.index # for converting startm s to real date .... startm and stopm s are some indexes of stoko array\n",
    "    \n",
    "    lows = []\n",
    "    lows_price = []\n",
    "    for j in range(len(stocko)): \n",
    "#         minimum = min(stocko[j], stockc[j])\n",
    "        if ( (j >10) and (j+10 < len(stocko)) ):\n",
    "            if (stockc[j]<= min(stockc[j-10:j+10])):\n",
    "#             if (minimum<= min(stocko[j-10:j+10]) and minimum<= min(stockc[j-10:j+10])):\n",
    "                lows.append(j)\n",
    "                lows_price.append(stockc[j])\n",
    "\n",
    "        #finding the best lines \n",
    "    # cnt = numbers of line segments\n",
    "    cnt = 0\n",
    "    # start and stop[cnt] = start poit in x axes and stop point for each line segments\n",
    "    startm = []\n",
    "    stopm = []\n",
    "    checkedpoint = []\n",
    "    lastpoint = 0\n",
    "    count_max = 0\n",
    "    a_maxm = []\n",
    "    b_maxm = []\n",
    "    xarr = lows\n",
    "    yarr = lows_price\n",
    "    max_last = 0\n",
    "    # all tangents from 0.04 to -0.04 digree . i will break them in to 1000 pieces this is too short because we're using log numbers\n",
    "    digree = np.linspace(-0.05, 0.05, 1000)\n",
    "    coefs = np.tan(digree * pi / 180)\n",
    "\n",
    "\n",
    "    for point in range(len(xarr)) :\n",
    "        max_last = 0  \n",
    "        count_max = 0\n",
    "    #  x and y are the ones of this point\n",
    "        x = xarr[point]\n",
    "        y = yarr[point]\n",
    "    # for this point i am breaking the line into 100 pieces\n",
    "#         b_fakes = np.linspace(y-(y * accepted_error), y+(y * accepted_error), 100)\n",
    "        b_fakes = np.linspace(math.log10((10 ** y)-((10 ** y) * accepted_error)), math.log10((10 ** y)+((10 ** y) * accepted_error)), 100)\n",
    "        for b in b_fakes:\n",
    "            for a in coefs:\n",
    "                count = 0\n",
    "                for p in range(point+1, len(xarr)):\n",
    "                #  x_ and y_ s are for all next points in new dimensions !!\n",
    "                    x_ = xarr[p]-x\n",
    "                    y_ = yarr[p]\n",
    "                    if(x_ * a+b >= math.log10((10 ** y_)-((10 ** y_) * accepted_error))) and (x_ * a+b<= math.log10((10 ** y_)+((10 ** y_) * accepted_error))):\n",
    "#                     if((x_ * a+b >= y_-(y_ * accepted_error)) and (x_ * a+b<= y_+(y_ * accepted_error))):\n",
    "                        count+= 1\n",
    "                        lastpoint = xarr[p]\n",
    "                    elif (math.log10((10 ** y_)+((10 ** y_) * accepted_error)) < x_ * a+b ): \n",
    "#                     elif (y_+(y_ * accepted_error) < x_ * a+b ):\n",
    "                        break\n",
    "                \n",
    "                if(count >count_max):\n",
    "                    max_last = lastpoint # max last baraye save kardane lastpointi ke niaz darime . maxof_a , b ham hamintor\n",
    "                    count_max = count\n",
    "                    maxof_a = a\n",
    "                    maxof_b = b\n",
    "                lastpoint = 0\n",
    "\n",
    "    #   if this start point include a line that touch three points: count_max are the number of other points ( = 2) . so it should be >= minimum touch -1\n",
    "        if(count_max >= minimum_touch-1):\n",
    "            repetitious = False\n",
    "            a_in_radian = math.atan(maxof_a)\n",
    "            a_in_degree = math.degrees(a_in_radian)\n",
    "            for cnt in range(len(a_maxm)):\n",
    "                if((math.degrees(math.atan(a_maxm[cnt])) >= a_in_degree -0.004) and \n",
    "                   (math.degrees(math.atan(a_maxm[cnt])) <= a_in_degree +0.004) and\n",
    "                   (stopm[cnt] == max_last)):\n",
    "                    repetitious = True\n",
    "\n",
    "            if(not(repetitious)):\n",
    "                a_maxm.append(maxof_a)\n",
    "                b_maxm.append(maxof_a * (-x)+maxof_b)\n",
    "                startm.append(x)\n",
    "                stopm.append(max_last)\n",
    "    \n",
    "#     dates[startm]  because we wanna return exact date\n",
    "    return startm, stopm, a_maxm, b_maxm, lows\n",
    "\n",
    "\n",
    "#########################################################################\n",
    "#########################################################################\n",
    "#########################################################################\n",
    "#########################################################################\n",
    "\n",
    "def find_resistances(df, minimum_touch = 3):\n",
    "    stocko = df[\"adj_open\"].tolist()\n",
    "    stockc = df[\"adj_close\"].tolist()\n",
    "    dates = df.index # for converting startm s to real date .... startm and stopm s are some indexes of stoko array\n",
    "    \n",
    "\n",
    "    highs = []\n",
    "    highs_price = []\n",
    "    for j in range(len(stocko)): \n",
    "        maximum = max(stocko[j], stockc[j])\n",
    "        if ( (j >10) and (j+10 < len(stocko)) ):\n",
    "            if (maximum >= max(stocko[j-10:j+10]) and maximum >= max(stockc[j-10:j+10])):\n",
    "                highs.append(j)\n",
    "                highs_price.append(maximum)\n",
    "\n",
    "    #finding the best lines \n",
    "    # cnt = numbers of line segments\n",
    "    cnt = 0\n",
    "    # start and stop[cnt] = start poit in x axes and stop point for each line segments\n",
    "    start = []\n",
    "    stop = []\n",
    "    checkedpoint = []\n",
    "    lastpoint = 0\n",
    "    count_max = 0\n",
    "    a_max = []\n",
    "    b_max = []\n",
    "    xarr = highs\n",
    "    yarr = highs_price\n",
    "    max_last = 0\n",
    "    # all tangents from 80 to -80 digree . i will break them in to 1000 pieces\n",
    "    digree = np.linspace(-80, 80, 1000)\n",
    "    digrees = np.tan(digree * pi / 180)\n",
    "\n",
    "\n",
    "    for point in range(len(xarr)) :\n",
    "        max_last = 0\n",
    "        count_max = 0\n",
    "    #  x and y are the ones of this point\n",
    "        x = xarr[point]\n",
    "        y = yarr[point]\n",
    "    # for this point i am breaking the line into 100 pieces\n",
    "        b_fakes = np.linspace(y-15, y+15, 100)  \n",
    "        for b in b_fakes:\n",
    "            for a in digrees:\n",
    "                count = 0\n",
    "                for p in range(point+1, len(xarr)):\n",
    "                #  x_ and y_ s are for all next points in new dimensions !!\n",
    "                    x_ = xarr[p]-x\n",
    "                    y_ = yarr[p]\n",
    "                    if((x_ * a+b >= y_-15) and (x_ * a+b<= y_+15)):\n",
    "                        count+= 1\n",
    "                        lastpoint = xarr[p]\n",
    "                    elif (y_-15 > x_ * a+b ):\n",
    "                        break\n",
    "                if(count >count_max):\n",
    "                    max_last = lastpoint # max last baraye save kardane lastpointi ke niaz darime . maxof_a , b ham hamintor\n",
    "                    count_max = count\n",
    "                    maxof_a = a\n",
    "                    maxof_b = b\n",
    "                lastpoint = 0\n",
    "\n",
    "    #   if this start point include a line that touch three points: count_max are the number of other points .\n",
    "        if(count_max >= minimum_touch-1):\n",
    "            repetitious = False\n",
    "            a_in_radian = math.atan(maxof_a)\n",
    "            a_in_degree = math.degrees(a_in_radian)\n",
    "            for cnt in range(len(a_max)):\n",
    "                if((math.degrees(math.atan(a_max[cnt])) >= a_in_degree -5) and \n",
    "                   (math.degrees(math.atan(a_max[cnt])) <= a_in_degree +5) and\n",
    "                   (stop[cnt] == max_last)):\n",
    "                    repetitious = True\n",
    "\n",
    "            if(not(repetitious)):\n",
    "                a_max.append(maxof_a)\n",
    "                b_max.append(maxof_a * (-x)+maxof_b)\n",
    "                start.append(x)\n",
    "                stop.append(max_last)\n",
    "    #     dates[startm]  because we wanna return exact date\n",
    "#     start_dates = df.iloc[start].index\n",
    "    return start, stop, a_max, b_max"
   ]
  },
  {
   "cell_type": "code",
   "execution_count": 449,
   "metadata": {},
   "outputs": [],
   "source": [
    "#  this is with mse \n",
    "from sklearn.metrics import mean_squared_error\n",
    "import pandas as pd\n",
    "import numpy as np\n",
    "import plotly.graph_objects as go\n",
    "from datetime import datetime\n",
    "from math import pi\n",
    "import math\n",
    "import matplotlib.pyplot as plt\n",
    "\n",
    "accepted_error=0.03\n",
    "\n",
    "\n",
    "def find_optimum_points(data : list, ismax : bool = True):\n",
    "    last = -1000\n",
    "    x, y = [], []\n",
    "    if ismax:\n",
    "        for j in range(len(data)): \n",
    "            if (j > 3) and (j + 3 < len(data)):\n",
    "                if (data[j] >= max(data[j - 3: j + 3]) and last < j - 3):\n",
    "                    last = j\n",
    "                    x.append(j)\n",
    "                    y.append(data[j])\n",
    "    if not(ismax):\n",
    "        for j in range(len(data)): \n",
    "            if (j > 3) and (j + 3 < len(data)):\n",
    "                if (data[j]<=min(data[j - 3: j + 3]) and last < j - 3):\n",
    "                    last = j\n",
    "                    x.append(j)\n",
    "                    y.append(data[j])\n",
    "    return x, y\n",
    "\n",
    "\n",
    "\n",
    "\n",
    "#########################################################################\n",
    "#########################################################################\n",
    "#########################################################################\n",
    "#########################################################################\n",
    "\n",
    "\n",
    "def find_supports(df,minimum_touch=3):\n",
    "    \n",
    "#     lines_df=pd.DataFrame(columns=[\"a\",\"b\",\"start\",\"stop\",\"mse\",\"touch\", \"mse/touch\"])\n",
    "    lines_array=[]\n",
    "    stockc=df[\"log_adj_close\"].tolist()\n",
    "    dates=df.index # for converting startm s to real date .... startm and stopm s are some indexes of stoko array\n",
    "\n",
    "    lows, lows_price = find_optimum_points(df[\"log_adj_close\"], ismax = False)\n",
    "\n",
    "        #finding the best lines \n",
    "    # cnt = numbers of line segments\n",
    "    cnt=0\n",
    "    # start and stop[cnt] = start poit in x axes and stop point for each line segments\n",
    "    startm=[]\n",
    "    stopm=[]\n",
    "    checkedpoint=[]\n",
    "    lastpoint=0\n",
    "    count_max=0\n",
    "    a_maxm=[]\n",
    "    b_maxm=[]\n",
    "    xarr, yarr = find_optimum_points(df, ismax = False)\n",
    "    max_last=0\n",
    "    # all tangents from 0.04 to -0.04 digree . i will break them in to 1000 pieces this is too short because we're using log numbers\n",
    "    digree=np.linspace(-0.12,0.12,1000)\n",
    "    coefs=np.tan(digree*pi / 180)\n",
    "\n",
    "\n",
    "    for point in range(len(xarr)) :\n",
    "#         bestline=pd.DataFrame([],columns=[\"a\",\"b\",\"start\",\"stop\",\"mse\",\"touch\", \"mse/touch\"])\n",
    "        bestline=[]\n",
    "        max_last=0  \n",
    "        count_max=0\n",
    "    #  x and y are the ones of this point\n",
    "        x=xarr[point]\n",
    "        y=yarr[point]\n",
    "    # for this point i am breaking the line into 100 pieces\n",
    "#         b_fakes=np.linspace(y-(y*accepted_error),y+(y*accepted_error),100)\n",
    "        b_fakes=np.linspace(math.log10((10**y)-((10**y)*accepted_error)),math.log10((10**y)+((10**y)*accepted_error)),100)\n",
    "        for b in b_fakes:\n",
    "            for a in coefs:\n",
    "                points_in_touch = []\n",
    "                count = 0\n",
    "                lastpoint=0\n",
    "                for p in range(point+1,len(xarr)):\n",
    "                #  x_ and y_ s are for all next points in new dimensions !!\n",
    "                    x_ = xarr[p]-x\n",
    "                    y_ = yarr[p]\n",
    "                    if(x_*a+b>=math.log10((10**y_)-((10**y_)*accepted_error))) and (x_*a+b<=math.log10((10**y_)+((10**y_)*accepted_error))):\n",
    "#                     if((x_*a+b>=y_-(y_*accepted_error)) and (x_*a+b<=y_+(y_*accepted_error))):\n",
    "                        points_in_touch.append(xarr[p])\n",
    "                        count+=1\n",
    "                        lastpoint=xarr[p]\n",
    "                    elif (math.log10((10**y_)+((10**y_)*accepted_error)) < x_*a+b ): \n",
    "#                     elif (y_+(y_*accepted_error) < x_*a+b ):\n",
    "                        break\n",
    "                \n",
    "                if(count >= minimum_touch-1):\n",
    "                    cnt_time[0] += 1\n",
    "                    \n",
    "                    mse = mean_squared_error([stockc[x]] +[stockc[indice] for indice in points_in_touch], [b] + [a*(xx-x) + b for xx in points_in_touch])\n",
    "# THIS IS THE STRUCTURE OF bestline ARRAY AND EACH ROW OF lines_array : [0:COEF, 1:INTERCEPT, 2:START_POINT_X, 3:STOP_POINT_X, 4:MSE, 5:NUMBER OF TOUCHS, 6:MSE/NUMBER OF TOUCH]\n",
    "\n",
    "                    lines_array.append([a, a*(-x)+b,x,lastpoint, mse,count + 1, mse / (count + 1)])\n",
    "                \n",
    "        if len(lines_array) > 0 :\n",
    "            linee=np.array(lines_array)\n",
    "#             CONVERT lines_array TYPE TO NP.ARRAY AIMING TO ITERATE EASILY AND WORK AS A MATRIX \n",
    "            min_mt = min(linee[:,6])\n",
    "    \n",
    "            for cntt in lines_array:\n",
    "                if cntt[6] == min_mt:\n",
    "                    bestline = cntt\n",
    "                    break\n",
    "            lines_array = []\n",
    "\n",
    "    #   if this start poin]t include a line that touch three points: count_max are the number of other points (=2) . so it should be >= minimum touch -1\n",
    "#       mse of the line should not be more than a specific number \n",
    "            if(bestline[5] >= minimum_touch-1) and (bestline[4] < 3e-5 ):\n",
    "                repetitious = False\n",
    "                a_in_radian = math.atan(bestline[0])\n",
    "                a_in_degree = math.degrees(a_in_radian)\n",
    "                for cnt in range(len(a_maxm)):\n",
    "                    if((math.degrees(math.atan(a_maxm[cnt])) >= a_in_degree - 0.004) and \n",
    "                       (math.degrees(math.atan(a_maxm[cnt])) <= a_in_degree + 0.004) and\n",
    "                       (stopm[cnt]==bestline[3])):\n",
    "                        repetitious=True\n",
    "\n",
    "                if(not(repetitious)):\n",
    "                    a_maxm.append(bestline[0])\n",
    "                    b_maxm.append(bestline[1])\n",
    "                    startm.append(bestline[2])\n",
    "                    stopm.append(bestline[3])\n",
    "\n",
    "#     dates[startm]  because we wanna return exact date\n",
    "\n",
    "    return startm,stopm,a_maxm,b_maxm,lines_df,lows\n",
    "\n",
    "\n",
    "#########################################################################\n",
    "#########################################################################\n",
    "#########################################################################\n",
    "#########################################################################\n",
    "from tqdm import tqdm\n",
    "def find_resistances(df,minimum_touch=3):\n",
    "    final_lines = pd.DataFrame([],columns=[\"first_point\", \"last_point\", \"coefs\", \"intercepts\"])\n",
    "#     lines_df=pd.DataFrame(columns=[\"a\",\"b\",\"start\",\"stop\",\"mse\",\"touch\", \"mse/touch\"])\n",
    "    lines_array=[]\n",
    "    stockc=df[\"log_adj_close\"].tolist()\n",
    "    dates=df.index # for converting startm s to real date .... startm and stopm s are some indexes of stoko array\n",
    "\n",
    "    lows, lows_price = find_optimum_points(df[\"log_adj_close\"])\n",
    "\n",
    "        #finding the best lines \n",
    "    # cnt = numbers of line segments\n",
    "    cnt=0\n",
    "    # start and stop[cnt] = start poit in x axes and stop point for each line segments\n",
    "    startm=[]\n",
    "    stopm=[]\n",
    "    checkedpoint=[]\n",
    "    lastpoint=0\n",
    "    count_max=0\n",
    "    a_maxm=[]\n",
    "    b_maxm=[]\n",
    "    xarr=lows\n",
    "    yarr=lows_price\n",
    "    max_last=0\n",
    "    # all tangents from 0.04 to -0.04 digree . i will break them in to 1000 pieces this is too short because we're using log numbers\n",
    "    digree=np.linspace(-0.12,0.12,1000)\n",
    "    coefs=np.tan(digree*pi / 180)\n",
    "\n",
    "\n",
    "    for point in tqdm(range(len(xarr))) :\n",
    "#         bestline=pd.DataFrame([],columns=[\"a\",\"b\",\"start\",\"stop\",\"mse\",\"touch\", \"mse/touch\"])\n",
    "        bestline=[]\n",
    "        max_last=0  \n",
    "        count_max=0\n",
    "    #  x and y are the ones of this point\n",
    "        x=xarr[point]\n",
    "        y=yarr[point]\n",
    "    # for this point i am breaking the line into 100 pieces\n",
    "#         b_fakes=np.linspace(y-(y*accepted_error),y+(y*accepted_error),100)\n",
    "        b_fakes=np.linspace(math.log10((10**y)-((10**y)*accepted_error)),math.log10((10**y)+((10**y)*accepted_error)),100)\n",
    "        for b in b_fakes:\n",
    "            for a in coefs:\n",
    "                points_in_touch = []\n",
    "                count = 0\n",
    "                lastpoint=0\n",
    "                for p in range(point+1,len(xarr)):\n",
    "                #  x_ and y_ s are for all next points in new dimensions !!\n",
    "                    x_ = xarr[p]-x\n",
    "                    y_ = yarr[p]\n",
    "                    if(x_*a+b>=math.log10((10**y_)-((10**y_)*accepted_error))) and (x_*a+b<=math.log10((10**y_)+((10**y_)*accepted_error))):\n",
    "#                     if((x_*a+b>=y_-(y_*accepted_error)) and (x_*a+b<=y_+(y_*accepted_error))):\n",
    "                        points_in_touch.append(xarr[p])\n",
    "                        count+=1\n",
    "                        lastpoint=xarr[p]\n",
    "                    elif (math.log10((10**y_)+((10**y_)*accepted_error)) > x_*a+b ): \n",
    "#                     elif (y_+(y_*accepted_error) < x_*a+b ):\n",
    "                        break\n",
    "                \n",
    "                if(count >= minimum_touch-1):\n",
    "                    cnt_time[0] += 1\n",
    "                    \n",
    "                    mse = mean_squared_error([stockc[x]] +[stockc[indice] for indice in points_in_touch], [b] + [a*(xx-x) + b for xx in points_in_touch])\n",
    "# THIS IS THE STRUCTURE OF bestline ARRAY AND EACH ROW OF lines_array : [0:COEF, 1:INTERCEPT, 2:START_POINT_X, 3:STOP_POINT_X, 4:MSE, 5:NUMBER OF TOUCHS, 6:MSE/NUMBER OF TOUCH]\n",
    "\n",
    "                    lines_array.append([a, a*(-x)+b,x,lastpoint, mse,count + 1, mse / (count + 1)])\n",
    "                \n",
    "        if len(lines_array) > 0 :\n",
    "            linee=np.array(lines_array)\n",
    "#             CONVERT lines_array TYPE TO NP.ARRAY AIMING TO ITERATE EASILY AND WORK AS A MATRIX \n",
    "            min_mt = min(linee[:,6])\n",
    "    \n",
    "            for cntt in lines_array:\n",
    "                if cntt[6] == min_mt:\n",
    "                    bestline = cntt\n",
    "                    break\n",
    "            lines_array = []\n",
    "\n",
    "    #   if this start poin]t include a line that touch three points: count_max are the number of other points (=2) . so it should be >= minimum touch -1\n",
    "#       mse of the line should not be more than a specific number \n",
    "            if(bestline[5] >= minimum_touch-1) and (bestline[4] < 3e-5 ):\n",
    "                repetitious = False\n",
    "                a_in_radian = math.atan(bestline[0])\n",
    "                a_in_degree = math.degrees(a_in_radian)\n",
    "                for cnt in range(len(final_lines)):\n",
    "                    if((math.degrees(math.atan(final_lines.coefs[cnt])) >= a_in_degree - 0.004) and \n",
    "                       (math.degrees(math.atan(final_lines.coefs[cnt])) <= a_in_degree + 0.004) and\n",
    "                       (final_lines.last_point[cnt]==bestline[3])):\n",
    "                        repetitious=True\n",
    "\n",
    "                if(not(repetitious)):\n",
    "                    \n",
    "#                     final_lines = final_lines.append({\"first_point\" : bestline[2], \n",
    "#                                         \"last_point\" : bestline[3], \n",
    "#                                         \"coefs\" : bestline[0], \n",
    "#                                         \"intercepts\" : bestline[1]},\n",
    "#                                        ignore_index = True)\n",
    "\n",
    "#     dates[startm]  because we wanna return exact date\n",
    "\n",
    "    return final_lines\n",
    "\n",
    "\n",
    "#########################################################################\n",
    "#########################################################################\n",
    "#########################################################################\n",
    "#########################################################################"
   ]
  },
  {
   "cell_type": "code",
   "execution_count": 373,
   "metadata": {
    "ExecuteTime": {
     "end_time": "2019-10-15T11:56:46.403982Z",
     "start_time": "2019-10-15T11:55:42.926702Z"
    }
   },
   "outputs": [
    {
     "name": "stdout",
     "output_type": "stream",
     "text": [
      "CPU times: user 2min 25s, sys: 0 ns, total: 2min 25s\n",
      "Wall time: 2min 25s\n"
     ]
    }
   ],
   "source": [
    "%%time\n",
    "start, stop, a, b, dff, lows = find_supports(df, minimum_touch = 3)"
   ]
  },
  {
   "cell_type": "code",
   "execution_count": 468,
   "metadata": {},
   "outputs": [
    {
     "name": "stderr",
     "output_type": "stream",
     "text": [
      "\n",
      "  0%|          | 0/23 [00:00<?, ?it/s]\u001b[A\n",
      "  4%|▍         | 1/23 [00:03<01:15,  3.45s/it]\u001b[A\n",
      "  9%|▊         | 2/23 [00:07<01:17,  3.71s/it]\u001b[A\n",
      " 13%|█▎        | 3/23 [00:14<01:30,  4.50s/it]\u001b[A\n",
      " 17%|█▋        | 4/23 [00:15<01:05,  3.44s/it]\u001b[A\n",
      " 22%|██▏       | 5/23 [00:21<01:20,  4.44s/it]\u001b[A\n",
      " 26%|██▌       | 6/23 [00:34<01:57,  6.89s/it]\u001b[A\n",
      " 30%|███       | 7/23 [00:54<02:52, 10.76s/it]\u001b[A\n",
      " 35%|███▍      | 8/23 [00:55<01:58,  7.90s/it]\u001b[A\n",
      " 39%|███▉      | 9/23 [00:56<01:20,  5.73s/it]\u001b[A\n",
      " 43%|████▎     | 10/23 [00:57<00:55,  4.28s/it]\u001b[A\n",
      " 48%|████▊     | 11/23 [00:57<00:38,  3.20s/it]\u001b[A\n",
      " 52%|█████▏    | 12/23 [01:09<01:03,  5.74s/it]\u001b[A\n",
      " 57%|█████▋    | 13/23 [01:22<01:20,  8.02s/it]\u001b[A\n",
      " 61%|██████    | 14/23 [01:30<01:12,  8.08s/it]\u001b[A\n",
      " 65%|██████▌   | 15/23 [01:41<01:11,  8.89s/it]\u001b[A\n",
      " 70%|██████▉   | 16/23 [01:46<00:53,  7.63s/it]\u001b[A\n",
      " 74%|███████▍  | 17/23 [01:50<00:40,  6.69s/it]\u001b[A\n",
      " 78%|███████▊  | 18/23 [01:53<00:26,  5.35s/it]\u001b[A\n",
      " 83%|████████▎ | 19/23 [01:56<00:18,  4.72s/it]\u001b[A\n",
      " 87%|████████▋ | 20/23 [02:09<00:22,  7.38s/it]\u001b[A\n",
      " 91%|█████████▏| 21/23 [02:20<00:16,  8.29s/it]\u001b[A\n",
      "100%|██████████| 23/23 [02:21<00:00,  6.14s/it]\u001b[A"
     ]
    },
    {
     "name": "stdout",
     "output_type": "stream",
     "text": [
      "CPU times: user 2min 20s, sys: 36.8 ms, total: 2min 20s\n",
      "Wall time: 2min 21s\n"
     ]
    },
    {
     "name": "stderr",
     "output_type": "stream",
     "text": [
      "\n"
     ]
    }
   ],
   "source": [
    "%%time\n",
    "final_df = find_resistances(df, minimum_touch = 3)"
   ]
  },
  {
   "cell_type": "code",
   "execution_count": 465,
   "metadata": {},
   "outputs": [],
   "source": [
    "opt,opt_price=find_optimum_points(df.log_adj_close)"
   ]
  },
  {
   "cell_type": "code",
   "execution_count": null,
   "metadata": {},
   "outputs": [],
   "source": []
  },
  {
   "cell_type": "code",
   "execution_count": 1,
   "metadata": {},
   "outputs": [
    {
     "ename": "NameError",
     "evalue": "name 'np' is not defined",
     "output_type": "error",
     "traceback": [
      "\u001b[0;31m---------------------------------------------------------------------------\u001b[0m",
      "\u001b[0;31mNameError\u001b[0m                                 Traceback (most recent call last)",
      "\u001b[0;32m<ipython-input-1-d9af22b07dc7>\u001b[0m in \u001b[0;36m<module>\u001b[0;34m\u001b[0m\n\u001b[1;32m      1\u001b[0m \u001b[0;32mimport\u001b[0m \u001b[0mmatplotlib\u001b[0m\u001b[0;34m.\u001b[0m\u001b[0mpyplot\u001b[0m \u001b[0;32mas\u001b[0m \u001b[0mplt\u001b[0m\u001b[0;34m\u001b[0m\u001b[0;34m\u001b[0m\u001b[0m\n\u001b[1;32m      2\u001b[0m \u001b[0mplt\u001b[0m\u001b[0;34m.\u001b[0m\u001b[0mfigure\u001b[0m\u001b[0;34m(\u001b[0m\u001b[0mfigsize\u001b[0m \u001b[0;34m=\u001b[0m \u001b[0;34m(\u001b[0m\u001b[0;36m15\u001b[0m\u001b[0;34m,\u001b[0m \u001b[0;36m7\u001b[0m\u001b[0;34m)\u001b[0m\u001b[0;34m)\u001b[0m\u001b[0;34m\u001b[0m\u001b[0;34m\u001b[0m\u001b[0m\n\u001b[0;32m----> 3\u001b[0;31m \u001b[0mplt\u001b[0m\u001b[0;34m.\u001b[0m\u001b[0mplot\u001b[0m\u001b[0;34m(\u001b[0m\u001b[0mnp\u001b[0m\u001b[0;34m.\u001b[0m\u001b[0marange\u001b[0m\u001b[0;34m(\u001b[0m\u001b[0mlen\u001b[0m\u001b[0;34m(\u001b[0m\u001b[0mdf\u001b[0m\u001b[0;34m)\u001b[0m\u001b[0;34m)\u001b[0m\u001b[0;34m,\u001b[0m \u001b[0mdf\u001b[0m\u001b[0;34m.\u001b[0m\u001b[0mlog_adj_close\u001b[0m\u001b[0;34m)\u001b[0m\u001b[0;34m\u001b[0m\u001b[0;34m\u001b[0m\u001b[0m\n\u001b[0m\u001b[1;32m      4\u001b[0m \u001b[0;32mfor\u001b[0m \u001b[0mi\u001b[0m \u001b[0;32min\u001b[0m \u001b[0mrange\u001b[0m\u001b[0;34m(\u001b[0m\u001b[0mlen\u001b[0m\u001b[0;34m(\u001b[0m\u001b[0mfinal_df\u001b[0m\u001b[0;34m)\u001b[0m\u001b[0;34m)\u001b[0m\u001b[0;34m:\u001b[0m\u001b[0;34m\u001b[0m\u001b[0;34m\u001b[0m\u001b[0m\n\u001b[1;32m      5\u001b[0m \u001b[0;34m\u001b[0m\u001b[0m\n",
      "\u001b[0;31mNameError\u001b[0m: name 'np' is not defined"
     ]
    }
   ],
   "source": [
    "import matplotlib.pyplot as plt\n",
    "plt.figure(figsize = (15, 7))\n",
    "plt.plot(np.arange(len(df)), df.log_adj_close)\n",
    "for i in range(len(final_df)):\n",
    "\n",
    "    plt.plot([final_df.first_point[i], final_df.last_point[i]], [final_df.coefs[i] * final_df.first_point[i]+final_df.intercepts[i], final_df.coefs[i] * final_df.last_point[i]+final_df.intercepts[i]])\n",
    "plt.scatter(opt, opt_price)"
   ]
  },
  {
   "cell_type": "code",
   "execution_count": 388,
   "metadata": {},
   "outputs": [
    {
     "data": {
      "text/plain": [
       "<matplotlib.collections.PathCollection at 0x7facf4db9d30>"
      ]
     },
     "execution_count": 388,
     "metadata": {},
     "output_type": "execute_result"
    },
    {
     "data": {
      "image/png": "[encoded data removed]",
      "text/plain": [
       "<Figure size 1080x504 with 1 Axes>"
      ]
     },
     "metadata": {
      "needs_background": "light"
     },
     "output_type": "display_data"
    }
   ],
   "source": [
    "import matplotlib.pyplot as plt\n",
    "plt.figure(figsize = (15, 7))\n",
    "plt.plot(np.arange(len(df)), df.log_adj_close)\n",
    "for i in range(len(start)):\n",
    "    plt.plot([start[i], stop[i]], [a[i] * start[i]+b[i], a[i] * stop[i]+b[i]])\n",
    "plt.scatter(lows, df.log_adj_close[lows])\n"
   ]
  },
  {
   "cell_type": "code",
   "execution_count": 381,
   "metadata": {},
   "outputs": [
    {
     "data": {
      "text/plain": [
       "16"
      ]
     },
     "execution_count": 381,
     "metadata": {},
     "output_type": "execute_result"
    }
   ],
   "source": [
    "len(lows)"
   ]
  },
  {
   "cell_type": "code",
   "execution_count": 347,
   "metadata": {},
   "outputs": [
    {
     "data": {
      "text/plain": [
       "<matplotlib.collections.PathCollection at 0x7facf61f7748>"
      ]
     },
     "execution_count": 347,
     "metadata": {},
     "output_type": "execute_result"
    },
    {
     "data": {
      "image/png": "[encoded data removed]",
      "text/plain": [
       "<Figure size 432x288 with 1 Axes>"
      ]
     },
     "metadata": {
      "needs_background": "light"
     },
     "output_type": "display_data"
    }
   ],
   "source": [
    "plt.plot(np.arange(len(df.close)), df.close)\n",
    "plt.scatter(lows, [1000 for i in range(len(lows))])"
   ]
  },
  {
   "cell_type": "code",
   "execution_count": 339,
   "metadata": {},
   "outputs": [
    {
     "data": {
      "text/plain": [
       "8"
      ]
     },
     "execution_count": 339,
     "metadata": {},
     "output_type": "execute_result"
    }
   ],
   "source": [
    "len(start)"
   ]
  },
  {
   "cell_type": "code",
   "execution_count": 151,
   "metadata": {},
   "outputs": [],
   "source": [
    "lows = []\n",
    "lows_price = []\n",
    "last = -10000\n",
    "for j in range(len(df.log_adj_close)): \n",
    "#         minimum = min(stocko[j], stockc[j])\n",
    "    if ( (j >10) and (j+10 < len(df.log_adj_close)) ):\n",
    "        if (df.log_adj_close[j]<= min(df.log_adj_close[j-10:j+10]) and last < j - 10):\n",
    "            last = j\n",
    "#             if (minimum<= min(stocko[j-10:j+10]) and minimum<= min(stockc[j-10:j+10])):\n",
    "            lows.append(j)\n",
    "            lows_price.append(df.log_adj_close[j])"
   ]
  },
  {
   "cell_type": "code",
   "execution_count": null,
   "metadata": {},
   "outputs": [],
   "source": [
    "\n"
   ]
  },
  {
   "cell_type": "code",
   "execution_count": 146,
   "metadata": {},
   "outputs": [
    {
     "data": {
      "text/plain": [
       "[26, 27, 51, 66, 88, 107, 138, 196]"
      ]
     },
     "execution_count": 146,
     "metadata": {},
     "output_type": "execute_result"
    }
   ],
   "source": [
    "part"
   ]
  },
  {
   "cell_type": "code",
   "execution_count": null,
   "metadata": {},
   "outputs": [],
   "source": [
    "parting\n",
    "part"
   ]
  },
  {
   "cell_type": "code",
   "execution_count": 109,
   "metadata": {},
   "outputs": [],
   "source": [
    "dff[\"mse/touch\"] = dff.mse/dff.touch"
   ]
  },
  {
   "cell_type": "code",
   "execution_count": 117,
   "metadata": {},
   "outputs": [],
   "source": [
    "lines_df = pd.DataFrame([[1, 2, 3], [4, 5, 7]], columns = [\"a\", \"b\", \"start\"])"
   ]
  },
  {
   "cell_type": "code",
   "execution_count": 134,
   "metadata": {},
   "outputs": [],
   "source": [
    "pp = lines_df[lines_df.start == max([lines_df.start])].iloc[0]"
   ]
  },
  {
   "cell_type": "code",
   "execution_count": 394,
   "metadata": {},
   "outputs": [],
   "source": []
  },
  {
   "cell_type": "code",
   "execution_count": 402,
   "metadata": {},
   "outputs": [
    {
     "ename": "NameError",
     "evalue": "name 'bestline' is not defined",
     "output_type": "error",
     "traceback": [
      "\u001b[0;31m---------------------------------------------------------------------------\u001b[0m",
      "\u001b[0;31mNameError\u001b[0m                                 Traceback (most recent call last)",
      "\u001b[0;32m<ipython-input-402-e8eacb45402f>\u001b[0m in \u001b[0;36m<module>\u001b[0;34m\u001b[0m\n\u001b[0;32m----> 1\u001b[0;31m \u001b[0mfinal_lines\u001b[0m\u001b[0;34m.\u001b[0m\u001b[0mappend\u001b[0m\u001b[0;34m(\u001b[0m\u001b[0;34m{\u001b[0m\u001b[0;34m\"first_point\"\u001b[0m\u001b[0;34m:\u001b[0m\u001b[0mbestline\u001b[0m\u001b[0;34m[\u001b[0m\u001b[0;36m2\u001b[0m\u001b[0;34m]\u001b[0m\u001b[0;34m,\u001b[0m \u001b[0;34m\"last_point\"\u001b[0m\u001b[0;34m:\u001b[0m\u001b[0mbestline\u001b[0m\u001b[0;34m[\u001b[0m\u001b[0;36m3\u001b[0m\u001b[0;34m]\u001b[0m\u001b[0;34m,\u001b[0m \u001b[0;34m\"coefs\"\u001b[0m\u001b[0;34m:\u001b[0m\u001b[0mbestline\u001b[0m\u001b[0;34m[\u001b[0m\u001b[0;36m0\u001b[0m\u001b[0;34m]\u001b[0m\u001b[0;34m,\u001b[0m \u001b[0;34m\"intercepts\"\u001b[0m \u001b[0;34m:\u001b[0m \u001b[0mbestline\u001b[0m\u001b[0;34m[\u001b[0m\u001b[0;36m1\u001b[0m\u001b[0;34m]\u001b[0m\u001b[0;34m}\u001b[0m\u001b[0;34m,\u001b[0m\u001b[0mignore_index\u001b[0m\u001b[0;34m=\u001b[0m\u001b[0;32mTrue\u001b[0m\u001b[0;34m)\u001b[0m\u001b[0;34m\u001b[0m\u001b[0;34m\u001b[0m\u001b[0m\n\u001b[0m",
      "\u001b[0;31mNameError\u001b[0m: name 'bestline' is not defined"
     ]
    }
   ],
   "source": []
  },
  {
   "cell_type": "code",
   "execution_count": 153,
   "metadata": {},
   "outputs": [
    {
     "name": "stdout",
     "output_type": "stream",
     "text": [
      "[12553     0     0     0     0     0     0     0     0     0]\n",
      "CPU times: user 39.2 s, sys: 0 ns, total: 39.2 s\n",
      "Wall time: 39.2 s\n"
     ]
    }
   ],
   "source": [
    "%%time\n",
    "start, stop, a, b, dff = find_supports(df)"
   ]
  },
  {
   "cell_type": "code",
   "execution_count": 80,
   "metadata": {},
   "outputs": [
    {
     "data": {
      "text/html": [
       "<div>\n",
       "<style scoped>\n",
       "    .dataframe tbody tr th:only-of-type {\n",
       "        vertical-align: middle;\n",
       "    }\n",
       "\n",
       "    .dataframe tbody tr th {\n",
       "        vertical-align: top;\n",
       "    }\n",
       "\n",
       "    .dataframe thead th {\n",
       "        text-align: right;\n",
       "    }\n",
       "</style>\n",
       "<table border=\"1\" class=\"dataframe\">\n",
       "  <thead>\n",
       "    <tr style=\"text-align: right;\">\n",
       "      <th></th>\n",
       "      <th>a</th>\n",
       "      <th>b</th>\n",
       "      <th>start</th>\n",
       "      <th>stop</th>\n",
       "      <th>mse</th>\n",
       "      <th>touch</th>\n",
       "    </tr>\n",
       "  </thead>\n",
       "  <tbody>\n",
       "    <tr>\n",
       "      <th>0</th>\n",
       "      <td>-0.000873</td>\n",
       "      <td>3.030865</td>\n",
       "      <td>19.0</td>\n",
       "      <td>174.0</td>\n",
       "      <td>0.000014</td>\n",
       "      <td>4.0</td>\n",
       "    </tr>\n",
       "    <tr>\n",
       "      <th>1</th>\n",
       "      <td>-0.000871</td>\n",
       "      <td>3.030832</td>\n",
       "      <td>19.0</td>\n",
       "      <td>174.0</td>\n",
       "      <td>0.000015</td>\n",
       "      <td>4.0</td>\n",
       "    </tr>\n",
       "    <tr>\n",
       "      <th>2</th>\n",
       "      <td>-0.000869</td>\n",
       "      <td>3.030799</td>\n",
       "      <td>19.0</td>\n",
       "      <td>174.0</td>\n",
       "      <td>0.000015</td>\n",
       "      <td>4.0</td>\n",
       "    </tr>\n",
       "    <tr>\n",
       "      <th>3</th>\n",
       "      <td>-0.000867</td>\n",
       "      <td>3.030765</td>\n",
       "      <td>19.0</td>\n",
       "      <td>174.0</td>\n",
       "      <td>0.000016</td>\n",
       "      <td>4.0</td>\n",
       "    </tr>\n",
       "    <tr>\n",
       "      <th>4</th>\n",
       "      <td>-0.000866</td>\n",
       "      <td>3.030732</td>\n",
       "      <td>19.0</td>\n",
       "      <td>174.0</td>\n",
       "      <td>0.000016</td>\n",
       "      <td>4.0</td>\n",
       "    </tr>\n",
       "  </tbody>\n",
       "</table>\n",
       "</div>"
      ],
      "text/plain": [
       "          a         b  start   stop       mse  touch\n",
       "0 -0.000873  3.030865   19.0  174.0  0.000014    4.0\n",
       "1 -0.000871  3.030832   19.0  174.0  0.000015    4.0\n",
       "2 -0.000869  3.030799   19.0  174.0  0.000015    4.0\n",
       "3 -0.000867  3.030765   19.0  174.0  0.000016    4.0\n",
       "4 -0.000866  3.030732   19.0  174.0  0.000016    4.0"
      ]
     },
     "execution_count": 80,
     "metadata": {},
     "output_type": "execute_result"
    }
   ],
   "source": [
    "dff.head()"
   ]
  },
  {
   "cell_type": "code",
   "execution_count": 71,
   "metadata": {},
   "outputs": [
    {
     "data": {
      "text/html": [
       "<div>\n",
       "<style scoped>\n",
       "    .dataframe tbody tr th:only-of-type {\n",
       "        vertical-align: middle;\n",
       "    }\n",
       "\n",
       "    .dataframe tbody tr th {\n",
       "        vertical-align: top;\n",
       "    }\n",
       "\n",
       "    .dataframe thead th {\n",
       "        text-align: right;\n",
       "    }\n",
       "</style>\n",
       "<table border=\"1\" class=\"dataframe\">\n",
       "  <thead>\n",
       "    <tr style=\"text-align: right;\">\n",
       "      <th></th>\n",
       "      <th>a</th>\n",
       "      <th>b</th>\n",
       "      <th>start</th>\n",
       "      <th>stop</th>\n",
       "      <th>mse</th>\n",
       "      <th>touch</th>\n",
       "    </tr>\n",
       "  </thead>\n",
       "  <tbody>\n",
       "  </tbody>\n",
       "</table>\n",
       "</div>"
      ],
      "text/plain": [
       "Empty DataFrame\n",
       "Columns: [a, b, start, stop, mse, touch]\n",
       "Index: []"
      ]
     },
     "execution_count": 71,
     "metadata": {},
     "output_type": "execute_result"
    }
   ],
   "source": [
    "lines_df.head()"
   ]
  },
  {
   "cell_type": "code",
   "execution_count": 156,
   "metadata": {},
   "outputs": [
    {
     "data": {
      "text/html": [
       "<div>\n",
       "<style scoped>\n",
       "    .dataframe tbody tr th:only-of-type {\n",
       "        vertical-align: middle;\n",
       "    }\n",
       "\n",
       "    .dataframe tbody tr th {\n",
       "        vertical-align: top;\n",
       "    }\n",
       "\n",
       "    .dataframe thead th {\n",
       "        text-align: right;\n",
       "    }\n",
       "</style>\n",
       "<table border=\"1\" class=\"dataframe\">\n",
       "  <thead>\n",
       "    <tr style=\"text-align: right;\">\n",
       "      <th></th>\n",
       "      <th>a</th>\n",
       "      <th>b</th>\n",
       "      <th>start</th>\n",
       "      <th>stop</th>\n",
       "      <th>mse</th>\n",
       "      <th>touch</th>\n",
       "      <th>mse/touch</th>\n",
       "    </tr>\n",
       "  </thead>\n",
       "  <tbody>\n",
       "  </tbody>\n",
       "</table>\n",
       "</div>"
      ],
      "text/plain": [
       "Empty DataFrame\n",
       "Columns: [a, b, start, stop, mse, touch, mse/touch]\n",
       "Index: []"
      ]
     },
     "execution_count": 156,
     "metadata": {},
     "output_type": "execute_result"
    }
   ],
   "source": [
    "dff"
   ]
  },
  {
   "cell_type": "code",
   "execution_count": 104,
   "metadata": {},
   "outputs": [
    {
     "name": "stderr",
     "output_type": "stream",
     "text": [
      "2020-01-23 14:05:31.910 | DEBUG    | data_provider:get:172 - symbol is not scaled: خپارس\n",
      "2020-01-23 14:05:32.114 | DEBUG    | data_provider:adjust_and_log:57 - start adjust and log for خپارس\n",
      "2020-01-23 14:05:32.116 | DEBUG    | data_provider:adjust_and_log:58 - calculating scale\n",
      "2020-01-23 14:05:32.429 | DEBUG    | data_provider:adjust_and_log:60 - adding adjust\n",
      "2020-01-23 14:05:32.432 | DEBUG    | data_provider:add_adjust:28 - new part len is 3459, shape: (3459,)\n",
      "2020-01-23 14:05:32.468 | DEBUG    | data_provider:add_adjust:38 - found adj date: 2009-06-08 00:00:00\n",
      "2020-01-23 14:05:32.481 | DEBUG    | data_provider:add_adjust:38 - found adj date: 2010-07-05 00:00:00\n",
      "2020-01-23 14:05:32.493 | DEBUG    | data_provider:add_adjust:38 - found adj date: 2011-07-05 00:00:00\n",
      "2020-01-23 14:05:32.514 | DEBUG    | data_provider:add_adjust:38 - found adj date: 2012-06-23 00:00:00\n",
      "2020-01-23 14:05:32.543 | DEBUG    | data_provider:add_adjust:38 - found adj date: 2014-05-26 00:00:00\n",
      "2020-01-23 14:05:32.555 | DEBUG    | data_provider:add_adjust:38 - found adj date: 2016-11-15 00:00:00\n",
      "2020-01-23 14:05:32.579 | DEBUG    | data_provider:adjust_and_log:62 - adding log\n",
      "2020-01-23 14:05:32.664 | DEBUG    | data_provider:adjust_and_log:64 - done adj and log\n"
     ]
    }
   ],
   "source": [
    "from data_provider import DataModel\n",
    "dm = DataModel()\n",
    "dm.read_from_csvs(\"../../xcels\", [\"master0.csv\", \"master1.csv\"])\n",
    "df = dm.get(dm.TA_SYMBOLS[0], \"1396-01-01\", \"1397-01-01\")"
   ]
  },
  {
   "cell_type": "code",
   "execution_count": 3,
   "metadata": {},
   "outputs": [
    {
     "data": {
      "text/plain": [
       "'خپارس'"
      ]
     },
     "execution_count": 3,
     "metadata": {},
     "output_type": "execute_result"
    }
   ],
   "source": [
    "dm.TA_SYMBOLS[0]"
   ]
  },
  {
   "cell_type": "code",
   "execution_count": 33,
   "metadata": {},
   "outputs": [
    {
     "data": {
      "text/plain": [
       "date\n",
       "2016-04-20    3.027513\n",
       "2016-05-17    2.995240\n",
       "2016-06-20    2.972203\n",
       "2016-08-01    2.958707\n",
       "2016-09-05    2.937117\n",
       "2016-11-12    2.950267\n",
       "2017-01-09    2.914343\n",
       "2017-02-13    2.935003\n",
       "Name: log_adj_close, dtype: float64"
      ]
     },
     "execution_count": 33,
     "metadata": {},
     "output_type": "execute_result"
    }
   ],
   "source": [
    "df.log_adj_close[lows]"
   ]
  },
  {
   "cell_type": "code",
   "execution_count": 19,
   "metadata": {},
   "outputs": [
    {
     "data": {
      "text/plain": [
       "5.004786340466468e-05"
      ]
     },
     "execution_count": 19,
     "metadata": {},
     "output_type": "execute_result"
    }
   ],
   "source": [
    "a_in_radian = math.atan(8.735e-7)\n",
    "a_in_degree = math.degrees(a_in_radian)\n",
    "a_in_degree"
   ]
  },
  {
   "cell_type": "code",
   "execution_count": 41,
   "metadata": {
    "ExecuteTime": {
     "end_time": "2019-10-15T12:01:54.337119Z",
     "start_time": "2019-10-15T12:00:41.332947Z"
    }
   },
   "outputs": [
    {
     "data": {
      "text/plain": [
       "2.0"
      ]
     },
     "execution_count": 41,
     "metadata": {},
     "output_type": "execute_result"
    }
   ],
   "source": [
    "math.log10(100)"
   ]
  },
  {
   "cell_type": "code",
   "execution_count": 23,
   "metadata": {},
   "outputs": [
    {
     "data": {
      "text/plain": [
       "[-0.0008726648475212713,\n",
       " -0.0008639294592936493,\n",
       " -0.0004883078725776307,\n",
       " -0.0002804057580449762,\n",
       " 0.0007468752692325392]"
      ]
     },
     "execution_count": 23,
     "metadata": {},
     "output_type": "execute_result"
    }
   ],
   "source": [
    "a"
   ]
  },
  {
   "cell_type": "raw",
   "metadata": {},
   "source": [
    "# %matplotlib inline\n",
    "import matplotlib.pyplot as plt\n",
    "import time\n",
    "plt.style.use('seaborn-whitegrid')\n",
    "x = np.arange(len(stocko))\n",
    "# plt.scatter(highs, highs_price , c = \"r\")\n",
    "# plt.scatter(lows, lows_price , c = \"g\")\n",
    "for cnt in range(len(indexes)):\n",
    "    \n",
    "    plt.figure(num = None, figsize = (8, 4), dpi = 150)\n",
    "    plt.xlim(0, 1500)\n",
    "    plt.ylim(500, 2500)\n",
    "    plt.xlabel('Day number')\n",
    "    plt.ylabel('Price')\n",
    "    plt.title(\"This is Price tunnel number {}\".format(cnt+1))\n",
    "\n",
    "    xx = np.linspace(start[indexes[cnt][0]], stop[indexes[cnt][0]]+50, dtype = float)\n",
    "    plt.plot(xx, a_max[indexes[cnt][0]] *  xx +b_max[indexes[cnt][0]] , linestyle = \"-\", c = \"b\")\n",
    "\n",
    "    xx = np.linspace(startm[indexes[cnt][1]], stopm[indexes[cnt][1]]+50, dtype = float)\n",
    "    plt.plot(xx, a_maxm[indexes[cnt][1]] *  xx +b_maxm[indexes[cnt][1]] , linestyle = \"-.\", c = \"r\")\n",
    "    plt.plot(x, stockc, linestyle = \"-\", c = \"k\")\n",
    "    plt.savefig(\"../trade/Chart images/price_tunnel {}\".format(cnt+1))\n",
    "    plt.show()"
   ]
  }
 ],
 "metadata": {
  "kernelspec": {
   "display_name": "Python 3",
   "language": "python",
   "name": "python3"
  },
  "language_info": {
   "codemirror_mode": {
    "name": "ipython",
    "version": 3
   },
   "file_extension": ".py",
   "mimetype": "text/x-python",
   "name": "python",
   "nbconvert_exporter": "python",
   "pygments_lexer": "ipython3",
   "version": "3.6.9"
  },
  "toc": {
   "base_numbering": 1,
   "nav_menu": {},
   "number_sections": false,
   "sideBar": false,
   "skip_h1_title": false,
   "title_cell": "Table of Contents",
   "title_sidebar": "Contents",
   "toc_cell": false,
   "toc_position": {},
   "toc_section_display": false,
   "toc_window_display": false
  }
 },
 "nbformat": 4,
 "nbformat_minor": 4
}
