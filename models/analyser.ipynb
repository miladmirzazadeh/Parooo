{
 "cells": [
  {
   "cell_type": "code",
   "execution_count": null,
   "metadata": {},
   "outputs": [],
   "source": []
  },
  {
   "cell_type": "code",
   "execution_count": null,
   "metadata": {},
   "outputs": [],
   "source": []
  },
  {
   "cell_type": "code",
   "execution_count": null,
   "metadata": {},
   "outputs": [],
   "source": []
  },
  {
   "cell_type": "code",
   "execution_count": 52,
   "metadata": {
    "ExecuteTime": {
     "end_time": "2019-11-06T13:39:09.544777Z",
     "start_time": "2019-11-06T13:39:09.509397Z"
    }
   },
   "outputs": [],
   "source": [
    "# %%writefile analyser.py\n",
    "\n",
    "\n",
    "import pandas as pd\n",
    "import numpy as np\n",
    "import plotly.graph_objects as go\n",
    "from datetime import datetime\n",
    "from math import pi\n",
    "import math\n",
    "import matplotlib.pyplot as plt\n",
    "import data_provider as dp\n",
    "from pandas import DataFrame\n",
    "from tqdm import tqdm, trange\n",
    "import seaborn as sns\n",
    "from sklearn.cluster import KMeans\n",
    "from sklearn.linear_model import LinearRegression\n",
    "\n",
    "class Clusterer:\n",
    "    \n",
    "    '''\n",
    "    feature list is a list of functions that gets a df and return an scaler\n",
    "    '''\n",
    "    def __init__(self, df, feature_list=[], split_len=30, split_next=10):\n",
    "        self.feature_list = feature_list\n",
    "        self.symbols = df.symbol.unique()\n",
    "        self.df = df\n",
    "        self.split_len = split_len\n",
    "        self.split_next = split_next\n",
    "        \n",
    "    def normalize(self):\n",
    "        pass\n",
    "    \n",
    "    def calc_features(self):\n",
    "        pass\n",
    "    \n",
    "    def run(self):\n",
    "        self.dfs = []\n",
    "        for symbol in tqdm(self.symbols):\n",
    "            symbol_df = self.df[self.df[\"symbol\"]==symbol]\n",
    "            start = 0\n",
    "            while start + self.split_len < len(symbol_df):\n",
    "                self.dfs.append(symbol_df.iloc[start: start + self.split_len])\n",
    "                start += self.split_next\n",
    "            self.dfs.append(symbol_df.iloc[start: ])\n",
    "    \n",
    "    def run2(self):\n",
    "        self.points = []\n",
    "        for i in trange(len(self.dfs)):\n",
    "            df = self.dfs[i]\n",
    "            point_axis = []\n",
    "            for feature in self.feature_list:\n",
    "                point_axis.append(feature(df))\n",
    "            self.points.append(point_axis)\n",
    "        self.kmeans = KMeans(n_clusters=10).fit(self.points)\n",
    "        self.centroids = self.kmeans.cluster_centers_\n",
    "        print(self.centroids)\n",
    "    "
   ]
  },
  {
   "cell_type": "code",
   "execution_count": 24,
   "metadata": {
    "ExecuteTime": {
     "end_time": "2019-11-06T13:20:35.971566Z",
     "start_time": "2019-11-06T13:19:20.582513Z"
    }
   },
   "outputs": [],
   "source": [
    "dm = dp.DataModel(\"../../xcels\", [\"master0.csv\", \"master1.csv\"])\n",
    "dm.read()"
   ]
  },
  {
   "cell_type": "code",
   "execution_count": 25,
   "metadata": {
    "ExecuteTime": {
     "end_time": "2019-11-06T13:23:09.935890Z",
     "start_time": "2019-11-06T13:20:35.984897Z"
    }
   },
   "outputs": [
    {
     "name": "stderr",
     "output_type": "stream",
     "text": [
      "/home/nimac/.local/lib/python3.6/site-packages/pandas/core/indexing.py:357: SettingWithCopyWarning:\n",
      "\n",
      "\n",
      "A value is trying to be set on a copy of a slice from a DataFrame.\n",
      "Try using .loc[row_indexer,col_indexer] = value instead\n",
      "\n",
      "See the caveats in the documentation: http://pandas.pydata.org/pandas-docs/stable/indexing.html#indexing-view-versus-copy\n",
      "\n",
      "/home/nimac/.local/lib/python3.6/site-packages/pandas/core/indexing.py:537: SettingWithCopyWarning:\n",
      "\n",
      "\n",
      "A value is trying to be set on a copy of a slice from a DataFrame.\n",
      "Try using .loc[row_indexer,col_indexer] = value instead\n",
      "\n",
      "See the caveats in the documentation: http://pandas.pydata.org/pandas-docs/stable/indexing.html#indexing-view-versus-copy\n",
      "\n"
     ]
    }
   ],
   "source": [
    "symbol = \"خساپا\"\n",
    "df_khsapa = dm.get(symbol)\n",
    "symbol = \"فولاد\"\n",
    "df_foolad = dm.get(symbol)\n",
    "df = pd.concat([df_khsapa, df_foolad], axis = 0)"
   ]
  },
  {
   "cell_type": "code",
   "execution_count": 53,
   "metadata": {
    "ExecuteTime": {
     "end_time": "2019-11-06T13:39:11.057415Z",
     "start_time": "2019-11-06T13:39:10.826525Z"
    }
   },
   "outputs": [
    {
     "name": "stderr",
     "output_type": "stream",
     "text": [
      "100%|██████████| 2/2 [00:00<00:00,  9.47it/s]\n"
     ]
    }
   ],
   "source": [
    "def func1(df):\n",
    "    return df.loc[df.index[0], \"adj_close\"]\n",
    "clusterer = Clusterer(df, [func1])\n",
    "clusterer.run()"
   ]
  },
  {
   "cell_type": "code",
   "execution_count": 54,
   "metadata": {
    "ExecuteTime": {
     "end_time": "2019-11-06T13:39:11.733234Z",
     "start_time": "2019-11-06T13:39:11.726171Z"
    }
   },
   "outputs": [
    {
     "name": "stdout",
     "output_type": "stream",
     "text": [
      "656\n",
      "6596\n"
     ]
    }
   ],
   "source": [
    "print(len(clusterer.dfs))\n",
    "print(len(df))"
   ]
  },
  {
   "cell_type": "code",
   "execution_count": 59,
   "metadata": {
    "ExecuteTime": {
     "end_time": "2019-11-06T13:41:45.673617Z",
     "start_time": "2019-11-06T13:41:45.058913Z"
    }
   },
   "outputs": [
    {
     "name": "stderr",
     "output_type": "stream",
     "text": [
      "100%|██████████| 656/656 [00:00<00:00, 15995.49it/s]\n"
     ]
    },
    {
     "name": "stdout",
     "output_type": "stream",
     "text": [
      "[[ 141.51757341]\n",
      " [1980.64357593]\n",
      " [ 832.63215737]\n",
      " [3348.56168346]\n",
      " [1462.69433535]\n",
      " [ 312.48106311]\n",
      " [4045.47588757]\n",
      " [ 567.41240197]\n",
      " [2684.34146445]\n",
      " [1159.97840224]]\n"
     ]
    },
    {
     "data": {
      "text/plain": [
       "[[226.5174500559237],\n",
       " [208.27555714414262],\n",
       " [225.09491712243613],\n",
       " [213.37994002312723],\n",
       " [219.15375016492948],\n",
       " [219.40478538848612],\n",
       " [220.74363991412142],\n",
       " [223.002956926131],\n",
       " [215.89029225869342],\n",
       " [215.63925703513684],\n",
       " [206.26727535568966],\n",
       " [132.88131166930432],\n",
       " [132.96499007715653],\n",
       " [130.70567306514695],\n",
       " [125.93600381757116],\n",
       " [124.34611406837924],\n",
       " [121.16633456999539],\n",
       " [126.94014471179764],\n",
       " [136.73051843050587],\n",
       " [145.51675125498755],\n",
       " [175.47362126607754],\n",
       " [174.3858019639989],\n",
       " [168.2772781907878],\n",
       " [169.19774067716205],\n",
       " [171.1223440577628],\n",
       " [171.95912813628485],\n",
       " [172.7122338069547],\n",
       " [173.54901788547684],\n",
       " [174.55315877970327],\n",
       " [131.2077435122602],\n",
       " [129.53417535521606],\n",
       " [130.37095943373814],\n",
       " [129.7015321709205],\n",
       " [127.86060719817193],\n",
       " [133.969130971383],\n",
       " [134.80591504990508],\n",
       " [135.47534231272272],\n",
       " [135.64269912842713],\n",
       " [135.89373435198377],\n",
       " [135.89373435198377],\n",
       " [136.14476957554038],\n",
       " [136.14476957554038],\n",
       " [136.14476957554038],\n",
       " [136.22844798339258],\n",
       " [136.73051843050587],\n",
       " [136.89787524621022],\n",
       " [136.89787524621022],\n",
       " [137.23258887761907],\n",
       " [137.39994569332347],\n",
       " [146.68824896491842],\n",
       " [137.01256038001245],\n",
       " [137.12936563182828],\n",
       " [128.95299800471759],\n",
       " [128.95299800471759],\n",
       " [135.02687109914268],\n",
       " [156.28542692963052],\n",
       " [189.10770268988932],\n",
       " [197.9849018278952],\n",
       " [172.638162183852],\n",
       " [156.40223218144646],\n",
       " [151.02919059791648],\n",
       " [155.23417966328773],\n",
       " [158.0375057068686],\n",
       " [160.02319498773832],\n",
       " [174.7406567165376],\n",
       " [178.71203527827709],\n",
       " [204.4091906777679],\n",
       " [217.25776837751334],\n",
       " [220.7593841207645],\n",
       " [78.891134835035],\n",
       " [79.09874308460088],\n",
       " [77.31331213833433],\n",
       " [78.22678843642419],\n",
       " [77.14722553868165],\n",
       " [76.6074440898103],\n",
       " [79.30635133416678],\n",
       " [87.23698646758342],\n",
       " [101.10521753858434],\n",
       " [111.19497846748615],\n",
       " [118.8764837014238],\n",
       " [123.52690849169957],\n",
       " [129.21537452980468],\n",
       " [130.25341577763407],\n",
       " [147.6925087411682],\n",
       " [146.23925099420697],\n",
       " [135.2360137672152],\n",
       " [135.98340346565243],\n",
       " [131.166892075724],\n",
       " [144.08012519872176],\n",
       " [132.99384467190376],\n",
       " [135.98340346565243],\n",
       " [133.28449622129597],\n",
       " [133.03536632181695],\n",
       " [137.89339936165854],\n",
       " [136.3155766649578],\n",
       " [144.03860354880868],\n",
       " [169.40833164575938],\n",
       " [200.79869898012063],\n",
       " [199.6776144324649],\n",
       " [166.66790275148975],\n",
       " [95.08457830117376],\n",
       " [99.85956804118902],\n",
       " [100.06717629075492],\n",
       " [78.0191801868583],\n",
       " [78.891134835035],\n",
       " [81.13330393034653],\n",
       " [84.57960087314018],\n",
       " [78.47591833590323],\n",
       " [74.78049149363058],\n",
       " [73.49332034632208],\n",
       " [76.10918429085223],\n",
       " [76.48287914007079],\n",
       " [76.8150523393762],\n",
       " [78.72504823538229],\n",
       " [82.46199672756815],\n",
       " [94.59264768932462],\n",
       " [86.83535589595284],\n",
       " [91.40868463980635],\n",
       " [104.72343921051913],\n",
       " [120.70114469537447],\n",
       " [117.1119499850084],\n",
       " [120.58536422084651],\n",
       " [117.34351093406426],\n",
       " [118.15397425575985],\n",
       " [95.28733053649228],\n",
       " [104.20242707514339],\n",
       " [110.97558483502773],\n",
       " [109.52832890342852],\n",
       " [123.88510774489275],\n",
       " [131.4687288264726],\n",
       " [136.44728923117393],\n",
       " [160.18228650940105],\n",
       " [151.7882021061256],\n",
       " [146.46230027784046],\n",
       " [134.30535045240708],\n",
       " [137.66298421371727],\n",
       " [120.58536422084651],\n",
       " [165.9958440941791],\n",
       " [192.2018722515275],\n",
       " [183.2232052226866],\n",
       " [223.7367027918464],\n",
       " [201.32653386620308],\n",
       " [195.63274501864552],\n",
       " [184.82914566686955],\n",
       " [182.49323229351256],\n",
       " [185.55911859604367],\n",
       " [222.02360831183583]]"
      ]
     },
     "execution_count": 59,
     "metadata": {},
     "output_type": "execute_result"
    }
   ],
   "source": [
    "clusterer.run2()\n",
    "[x for x in clusterer.points if clusterer.kmeans.predict([x])[0] == 0]"
   ]
  },
  {
   "cell_type": "code",
   "execution_count": null,
   "metadata": {},
   "outputs": [],
   "source": []
  }
 ],
 "metadata": {
  "kernelspec": {
   "display_name": "Python 3",
   "language": "python",
   "name": "python3"
  },
  "language_info": {
   "codemirror_mode": {
    "name": "ipython",
    "version": 3
   },
   "file_extension": ".py",
   "mimetype": "text/x-python",
   "name": "python",
   "nbconvert_exporter": "python",
   "pygments_lexer": "ipython3",
   "version": "3.6.8"
  },
  "toc": {
   "base_numbering": 1,
   "nav_menu": {},
   "number_sections": false,
   "sideBar": false,
   "skip_h1_title": false,
   "title_cell": "Table of Contents",
   "title_sidebar": "Contents",
   "toc_cell": false,
   "toc_position": {},
   "toc_section_display": false,
   "toc_window_display": false
  }
 },
 "nbformat": 4,
 "nbformat_minor": 2
}
