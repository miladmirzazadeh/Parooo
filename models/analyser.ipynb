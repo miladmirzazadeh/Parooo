{
 "cells": [
  {
   "cell_type": "code",
   "execution_count": 1,
   "metadata": {
    "ExecuteTime": {
     "end_time": "2019-11-06T13:39:09.544777Z",
     "start_time": "2019-11-06T13:39:09.509397Z"
    }
   },
   "outputs": [],
   "source": [
    "# %%writefile analyser.py\n",
    "# its an auto generated file by its ipynb file\n",
    "\n",
    "import pandas as pd\n",
    "import numpy as np\n",
    "import plotly.graph_objects as go\n",
    "from datetime import datetime\n",
    "import matplotlib.pyplot as plt\n",
    "import data_provider as dp\n",
    "from pandas import DataFrame\n",
    "from tqdm import tqdm, trange\n",
    "import seaborn as sns\n",
    "from sklearn.cluster import KMeans\n",
    "from sklearn.linear_model import LinearRegression\n",
    "\n",
    "class Clusterer:\n",
    "    \n",
    "    '''\n",
    "    feature list is a list of functions that gets a df and return an scaler\n",
    "    '''\n",
    "    def __init__(self, df, feature_list=[], split_len=30, split_next=10, number_of_clusters=10):\n",
    "        self.feature_list = feature_list\n",
    "        self.symbols = df.symbol.unique()\n",
    "        self.df = df\n",
    "        self.NUMBER_OF_CLUSTERS = 10\n",
    "        self.split_len = split_len\n",
    "        self.split_next = split_next\n",
    "        \n",
    "    def normalize(self):\n",
    "        pass\n",
    "    \n",
    "    def calc_features(self):\n",
    "        pass\n",
    "    \n",
    "    def run(self):\n",
    "        self.dfs = []\n",
    "        for symbol in tqdm(self.symbols):\n",
    "            symbol_df = self.df[self.df[\"symbol\"]==symbol]\n",
    "            start = 0\n",
    "            while start + self.split_len < len(symbol_df):\n",
    "                self.dfs.append(symbol_df.iloc[start: start + self.split_len])\n",
    "                start += self.split_next\n",
    "            self.dfs.append(symbol_df.iloc[start: ])\n",
    "        \n",
    "        self.points = []\n",
    "        for i in trange(len(self.dfs)):\n",
    "            df = self.dfs[i]\n",
    "            point_axis = []\n",
    "            for feature in self.feature_list:\n",
    "                point_axis.append(feature(df))\n",
    "            self.points.append(point_axis)\n",
    "        self.kmeans = KMeans(n_clusters=self.NUMBER_OF_CLUSTERS).fit(self.points)\n",
    "        self.centroids = self.kmeans.cluster_centers_\n",
    "        print(self.centroids)\n",
    "    "
   ]
  },
  {
   "cell_type": "code",
   "execution_count": 11,
   "metadata": {
    "ExecuteTime": {
     "end_time": "2019-11-06T13:20:35.971566Z",
     "start_time": "2019-11-06T13:19:20.582513Z"
    }
   },
   "outputs": [],
   "source": [
    "dm = dp.DataModel(\"../../xcels\", [\"master0.csv\", \"master1.csv\"])\n",
    "dm.read()"
   ]
  },
  {
   "cell_type": "code",
   "execution_count": 5,
   "metadata": {
    "ExecuteTime": {
     "end_time": "2019-11-06T13:23:09.935890Z",
     "start_time": "2019-11-06T13:20:35.984897Z"
    }
   },
   "outputs": [
    {
     "name": "stderr",
     "output_type": "stream",
     "text": [
      "/home/nimac/.local/lib/python3.6/site-packages/pandas/core/indexing.py:357: SettingWithCopyWarning:\n",
      "\n",
      "\n",
      "A value is trying to be set on a copy of a slice from a DataFrame.\n",
      "Try using .loc[row_indexer,col_indexer] = value instead\n",
      "\n",
      "See the caveats in the documentation: http://pandas.pydata.org/pandas-docs/stable/indexing.html#indexing-view-versus-copy\n",
      "\n",
      "/home/nimac/.local/lib/python3.6/site-packages/pandas/core/indexing.py:537: SettingWithCopyWarning:\n",
      "\n",
      "\n",
      "A value is trying to be set on a copy of a slice from a DataFrame.\n",
      "Try using .loc[row_indexer,col_indexer] = value instead\n",
      "\n",
      "See the caveats in the documentation: http://pandas.pydata.org/pandas-docs/stable/indexing.html#indexing-view-versus-copy\n",
      "\n"
     ]
    }
   ],
   "source": [
    "symbol = \"خساپا\"\n",
    "df_khsapa = dm.get(symbol)\n",
    "symbol = \"فولاد\"\n",
    "df_foolad = dm.get(symbol)\n",
    "df = pd.concat([df_khsapa, df_foolad], axis = 0)"
   ]
  },
  {
   "cell_type": "code",
   "execution_count": 6,
   "metadata": {
    "ExecuteTime": {
     "end_time": "2019-11-06T13:39:11.057415Z",
     "start_time": "2019-11-06T13:39:10.826525Z"
    }
   },
   "outputs": [
    {
     "name": "stderr",
     "output_type": "stream",
     "text": [
      "100%|██████████| 2/2 [00:00<00:00,  8.86it/s]\n",
      "100%|██████████| 656/656 [00:00<00:00, 5503.84it/s]\n"
     ]
    },
    {
     "name": "stdout",
     "output_type": "stream",
     "text": [
      "[[ 312.48106311]\n",
      " [2625.50354153]\n",
      " [1169.94288924]\n",
      " [4002.86283454]\n",
      " [ 568.31480772]\n",
      " [ 141.51757341]\n",
      " [1980.64357593]\n",
      " [3170.28121588]\n",
      " [ 838.25723549]\n",
      " [1470.66974903]]\n"
     ]
    }
   ],
   "source": [
    "def func1(df):\n",
    "    return df.loc[df.index[0], \"adj_close\"]\n",
    "clusterer = Clusterer(df, [func1], number_of_clusters=10)\n",
    "clusterer.run()"
   ]
  },
  {
   "cell_type": "code",
   "execution_count": 7,
   "metadata": {
    "ExecuteTime": {
     "end_time": "2019-11-06T13:39:11.733234Z",
     "start_time": "2019-11-06T13:39:11.726171Z"
    }
   },
   "outputs": [
    {
     "name": "stdout",
     "output_type": "stream",
     "text": [
      "656\n",
      "6596\n"
     ]
    }
   ],
   "source": [
    "print(len(clusterer.dfs))\n",
    "print(len(df))"
   ]
  },
  {
   "cell_type": "code",
   "execution_count": 9,
   "metadata": {
    "ExecuteTime": {
     "end_time": "2019-11-06T13:41:45.673617Z",
     "start_time": "2019-11-06T13:41:45.058913Z"
    }
   },
   "outputs": [
    {
     "data": {
      "text/plain": [
       "[[272.79160959819404],\n",
       " [282.8330185404589],\n",
       " [279.98795267348385],\n",
       " [276.1387459122823],\n",
       " [277.8123140693264],\n",
       " [251.03522355662028],\n",
       " [237.47932148456275],\n",
       " [243.08577481066064],\n",
       " [242.58370436354735],\n",
       " [247.68808724253196]]"
      ]
     },
     "execution_count": 9,
     "metadata": {},
     "output_type": "execute_result"
    }
   ],
   "source": [
    "h0 = [x for x in clusterer.points if clusterer.kmeans.predict([x])[0] == 0]\n",
    "h0[:10]"
   ]
  },
  {
   "cell_type": "code",
   "execution_count": null,
   "metadata": {},
   "outputs": [],
   "source": []
  }
 ],
 "metadata": {
  "kernelspec": {
   "display_name": "Python 3",
   "language": "python",
   "name": "python3"
  },
  "language_info": {
   "codemirror_mode": {
    "name": "ipython",
    "version": 3
   },
   "file_extension": ".py",
   "mimetype": "text/x-python",
   "name": "python",
   "nbconvert_exporter": "python",
   "pygments_lexer": "ipython3",
   "version": "3.6.8"
  },
  "toc": {
   "base_numbering": 1,
   "nav_menu": {},
   "number_sections": false,
   "sideBar": false,
   "skip_h1_title": false,
   "title_cell": "Table of Contents",
   "title_sidebar": "Contents",
   "toc_cell": false,
   "toc_position": {},
   "toc_section_display": false,
   "toc_window_display": false
  }
 },
 "nbformat": 4,
 "nbformat_minor": 4
}
