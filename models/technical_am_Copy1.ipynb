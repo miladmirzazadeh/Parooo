{
 "cells": [
  {
   "cell_type": "code",
   "execution_count": 83,
   "metadata": {},
   "outputs": [],
   "source": [
    "import matplotlib.pyplot as plt"
   ]
  },
  {
   "cell_type": "code",
   "execution_count": 8,
   "metadata": {
    "ExecuteTime": {
     "end_time": "2019-10-23T21:04:20.060152Z",
     "start_time": "2019-10-23T21:03:47.893727Z"
    }
   },
   "outputs": [],
   "source": [
    "from data_provider import DataModel\n",
    "dm = DataModel()\n",
    "dm.restore_from_pystore()"
   ]
  },
  {
   "cell_type": "code",
   "execution_count": 52,
   "metadata": {},
   "outputs": [],
   "source": [
    "df = dm.get(\"خساپا\")"
   ]
  },
  {
   "cell_type": "code",
   "execution_count": 53,
   "metadata": {
    "ExecuteTime": {
     "end_time": "2019-10-23T21:04:20.079280Z",
     "start_time": "2019-10-23T21:04:20.067322Z"
    }
   },
   "outputs": [
    {
     "data": {
      "text/plain": [
       "Index(['symbol', 'name', 'amount', 'volume', 'value', 'lastday', 'open',\n",
       "       'close', 'last-change', 'last-percent', 'ending', 'ending-change',\n",
       "       'ending-percent', 'min', 'max', 'year', 'month', 'day', 'diff_min_max',\n",
       "       'diff_open', 'adj_min', 'adj_max', 'adj_close', 'adj_open',\n",
       "       'adj_ending', 'log_adj_open', 'log_adj_close', 'log_adj_ending',\n",
       "       'log_adj_min', 'log_adj_max', 'adj_scale'],\n",
       "      dtype='object')"
      ]
     },
     "execution_count": 53,
     "metadata": {},
     "output_type": "execute_result"
    }
   ],
   "source": [
    "df.columns"
   ]
  },
  {
   "cell_type": "code",
   "execution_count": 54,
   "metadata": {
    "ExecuteTime": {
     "end_time": "2019-10-23T21:08:08.398760Z",
     "start_time": "2019-10-23T21:08:08.390334Z"
    }
   },
   "outputs": [],
   "source": []
  },
  {
   "cell_type": "code",
   "execution_count": 55,
   "metadata": {
    "ExecuteTime": {
     "end_time": "2019-10-23T21:08:08.752648Z",
     "start_time": "2019-10-23T21:08:08.690301Z"
    }
   },
   "outputs": [
    {
     "data": {
      "text/plain": [
       "684"
      ]
     },
     "execution_count": 55,
     "metadata": {},
     "output_type": "execute_result"
    }
   ],
   "source": [
    "len(df)"
   ]
  },
  {
   "cell_type": "code",
   "execution_count": 31,
   "metadata": {
    "ExecuteTime": {
     "end_time": "2019-10-23T21:08:09.799426Z",
     "start_time": "2019-10-23T21:08:09.791463Z"
    }
   },
   "outputs": [],
   "source": [
    "import numpy as np\n",
    "import pandas as pd\n",
    "import matplotlib.pyplot as plt"
   ]
  },
  {
   "cell_type": "code",
   "execution_count": 32,
   "metadata": {
    "ExecuteTime": {
     "end_time": "2019-10-23T21:08:10.481458Z",
     "start_time": "2019-10-23T21:08:10.473343Z"
    }
   },
   "outputs": [],
   "source": [
    "x = range(1, len(df2)+1)"
   ]
  },
  {
   "cell_type": "code",
   "execution_count": 49,
   "metadata": {},
   "outputs": [
    {
     "data": {
      "text/plain": [
       "0   NaN\n",
       "1   NaN\n",
       "2   NaN\n",
       "3   NaN\n",
       "4   NaN\n",
       "Name: 1, dtype: float64"
      ]
     },
     "execution_count": 49,
     "metadata": {},
     "output_type": "execute_result"
    }
   ],
   "source": [
    "df2 = pd.DataFrame([[1,  2], [3,  9],  [2, 6],  [7, 8],  [9, 9]] )\n",
    "\n",
    "a = df2[1].rolling(10).sum()\n",
    "a"
   ]
  },
  {
   "cell_type": "code",
   "execution_count": 99,
   "metadata": {},
   "outputs": [],
   "source": [
    "\n",
    "df[\"mins\"] = df[\"adj_close\"].rolling(10).min().shift(-5)"
   ]
  },
  {
   "cell_type": "code",
   "execution_count": 100,
   "metadata": {},
   "outputs": [
    {
     "data": {
      "text/plain": [
       "45"
      ]
     },
     "execution_count": 100,
     "metadata": {},
     "output_type": "execute_result"
    }
   ],
   "source": [
    "len(df[df.adj_close == df.mins])"
   ]
  },
  {
   "cell_type": "code",
   "execution_count": 102,
   "metadata": {},
   "outputs": [
    {
     "data": {
      "text/plain": [
       "[<matplotlib.lines.Line2D at 0x7f5eaceb3630>]"
      ]
     },
     "execution_count": 102,
     "metadata": {},
     "output_type": "execute_result"
    },
    {
     "data": {
      "image/png": "[encoded data removed]",
      "text/plain": [
       "<Figure size 432x288 with 1 Axes>"
      ]
     },
     "metadata": {
      "needs_background": "light"
     },
     "output_type": "display_data"
    }
   ],
   "source": [
    "plt.scatter(df[df.adj_close == df.mins].index, df[df.adj_close == df.mins][\"adj_close\"])\n",
    "plt.plot(df.index,df.adj_close,c='r')"
   ]
  },
  {
   "cell_type": "code",
   "execution_count": 95,
   "metadata": {},
   "outputs": [
    {
     "data": {
      "text/plain": [
       "45"
      ]
     },
     "execution_count": 95,
     "metadata": {},
     "output_type": "execute_result"
    }
   ],
   "source": [
    "len(df[df[\"close\"] == df[\"mins\"]])"
   ]
  },
  {
   "cell_type": "code",
   "execution_count": 71,
   "metadata": {
    "ExecuteTime": {
     "end_time": "2019-10-23T21:08:12.236375Z",
     "start_time": "2019-10-23T21:08:12.219624Z"
    }
   },
   "outputs": [
    {
     "data": {
      "text/plain": [
       "date\n",
       "2013-01-13      NaN\n",
       "2013-01-14      NaN\n",
       "2013-01-15    909.0\n",
       "2013-01-16    909.0\n",
       "2013-01-19    919.0\n",
       "Name: close, dtype: float64"
      ]
     },
     "execution_count": 71,
     "metadata": {},
     "output_type": "execute_result"
    }
   ],
   "source": [
    "df[\"close\"].rolling(3).min().head()"
   ]
  },
  {
   "cell_type": "code",
   "execution_count": 40,
   "metadata": {
    "ExecuteTime": {
     "end_time": "2019-10-23T21:04:30.793316Z",
     "start_time": "2019-10-23T21:04:30.786437Z"
    }
   },
   "outputs": [],
   "source": [
    "from sklearn.linear_model import LinearRegression\n",
    "xx  = np.array(range(1, len(df2)+1))\n",
    "x = xx.reshape(-1, 1)\n",
    "y = df2[\"log_adj_close\"].values\n"
   ]
  },
  {
   "cell_type": "code",
   "execution_count": 45,
   "metadata": {
    "ExecuteTime": {
     "end_time": "2019-10-23T21:06:32.852189Z",
     "start_time": "2019-10-23T21:06:32.842726Z"
    }
   },
   "outputs": [],
   "source": [
    "model = LinearRegression()\n",
    "model.fit(x,  y)\n",
    "a = model.coef_\n",
    "b = model.intercept_"
   ]
  },
  {
   "cell_type": "code",
   "execution_count": 47,
   "metadata": {
    "ExecuteTime": {
     "end_time": "2019-10-23T21:07:39.802158Z",
     "start_time": "2019-10-23T21:07:39.790644Z"
    }
   },
   "outputs": [],
   "source": [
    "std = np.std(df2[\"log_adj_close\"])"
   ]
  },
  {
   "cell_type": "code",
   "execution_count": 48,
   "metadata": {
    "ExecuteTime": {
     "end_time": "2019-10-23T21:07:48.259411Z",
     "start_time": "2019-10-23T21:07:47.940478Z"
    }
   },
   "outputs": [
    {
     "data": {
      "image/png": "[encoded data removed]",
      "text/plain": [
       "<Figure size 432x288 with 1 Axes>"
      ]
     },
     "metadata": {
      "needs_background": "light"
     },
     "output_type": "display_data"
    }
   ],
   "source": [
    "plt.plot(xx, a*xx+b)\n",
    "plt.plot(xx, a*xx+b+std)\n",
    "plt.plot(xx, a*xx+b-std)\n",
    "plt.plot(xx, df2[\"log_adj_close\"])\n",
    "plt.show()"
   ]
  },
  {
   "cell_type": "code",
   "execution_count": null,
   "metadata": {
    "ExecuteTime": {
     "end_time": "2019-10-23T20:52:27.497330Z",
     "start_time": "2019-10-23T20:52:27.013314Z"
    }
   },
   "outputs": [],
   "source": [
    "df2.plot()"
   ]
  },
  {
   "cell_type": "code",
   "execution_count": null,
   "metadata": {
    "ExecuteTime": {
     "end_time": "2019-10-17T07:35:03.475348Z",
     "start_time": "2019-10-17T07:35:03.108987Z"
    }
   },
   "outputs": [],
   "source": [
    "df[\"adj_close\"].plot()"
   ]
  },
  {
   "cell_type": "code",
   "execution_count": null,
   "metadata": {
    "ExecuteTime": {
     "end_time": "2019-10-16T12:09:57.392282Z",
     "start_time": "2019-10-16T12:09:57.374424Z"
    }
   },
   "outputs": [],
   "source": [
    "df3 = td.add_adjust(df2)"
   ]
  },
  {
   "cell_type": "code",
   "execution_count": null,
   "metadata": {
    "ExecuteTime": {
     "end_time": "2019-10-16T11:58:40.816822Z",
     "start_time": "2019-10-16T11:58:40.580325Z"
    }
   },
   "outputs": [],
   "source": [
    "df = dm.get(\"خساپا\")\n",
    "df.index"
   ]
  },
  {
   "cell_type": "code",
   "execution_count": 125,
   "metadata": {},
   "outputs": [
    {
     "ename": "FileNotFoundError",
     "evalue": "File b'../xcels/master0.csv' does not exist",
     "output_type": "error",
     "traceback": [
      "\u001b[0;31m---------------------------------------------------------------------------\u001b[0m",
      "\u001b[0;31mFileNotFoundError\u001b[0m                         Traceback (most recent call last)",
      "\u001b[0;32m<ipython-input-125-b806636bb512>\u001b[0m in \u001b[0;36m<module>\u001b[0;34m\u001b[0m\n\u001b[0;32m----> 1\u001b[0;31m \u001b[0mfind_supports\u001b[0m\u001b[0;34m(\u001b[0m\u001b[0;34m\"1391\"\u001b[0m\u001b[0;34m,\u001b[0m\u001b[0;34m\"1392\"\u001b[0m\u001b[0;34m)\u001b[0m\u001b[0;34m\u001b[0m\u001b[0;34m\u001b[0m\u001b[0m\n\u001b[0m",
      "\u001b[0;32m<ipython-input-124-760d25720cff>\u001b[0m in \u001b[0;36mfind_supports\u001b[0;34m(firstdate, lastdate, stockname, minimum_touch)\u001b[0m\n\u001b[1;32m     18\u001b[0m \u001b[0;34m\u001b[0m\u001b[0m\n\u001b[1;32m     19\u001b[0m     \u001b[0mdm\u001b[0m \u001b[0;34m=\u001b[0m \u001b[0mDataModel\u001b[0m\u001b[0;34m(\u001b[0m\u001b[0;34m)\u001b[0m\u001b[0;34m\u001b[0m\u001b[0;34m\u001b[0m\u001b[0m\n\u001b[0;32m---> 20\u001b[0;31m     \u001b[0mdm\u001b[0m\u001b[0;34m.\u001b[0m\u001b[0mread_from_csvs\u001b[0m\u001b[0;34m(\u001b[0m\u001b[0;34m\"../xcels\"\u001b[0m\u001b[0;34m,\u001b[0m\u001b[0;34m[\u001b[0m\u001b[0;34m\"master0.csv\"\u001b[0m\u001b[0;34m,\u001b[0m\u001b[0;34m\"master1.csv\"\u001b[0m\u001b[0;34m]\u001b[0m\u001b[0;34m)\u001b[0m\u001b[0;34m\u001b[0m\u001b[0;34m\u001b[0m\u001b[0m\n\u001b[0m\u001b[1;32m     21\u001b[0m     \u001b[0mdf\u001b[0m \u001b[0;34m=\u001b[0m \u001b[0mdm\u001b[0m\u001b[0;34m.\u001b[0m\u001b[0mget\u001b[0m\u001b[0;34m(\u001b[0m\u001b[0;34m\"خساپا\"\u001b[0m\u001b[0;34m,\u001b[0m \u001b[0mfirstdate\u001b[0m\u001b[0;34m,\u001b[0m \u001b[0mlastdate\u001b[0m\u001b[0;34m)\u001b[0m\u001b[0;34m\u001b[0m\u001b[0;34m\u001b[0m\u001b[0m\n\u001b[1;32m     22\u001b[0m     \u001b[0mstocko\u001b[0m \u001b[0;34m=\u001b[0m \u001b[0mdf\u001b[0m\u001b[0;34m[\u001b[0m\u001b[0;34m\"log_adj_open\"\u001b[0m\u001b[0;34m]\u001b[0m\u001b[0;34m.\u001b[0m\u001b[0mtolist\u001b[0m\u001b[0;34m(\u001b[0m\u001b[0;34m)\u001b[0m\u001b[0;34m\u001b[0m\u001b[0;34m\u001b[0m\u001b[0m\n",
      "\u001b[0;32m~/trade/Tradion/models/data_provider.py\u001b[0m in \u001b[0;36mread_from_csvs\u001b[0;34m(self, data_location, file_names)\u001b[0m\n\u001b[1;32m    115\u001b[0m         \u001b[0;32mfor\u001b[0m \u001b[0mname\u001b[0m \u001b[0;32min\u001b[0m \u001b[0mfile_names\u001b[0m\u001b[0;34m:\u001b[0m\u001b[0;34m\u001b[0m\u001b[0;34m\u001b[0m\u001b[0m\n\u001b[1;32m    116\u001b[0m             \u001b[0mdfs\u001b[0m\u001b[0;34m.\u001b[0m\u001b[0mappend\u001b[0m\u001b[0;34m(\u001b[0m\u001b[0mself\u001b[0m\u001b[0;34m.\u001b[0m\u001b[0m__read_csv\u001b[0m\u001b[0;34m(\u001b[0m\u001b[0mdata_location\u001b[0m\u001b[0;34m,\u001b[0m \u001b[0mname\u001b[0m\u001b[0;34m)\u001b[0m\u001b[0;34m)\u001b[0m\u001b[0;34m\u001b[0m\u001b[0;34m\u001b[0m\u001b[0m\n\u001b[0;32m--> 117\u001b[0;31m         \u001b[0mself\u001b[0m\u001b[0;34m.\u001b[0m\u001b[0mdf\u001b[0m \u001b[0;34m=\u001b[0m \u001b[0mpd\u001b[0m\u001b[0;34m.\u001b[0m\u001b[0mconcat\u001b[0m\u001b[0;34m(\u001b[0m\u001b[0mdfs\u001b[0m\u001b[0;34m,\u001b[0m \u001b[0mignore_index\u001b[0m\u001b[0;34m=\u001b[0m\u001b[0;32mTrue\u001b[0m\u001b[0;34m)\u001b[0m\u001b[0;34m\u001b[0m\u001b[0;34m\u001b[0m\u001b[0m\n\u001b[0m\u001b[1;32m    118\u001b[0m         \u001b[0mself\u001b[0m\u001b[0;34m.\u001b[0m\u001b[0minitialize\u001b[0m\u001b[0;34m(\u001b[0m\u001b[0;34m)\u001b[0m\u001b[0;34m\u001b[0m\u001b[0;34m\u001b[0m\u001b[0m\n\u001b[1;32m    119\u001b[0m \u001b[0;34m\u001b[0m\u001b[0m\n",
      "\u001b[0;32m~/trade/Tradion/models/data_provider.py\u001b[0m in \u001b[0;36m__read_csv\u001b[0;34m(self, data_location, file_name)\u001b[0m\n\u001b[1;32m     79\u001b[0m         return pd.read_csv(f'{data_location}/{file_name}', sep=',',header=[0],\n\u001b[1;32m     80\u001b[0m                            parse_dates=[\"date\"])\n\u001b[0;32m---> 81\u001b[0;31m \u001b[0;34m\u001b[0m\u001b[0m\n\u001b[0m\u001b[1;32m     82\u001b[0m     \u001b[0;32mdef\u001b[0m \u001b[0madjust_all\u001b[0m\u001b[0;34m(\u001b[0m\u001b[0mself\u001b[0m\u001b[0;34m)\u001b[0m\u001b[0;34m:\u001b[0m\u001b[0;34m\u001b[0m\u001b[0;34m\u001b[0m\u001b[0m\n\u001b[1;32m     83\u001b[0m         \u001b[0mlogger\u001b[0m\u001b[0;34m.\u001b[0m\u001b[0minfo\u001b[0m\u001b[0;34m(\u001b[0m\u001b[0;34mf\"number of symbols for adjust: {len(self.symbols)}\"\u001b[0m\u001b[0;34m)\u001b[0m\u001b[0;34m\u001b[0m\u001b[0;34m\u001b[0m\u001b[0m\n",
      "\u001b[0;32m~/.local/lib/python3.6/site-packages/pandas/io/parsers.py\u001b[0m in \u001b[0;36mparser_f\u001b[0;34m(filepath_or_buffer, sep, delimiter, header, names, index_col, usecols, squeeze, prefix, mangle_dupe_cols, dtype, engine, converters, true_values, false_values, skipinitialspace, skiprows, nrows, na_values, keep_default_na, na_filter, verbose, skip_blank_lines, parse_dates, infer_datetime_format, keep_date_col, date_parser, dayfirst, iterator, chunksize, compression, thousands, decimal, lineterminator, quotechar, quoting, escapechar, comment, encoding, dialect, tupleize_cols, error_bad_lines, warn_bad_lines, skipfooter, skip_footer, doublequote, delim_whitespace, as_recarray, compact_ints, use_unsigned, low_memory, buffer_lines, memory_map, float_precision)\u001b[0m\n\u001b[1;32m    707\u001b[0m                     skip_blank_lines=skip_blank_lines)\n\u001b[1;32m    708\u001b[0m \u001b[0;34m\u001b[0m\u001b[0m\n\u001b[0;32m--> 709\u001b[0;31m         \u001b[0;32mreturn\u001b[0m \u001b[0m_read\u001b[0m\u001b[0;34m(\u001b[0m\u001b[0mfilepath_or_buffer\u001b[0m\u001b[0;34m,\u001b[0m \u001b[0mkwds\u001b[0m\u001b[0;34m)\u001b[0m\u001b[0;34m\u001b[0m\u001b[0;34m\u001b[0m\u001b[0m\n\u001b[0m\u001b[1;32m    710\u001b[0m \u001b[0;34m\u001b[0m\u001b[0m\n\u001b[1;32m    711\u001b[0m     \u001b[0mparser_f\u001b[0m\u001b[0;34m.\u001b[0m\u001b[0m__name__\u001b[0m \u001b[0;34m=\u001b[0m \u001b[0mname\u001b[0m\u001b[0;34m\u001b[0m\u001b[0;34m\u001b[0m\u001b[0m\n",
      "\u001b[0;32m~/.local/lib/python3.6/site-packages/pandas/io/parsers.py\u001b[0m in \u001b[0;36m_read\u001b[0;34m(filepath_or_buffer, kwds)\u001b[0m\n\u001b[1;32m    447\u001b[0m \u001b[0;34m\u001b[0m\u001b[0m\n\u001b[1;32m    448\u001b[0m     \u001b[0;31m# Create the parser.\u001b[0m\u001b[0;34m\u001b[0m\u001b[0;34m\u001b[0m\u001b[0;34m\u001b[0m\u001b[0m\n\u001b[0;32m--> 449\u001b[0;31m     \u001b[0mparser\u001b[0m \u001b[0;34m=\u001b[0m \u001b[0mTextFileReader\u001b[0m\u001b[0;34m(\u001b[0m\u001b[0mfilepath_or_buffer\u001b[0m\u001b[0;34m,\u001b[0m \u001b[0;34m**\u001b[0m\u001b[0mkwds\u001b[0m\u001b[0;34m)\u001b[0m\u001b[0;34m\u001b[0m\u001b[0;34m\u001b[0m\u001b[0m\n\u001b[0m\u001b[1;32m    450\u001b[0m \u001b[0;34m\u001b[0m\u001b[0m\n\u001b[1;32m    451\u001b[0m     \u001b[0;32mif\u001b[0m \u001b[0mchunksize\u001b[0m \u001b[0;32mor\u001b[0m \u001b[0miterator\u001b[0m\u001b[0;34m:\u001b[0m\u001b[0;34m\u001b[0m\u001b[0;34m\u001b[0m\u001b[0m\n",
      "\u001b[0;32m~/.local/lib/python3.6/site-packages/pandas/io/parsers.py\u001b[0m in \u001b[0;36m__init__\u001b[0;34m(self, f, engine, **kwds)\u001b[0m\n\u001b[1;32m    816\u001b[0m             \u001b[0mself\u001b[0m\u001b[0;34m.\u001b[0m\u001b[0moptions\u001b[0m\u001b[0;34m[\u001b[0m\u001b[0;34m'has_index_names'\u001b[0m\u001b[0;34m]\u001b[0m \u001b[0;34m=\u001b[0m \u001b[0mkwds\u001b[0m\u001b[0;34m[\u001b[0m\u001b[0;34m'has_index_names'\u001b[0m\u001b[0;34m]\u001b[0m\u001b[0;34m\u001b[0m\u001b[0;34m\u001b[0m\u001b[0m\n\u001b[1;32m    817\u001b[0m \u001b[0;34m\u001b[0m\u001b[0m\n\u001b[0;32m--> 818\u001b[0;31m         \u001b[0mself\u001b[0m\u001b[0;34m.\u001b[0m\u001b[0m_make_engine\u001b[0m\u001b[0;34m(\u001b[0m\u001b[0mself\u001b[0m\u001b[0;34m.\u001b[0m\u001b[0mengine\u001b[0m\u001b[0;34m)\u001b[0m\u001b[0;34m\u001b[0m\u001b[0;34m\u001b[0m\u001b[0m\n\u001b[0m\u001b[1;32m    819\u001b[0m \u001b[0;34m\u001b[0m\u001b[0m\n\u001b[1;32m    820\u001b[0m     \u001b[0;32mdef\u001b[0m \u001b[0mclose\u001b[0m\u001b[0;34m(\u001b[0m\u001b[0mself\u001b[0m\u001b[0;34m)\u001b[0m\u001b[0;34m:\u001b[0m\u001b[0;34m\u001b[0m\u001b[0;34m\u001b[0m\u001b[0m\n",
      "\u001b[0;32m~/.local/lib/python3.6/site-packages/pandas/io/parsers.py\u001b[0m in \u001b[0;36m_make_engine\u001b[0;34m(self, engine)\u001b[0m\n\u001b[1;32m   1047\u001b[0m     \u001b[0;32mdef\u001b[0m \u001b[0m_make_engine\u001b[0m\u001b[0;34m(\u001b[0m\u001b[0mself\u001b[0m\u001b[0;34m,\u001b[0m \u001b[0mengine\u001b[0m\u001b[0;34m=\u001b[0m\u001b[0;34m'c'\u001b[0m\u001b[0;34m)\u001b[0m\u001b[0;34m:\u001b[0m\u001b[0;34m\u001b[0m\u001b[0;34m\u001b[0m\u001b[0m\n\u001b[1;32m   1048\u001b[0m         \u001b[0;32mif\u001b[0m \u001b[0mengine\u001b[0m \u001b[0;34m==\u001b[0m \u001b[0;34m'c'\u001b[0m\u001b[0;34m:\u001b[0m\u001b[0;34m\u001b[0m\u001b[0;34m\u001b[0m\u001b[0m\n\u001b[0;32m-> 1049\u001b[0;31m             \u001b[0mself\u001b[0m\u001b[0;34m.\u001b[0m\u001b[0m_engine\u001b[0m \u001b[0;34m=\u001b[0m \u001b[0mCParserWrapper\u001b[0m\u001b[0;34m(\u001b[0m\u001b[0mself\u001b[0m\u001b[0;34m.\u001b[0m\u001b[0mf\u001b[0m\u001b[0;34m,\u001b[0m \u001b[0;34m**\u001b[0m\u001b[0mself\u001b[0m\u001b[0;34m.\u001b[0m\u001b[0moptions\u001b[0m\u001b[0;34m)\u001b[0m\u001b[0;34m\u001b[0m\u001b[0;34m\u001b[0m\u001b[0m\n\u001b[0m\u001b[1;32m   1050\u001b[0m         \u001b[0;32melse\u001b[0m\u001b[0;34m:\u001b[0m\u001b[0;34m\u001b[0m\u001b[0;34m\u001b[0m\u001b[0m\n\u001b[1;32m   1051\u001b[0m             \u001b[0;32mif\u001b[0m \u001b[0mengine\u001b[0m \u001b[0;34m==\u001b[0m \u001b[0;34m'python'\u001b[0m\u001b[0;34m:\u001b[0m\u001b[0;34m\u001b[0m\u001b[0;34m\u001b[0m\u001b[0m\n",
      "\u001b[0;32m~/.local/lib/python3.6/site-packages/pandas/io/parsers.py\u001b[0m in \u001b[0;36m__init__\u001b[0;34m(self, src, **kwds)\u001b[0m\n\u001b[1;32m   1693\u001b[0m         \u001b[0mkwds\u001b[0m\u001b[0;34m[\u001b[0m\u001b[0;34m'allow_leading_cols'\u001b[0m\u001b[0;34m]\u001b[0m \u001b[0;34m=\u001b[0m \u001b[0mself\u001b[0m\u001b[0;34m.\u001b[0m\u001b[0mindex_col\u001b[0m \u001b[0;32mis\u001b[0m \u001b[0;32mnot\u001b[0m \u001b[0;32mFalse\u001b[0m\u001b[0;34m\u001b[0m\u001b[0;34m\u001b[0m\u001b[0m\n\u001b[1;32m   1694\u001b[0m \u001b[0;34m\u001b[0m\u001b[0m\n\u001b[0;32m-> 1695\u001b[0;31m         \u001b[0mself\u001b[0m\u001b[0;34m.\u001b[0m\u001b[0m_reader\u001b[0m \u001b[0;34m=\u001b[0m \u001b[0mparsers\u001b[0m\u001b[0;34m.\u001b[0m\u001b[0mTextReader\u001b[0m\u001b[0;34m(\u001b[0m\u001b[0msrc\u001b[0m\u001b[0;34m,\u001b[0m \u001b[0;34m**\u001b[0m\u001b[0mkwds\u001b[0m\u001b[0;34m)\u001b[0m\u001b[0;34m\u001b[0m\u001b[0;34m\u001b[0m\u001b[0m\n\u001b[0m\u001b[1;32m   1696\u001b[0m \u001b[0;34m\u001b[0m\u001b[0m\n\u001b[1;32m   1697\u001b[0m         \u001b[0;31m# XXX\u001b[0m\u001b[0;34m\u001b[0m\u001b[0;34m\u001b[0m\u001b[0;34m\u001b[0m\u001b[0m\n",
      "\u001b[0;32mpandas/_libs/parsers.pyx\u001b[0m in \u001b[0;36mpandas._libs.parsers.TextReader.__cinit__\u001b[0;34m()\u001b[0m\n",
      "\u001b[0;32mpandas/_libs/parsers.pyx\u001b[0m in \u001b[0;36mpandas._libs.parsers.TextReader._setup_parser_source\u001b[0;34m()\u001b[0m\n",
      "\u001b[0;31mFileNotFoundError\u001b[0m: File b'../xcels/master0.csv' does not exist"
     ]
    }
   ],
   "source": [
    "find_supports(\"1391\",\"1392\")"
   ]
  },
  {
   "cell_type": "code",
   "execution_count": 124,
   "metadata": {
    "ExecuteTime": {
     "end_time": "2019-10-15T11:55:39.299507Z",
     "start_time": "2019-10-15T11:55:35.193636Z"
    }
   },
   "outputs": [],
   "source": [
    "# %%writefile ta_module.py\n",
    "\n",
    "\n",
    "import pandas as pd\n",
    "import numpy as np\n",
    "import plotly.graph_objects as go\n",
    "from datetime import datetime\n",
    "from math import pi\n",
    "import math\n",
    "# import trade_model as td\n",
    "import matplotlib.pyplot as plt\n",
    "from data_provider import DataModel\n",
    "\n",
    "\n",
    "accepted_error = 0.0\n",
    "\n",
    "def find_supports(firstdate, lastdate, stockname = \"خساپا\", minimum_touch = 3):\n",
    "   \n",
    "    dm = DataModel()\n",
    "    dm.read_from_csvs(\"../xcels\",[\"master0.csv\",\"master1.csv\"])\n",
    "    df = dm.get(\"خساپا\", firstdate, lastdate)\n",
    "    stocko = df[\"log_adj_open\"].tolist()\n",
    "    stockc = df[\"log_adj_close\"].tolist()\n",
    "    dates = df.index # for converting startm s to real date .... startm and stopm s are some indexes of stoko array\n",
    "    \n",
    "    lows = []\n",
    "    lows_price = []\n",
    "    for j in range(len(stocko)): \n",
    "        minimum = min(stocko[j], stockc[j])\n",
    "        if ( (j > 10) and (j+10  <  len(stocko)) ):\n",
    "            if (minimum   <= min(stocko[j-10:j+10]) and minimum   <= min(stockc[j-10:j+10])):\n",
    "                lows.append(j)\n",
    "                lows_price.append(minimum)\n",
    "\n",
    "        #finding the best lines \n",
    "    # cnt = numbers of line segments\n",
    "    cnt = 0\n",
    "    # start and stop[cnt] = start poit in x axes and stop point for each line segments\n",
    "    startm = []\n",
    "    stopm = []\n",
    "    checkedpoint = []\n",
    "    lastpoint = 0\n",
    "    count_max = 0\n",
    "    a_maxm = []\n",
    "    b_maxm = []\n",
    "    xarr = lows\n",
    "    yarr = lows_price\n",
    "    max_last = 0\n",
    "    # all tangents from 80 to-80 digree . i will break them in to 1000 pieces\n",
    "    digree = np.linspace(-80, 80, 1000)\n",
    "    digrees = np.tan(digree * pi / 180)\n",
    "\n",
    "\n",
    "    for point in range(len(xarr)) :\n",
    "        max_last = 0  \n",
    "        count_max = 0\n",
    "    #  x and y are the ones of this point\n",
    "        x = xarr[point]\n",
    "        y = yarr[point]\n",
    "    # for this point i am breaking the line into 100 pieces\n",
    "        b_fakes = np.linspace(y-15, y+15, 100)  \n",
    "        for b in b_fakes:\n",
    "            for a in digrees:\n",
    "                count = 0\n",
    "                for p in range(point+1, len(xarr)):\n",
    "                #  x_ and y_ s are for all next points in new dimensions !!\n",
    "                    x_ = xarr[p]-x\n",
    "                    y_ = yarr[p], \n",
    "                    if((x_ * a+b >= y_-15) and (x_ * a+b   <= y_+15)):\n",
    "                        count+= 1\n",
    "                        lastpoint = xarr[p]\n",
    "                    elif (y_+10 < x_*a+b ):\n",
    "                        break\n",
    "                if(count > count_max):\n",
    "                    max_last = lastpoint # max last baraye save kardane lastpointi ke niaz darime . maxof_a ,   b ham hamintor\n",
    "                    count_max = count\n",
    "                    maxof_a = a\n",
    "                    maxof_b = b\n",
    "                lastpoint = 0\n",
    "\n",
    "    #   if this start point include a line that touch three points: count_max are the number of other points ( = 2) . so it should be >= minimum touch - 1\n",
    "        if(count_max >= minimum_touch-1):\n",
    "            repetitious = False\n",
    "            a_in_radian = math.atan(maxof_a)\n",
    "            a_in_degree = math.degrees(a_in_radian)\n",
    "            for cnt in range(len(a_maxm)):\n",
    "                if((math.degrees(math.atan(a_maxm[cnt])) >= a_in_degree-5) and \n",
    "                   (math.degrees(math.atan(a_maxm[cnt])) <= a_in_degree+5) and\n",
    "                   (stopm[cnt] == max_last)):\n",
    "                    repetitious = True\n",
    "\n",
    "            if(not(repetitious)):\n",
    "                a_maxm.append(maxof_a)\n",
    "                b_maxm.append(maxof_a*(-x)+maxof_b)\n",
    "                startm.append(x)\n",
    "                stopm.append(max_last)\n",
    "    \n",
    "#     dates[startm]  because we wanna return exact date\n",
    "    return dates[startm], dates[stopm], a_maxm, b_maxm, df\n",
    "\n",
    "\n",
    "def find_resistances(firstdate, lastdate, stockname = \"خساپا\", minimum_touch = 3):\n",
    "    dm = td.DataModel(\"../xcels\", [\"master0.csv\", \"master1.csv\"])\n",
    "    dm.read()\n",
    "    df = dm.get(stockname, firstdate, lastdate)\n",
    "   \n",
    "    stocko = df[\"open\"].tolist()\n",
    "    stockc = df[\"close\"].tolist()\n",
    "    dates = df.index # for converting startm s to real date .... startm and stopm s are some indexes of stoko array\n",
    "    \n",
    "\n",
    "    highs = []\n",
    "    highs_price = []\n",
    "    for j in range(len(stocko)): \n",
    "        maximum = max(stocko[j], stockc[j])\n",
    "        if ( (j > 10) and (j+10 < len(stocko)) ):\n",
    "            if (maximum >= max(stocko[j-10:j+10]) and maximum >= max(stockc[j-10:j+10])):\n",
    "                highs.append(j)\n",
    "                highs_price.append(maximum)\n",
    "\n",
    "    #finding the best lines \n",
    "    # cnt= numbers of line segments\n",
    "    cnt = 0\n",
    "    # start and stop[cnt]= start poit in x axes and stop point for each line segments\n",
    "    start = []\n",
    "    stop = []\n",
    "    checkedpoint = []\n",
    "    lastpoint = 0\n",
    "    count_max = 0\n",
    "    a_max= []\n",
    "    b_maxv = []\n",
    "    xarr = highs\n",
    "    yarr = highs_price\n",
    "    max_last = 0\n",
    "    # all tangents from 80 to-80 digree . i will break them in to 1000 pieces\n",
    "    digree = np.linspace(-80, 80, 1000)\n",
    "    digrees = np.tan(digree*pi / 180)\n",
    "\n",
    "\n",
    "    for point in range(len(xarr)) :\n",
    "        max_last = 0\n",
    "        count_max = 0\n",
    "    #  x and y are the ones of this point\n",
    "        x = xarr[point]\n",
    "        y = yarr[point]\n",
    "    # for this point i am breaking the line into 100 pieces\n",
    "        b_fakes = np.linspace(y-15, y+15, 100)  \n",
    "        for b in b_fakes:\n",
    "            for a in digrees:\n",
    "                count = 0\n",
    "                for p in range(point+1, len(xarr)):\n",
    "                #  x_ and y_ s are for all next points in new dimensions !!\n",
    "                    x_ = xarr[p]-x\n",
    "                    y_ = yarr[p]\n",
    "                    if((x_*a+b >= y_-15) and (x_*a+b <= y_+15)):\n",
    "                        count += 1\n",
    "                        lastpoint = xarr[p]\n",
    "                    elif (y_-10 > x_*a+b ):\n",
    "                        break\n",
    "                if(count > count_max):\n",
    "                    max_last = lastpoint # max last baraye save kardane lastpointi ke niaz darime . maxof_a ,  b ham hamintor\n",
    "                    count_max = count\n",
    "                    maxof_a = a\n",
    "                    maxof_b = b\n",
    "                lastpoint = 0\n",
    "\n",
    "    #   if this start point include a line that touch three points: count_max are the number of other points .\n",
    "        if(count_max >= minimum_touch-1):\n",
    "            repetitious = False\n",
    "            a_in_radian = math.atan(maxof_a)\n",
    "            a_in_degree = math.degrees(a_in_radian)\n",
    "            for cnt in range(len(a_max)):\n",
    "                if((math.degrees(math.atan(a_max[cnt])) >= a_in_degree-5) and \n",
    "                   (math.degrees(math.atan(a_max[cnt])) <= a_in_degree +5) and\n",
    "                   (stop[cnt] == max_last)):\n",
    "                    repetitious = True\n",
    "\n",
    "            if(not(repetitious)):\n",
    "                a_max.append(maxof_a)\n",
    "                b_max.append(maxof_a*(-x)+maxof_b)\n",
    "                start.append(x)\n",
    "                stop.append(max_last)\n",
    "    #     dates[startm]  because we wanna return exact date\n",
    "    return dates[start], dates[stop], a_max, b_max, df"
   ]
  },
  {
   "cell_type": "code",
   "execution_count": null,
   "metadata": {
    "ExecuteTime": {
     "end_time": "2019-10-15T11:56:46.403982Z",
     "start_time": "2019-10-15T11:55:42.926702Z"
    }
   },
   "outputs": [],
   "source": [
    "startm, stopm, a, b, df = find_supports(\"1392-01-01\", \"1398-06-20\", \"خساپا\")"
   ]
  },
  {
   "cell_type": "code",
   "execution_count": null,
   "metadata": {
    "ExecuteTime": {
     "end_time": "2019-10-15T12:01:54.337119Z",
     "start_time": "2019-10-15T12:00:41.332947Z"
    }
   },
   "outputs": [],
   "source": [
    "start, stop, aa, bb, _ = find_resistances(\"1392-01-01\", \"1398-06-20\", \"خساپا\")"
   ]
  },
  {
   "cell_type": "raw",
   "metadata": {},
   "source": [
    "# %matplotlib inline\n",
    "import matplotlib.pyplot as plt\n",
    "import time\n",
    "plt.style.use('seaborn-whitegrid')\n",
    "x = np.arange(len(stocko))\n",
    "# plt.scatter(highs,  highs_price , c = \"r\")\n",
    "# plt.scatter(lows,  lows_price , c = \"g\")\n",
    "for cnt in range(len(indexes)):\n",
    "    \n",
    "    plt.figure(num = None,  figsize = (8,  4),  dpi = 150)\n",
    "    plt.xlim(0, 1500)\n",
    "    plt.ylim(500, 2500)\n",
    "    plt.xlabel('Day number')\n",
    "    plt.ylabel('Price')\n",
    "    plt.title(\"This is Price tunnel number {}\".format(cnt+1))\n",
    "\n",
    "    xx = np.linspace(start[indexes[cnt][0]], stop[indexes[cnt][0]]+50, dtype = float)\n",
    "    plt.plot(xx, a_max[indexes[cnt][0]] * xx +b_max[indexes[cnt][0]] ,  linestyle = \"-\", c = \"b\")\n",
    "\n",
    "    xx = np.linspace(startm[indexes[cnt][1]], stopm[indexes[cnt][1]]+50, dtype = float)\n",
    "    plt.plot(xx, a_maxm[indexes[cnt][1]] * xx +b_maxm[indexes[cnt][1]] ,  linestyle = \"-.\", c = \"r\")\n",
    "    plt.plot(x, stockc, linestyle = \"-\", c = \"k\")\n",
    "    plt.savefig(\"../trade/Chart images/price_tunnel {}\".format(cnt+1))\n",
    "    plt.show()"
   ]
  },
  {
   "cell_type": "code",
   "execution_count": null,
   "metadata": {
    "ExecuteTime": {
     "end_time": "2019-10-10T15:56:36.515969Z",
     "start_time": "2019-10-10T15:56:36.490464Z"
    }
   },
   "outputs": [],
   "source": [
    "df.iloc[startm[0]]\n"
   ]
  },
  {
   "cell_type": "code",
   "execution_count": null,
   "metadata": {
    "ExecuteTime": {
     "end_time": "2019-10-10T15:18:12.235303Z",
     "start_time": "2019-10-10T15:18:12.159454Z"
    }
   },
   "outputs": [],
   "source": [
    "st"
   ]
  },
  {
   "cell_type": "code",
   "execution_count": null,
   "metadata": {
    "ExecuteTime": {
     "end_time": "2019-10-10T16:17:18.024477Z",
     "start_time": "2019-10-10T16:17:18.006828Z"
    },
    "scrolled": true
   },
   "outputs": [],
   "source": [
    "print(df.loc[startm[0]])\n"
   ]
  },
  {
   "cell_type": "code",
   "execution_count": null,
   "metadata": {
    "ExecuteTime": {
     "end_time": "2019-10-15T13:10:50.098265Z",
     "start_time": "2019-10-15T13:10:48.575477Z"
    }
   },
   "outputs": [],
   "source": [
    "plt.figure(figsize = (16, 8), dpi = 150)\n",
    "df[\"close\"].plot()\n"
   ]
  },
  {
   "cell_type": "code",
   "execution_count": null,
   "metadata": {
    "ExecuteTime": {
     "end_time": "2019-10-10T13:55:06.683472Z",
     "start_time": "2019-10-10T13:55:06.571613Z"
    }
   },
   "outputs": [],
   "source": [
    "df"
   ]
  }
 ],
 "metadata": {
  "kernelspec": {
   "display_name": "Python 3",
   "language": "python",
   "name": "python3"
  },
  "language_info": {
   "codemirror_mode": {
    "name": "ipython",
    "version": 3
   },
   "file_extension": ".py",
   "mimetype": "text/x-python",
   "name": "python",
   "nbconvert_exporter": "python",
   "pygments_lexer": "ipython3",
   "version": "3.6.9"
  },
  "toc": {
   "base_numbering": 1,
   "nav_menu": {},
   "number_sections": false,
   "sideBar": false,
   "skip_h1_title": false,
   "title_cell": "Table of Contents",
   "title_sidebar": "Contents",
   "toc_cell": false,
   "toc_position": {},
   "toc_section_display": false,
   "toc_window_display": false
  }
 },
 "nbformat": 4,
 "nbformat_minor": 4
}
