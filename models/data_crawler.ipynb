{
 "cells": [
  {
   "cell_type": "code",
   "execution_count": null,
   "metadata": {},
   "outputs": [],
   "source": [
    "from data_crawler import *\n",
    "from loguru import logger\n",
    "\n",
    "def setup_logger(file_name):\n",
    "    logger.remove()\n",
    "    logger.add(f\"./logs/{file_name}-debug.log\", format=\"{time} {level} {message}\", level=\"DEBUG\", enqueue=True)\n",
    "    logger.add(f\"./logs/{file_name}-info.log\", format=\"{time} {level} {message}\", level=\"INFO\", enqueue=True, backtrace=True)\n",
    "    logger.add(f\"./logs/{file_name}-error.log\", format=\"{time} {level} {message}\", level=\"ERROR\", enqueue=True, backtrace=True, diagnose=True)\n",
    "\n",
    "setup_logger(\"data_crawler\")\n",
    "\n",
    "dm = DataModel()\n",
    "dm.delete_pystore_item()\n",
    "\n",
    "craw2df = Crawl2DF(4)\n",
    "craw2df.run()"
   ]
  },
  {
   "cell_type": "code",
   "execution_count": null,
   "metadata": {},
   "outputs": [],
   "source": []
  },
  {
   "cell_type": "code",
   "execution_count": null,
   "metadata": {},
   "outputs": [],
   "source": []
  },
  {
   "cell_type": "code",
   "execution_count": null,
   "metadata": {},
   "outputs": [],
   "source": []
  },
  {
   "cell_type": "code",
   "execution_count": null,
   "metadata": {},
   "outputs": [],
   "source": []
  },
  {
   "cell_type": "markdown",
   "metadata": {},
   "source": [
    "# new indexing model"
   ]
  },
  {
   "cell_type": "code",
   "execution_count": 48,
   "metadata": {},
   "outputs": [],
   "source": [
    "from data_provider_new import *\n",
    "\n",
    "nametmp = \"1380-10-10\"\n",
    "nametmp1 = \"1390-10-11\"\n",
    "def do(nametmp):\n",
    "    dftmp = pd.read_excel(f'../excels/1380-10-10.xlsx', header=[0], skiprows=[0,1], convert_float=False)\n",
    "    dftmp.columns = DataModel.HEADER\n",
    "    year, month, day = nametmp.split(\"-\")\n",
    "    date = JalaliDate(year, month, day).todate()\n",
    "    yearlist = np.full(len(dftmp), year).tolist()\n",
    "    monthlist = np.full(len(dftmp), month).tolist()\n",
    "    daylist = np.full(len(dftmp), day).tolist()\n",
    "    datelist = np.full(len(dftmp), date).tolist()\n",
    "    dftmp[\"year\"] = yearlist\n",
    "    dftmp[\"month\"] = monthlist\n",
    "    dftmp[\"day\"] = daylist\n",
    "    dftmp[\"date\"] = datelist\n",
    "    dftmp[\"date\"] = pd.to_datetime(dftmp[\"date\"])\n",
    "    dftmp[\"symbol\"] = dftmp.symbol.apply(str)\n",
    "    dftmp[\"name\"] = dftmp[\"name\"].apply(str)\n",
    "    dftmp = dftmp.astype({\"year\": int, \"month\": int, \"day\": int})\n",
    "    dftmp = dftmp.set_index(['symbol', 'date'])\n",
    "    return dftmp\n",
    "df1 = do(nametmp)\n",
    "df2 = do(nametmp1)\n",
    "# dm_new = DataModel()\n",
    "# dm_new.read_from_df(pd.concat(all_dfs).sort_index())\n",
    "# self.dm.df = self.dm.df.append(dm_new.df)\n",
    "# all_dfs = []\n",
    "# logger.info(f'storing in pystore')\n",
    "# self.dm.update_df_extensions()\n",
    "# self.dm.store_in_pystore()\n",
    "# logger.info(f'stored in pystore')\n",
    "# self.dm.save_to_csvs(self.excel_location, \"master\", 1000000)\n",
    "# logger.info(f'stored in file')\n",
    "df = pd.concat([df1, df2]).sort_index()\n",
    "df = df.loc[~df.index.duplicated(keep='last')]\n",
    "dftmp = df.loc[df.index.get_level_values(\"symbol\")[2]].copy()\n"
   ]
  },
  {
   "cell_type": "code",
   "execution_count": null,
   "metadata": {},
   "outputs": [],
   "source": []
  },
  {
   "cell_type": "code",
   "execution_count": null,
   "metadata": {},
   "outputs": [],
   "source": []
  },
  {
   "cell_type": "code",
   "execution_count": null,
   "metadata": {},
   "outputs": [],
   "source": []
  },
  {
   "cell_type": "code",
   "execution_count": null,
   "metadata": {},
   "outputs": [],
   "source": []
  }
 ],
 "metadata": {
  "kernelspec": {
   "display_name": "Python 3",
   "language": "python",
   "name": "python3"
  },
  "language_info": {
   "codemirror_mode": {
    "name": "ipython",
    "version": 3
   },
   "file_extension": ".py",
   "mimetype": "text/x-python",
   "name": "python",
   "nbconvert_exporter": "python",
   "pygments_lexer": "ipython3",
   "version": "3.7.5"
  },
  "widgets": {
   "application/vnd.jupyter.widget-state+json": {
    "state": {},
    "version_major": 2,
    "version_minor": 0
   }
  }
 },
 "nbformat": 4,
 "nbformat_minor": 4
}
