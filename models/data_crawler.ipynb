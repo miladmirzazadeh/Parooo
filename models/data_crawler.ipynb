{
 "cells": [
  {
   "cell_type": "code",
   "execution_count": null,
   "metadata": {},
   "outputs": [],
   "source": [
    "from data_crawler import *\n",
    "from loguru import logger\n",
    "logger.remove()\n",
    "logger.add(\"log/data_crawler_debug.log\", format=\"{time} {level} {message}\", level=\"DEBUG\", enqueue=True, backtrace=True)\n",
    "logger.add(\"log/data_crawler_info.log\", format=\"{time} {level} {message}\", level=\"INFO\", enqueue=True, backtrace=True)\n",
    "logger.add(\"log/data_crawler_error.log\", format=\"{time} {level} {message}\", level=\"ERROR\", enqueue=True, backtrace=True, diagnose=True)\n",
    "craw2df = Crawl2DF(4)\n",
    "craw2df.run()"
   ]
  },
  {
   "cell_type": "code",
   "execution_count": null,
   "metadata": {},
   "outputs": [],
   "source": []
  },
  {
   "cell_type": "code",
   "execution_count": 1,
   "metadata": {},
   "outputs": [],
   "source": [
    "from data_provider import *\n",
    "# pd.options.mode.chained_assignment = 'raise'\n",
    "# df = craw2df.dm.df\n",
    "# symbol = \"صمپنا2\"\n",
    "# df2 = df.loc[df[\"symbol\"]==symbol].copy()\n",
    "# df2.loc[\"2019/10/15\":\"2019/10/17\"]\n",
    "# add_adjust_scale(df2)\n",
    "# add_adjust(df2)\n",
    "# print(df2[\"adj_ending\"])\n",
    "\n",
    "# new_part = pd.isna(df2[\"adj_ending\"])\n",
    "# print(new_part.sum())\n",
    "# adj = df2.loc[np.logical_and(df2[\"adj_scale\"] < 1, new_part)].index\n",
    "# print(\"ho\", adj)\n",
    "# df2.loc[new_part, \"adj_open\"] = df2.loc[new_part, \"open\"]\n",
    "# df2.loc[new_part, \"adj_close\"] = df2.loc[new_part, \"close\"]\n",
    "# df2.loc[new_part, \"adj_ending\"] = df2.loc[new_part, \"ending\"]\n",
    "# df2.loc[new_part, \"adj_min\"] = df2.loc[new_part, \"min\"]\n",
    "# df2.loc[new_part, \"adj_max\"] = df2.loc[new_part, \"max\"]\n",
    "# adj_headers = [\"adj_min\", \"adj_max\", \"adj_close\", \"adj_open\", \"adj_ending\"]\n",
    "# for date in adj:\n",
    "#     print(\"hi\", date)\n",
    "#     scale = df2.loc[date, \"adj_scale\"]\n",
    "#     print(scale)\n",
    "#     df2.loc[df2.index[0]:date, adj_headers] = df2.loc[df2.index[0]:date, adj_headers] * scale\n",
    "\n",
    "# craw2df.dm.get(symbol)\n",
    "# print(len(df.loc[df.symbol == symbol, \"ending\"]))\n",
    "# print(len(df.loc[df.symbol == symbol, \"lastday\"]))\n",
    "# df.loc[:, ['endings', 'lastday']]\n",
    "\n"
   ]
  },
  {
   "cell_type": "code",
   "execution_count": 1,
   "metadata": {},
   "outputs": [],
   "source": [
    "# dm = DataModel(\"../../xcels\", [\"master0.csv\", \"master1.csv\"])\n",
    "# dm.read_from_csvs()\n",
    "# dm.store_in_pystore()\n",
    "# dm.restore_from_pystore()\n",
    "# dm.delete_pystore_item()"
   ]
  },
  {
   "cell_type": "code",
   "execution_count": 1,
   "metadata": {},
   "outputs": [],
   "source": [
    "from data_provider import *\n",
    "\n",
    "symbol = \"مداران\"\n",
    "\"ﺹﺎﻴﺘﻟ2\"\n",
    "\"ﺺﻣپﻥﺍ2\"\n",
    "\"ﺥﻭﺩﺭﻭ\"\n",
    "pd.options.mode.chained_assignment = 'raise'\n",
    "dm = DataModel()\n",
    "dm.restore_from_pystore()\n",
    "# dm.store_in_pystore()"
   ]
  },
  {
   "cell_type": "code",
   "execution_count": 2,
   "metadata": {},
   "outputs": [],
   "source": [
    "# pd.options.mode.chained_assignment = 'raise'\n",
    "df2 = dm.df\n",
    "# df2.drop_duplicates(subset=[\"symbol\", \"name\", \"year\", \"month\", \"day\"], keep=\"last\",inplace=True)\n",
    "symbol = \"صمپنا2\"\n",
    "# d = df2.loc[np.logical_and(df2.index==\"2014-09-15\", df2.symbol==symbol), :]\n",
    "# d.loc[d.name==\"اجاره مپنا (2) سه ماهه 20 درصد\"][\"name\"] = \"اجاره مپنا سه ماهه 20 درصد\"\n",
    "df = df2.loc[df2[\"symbol\"]==symbol].copy()\n",
    "# print(d)\n",
    "# df2.loc[\"2019/10/15\":\"2019/10/17\"]\n",
    "add_adjust_scale(df)\n",
    "# add_adjust(df2)\n",
    "# print(df[\"adj_ending\"])\n",
    "\n",
    "new_part = pd.isna(df[\"adj_ending\"])\n",
    "print(new_part.sum())\n",
    "logger.debug(f\"new part len is {new_part.sum()}, shape: {new_part.shape}\")\n",
    "if new_part.sum() > 0:\n",
    "    adj = df.loc[np.logical_and(df[\"adj_scale\"] < 1, new_part)].index\n",
    "    df.loc[new_part, \"adj_open\"] = df.loc[new_part, \"open\"]\n",
    "    df.loc[new_part, \"adj_close\"] = df.loc[new_part, \"close\"]\n",
    "    df.loc[new_part, \"adj_ending\"] = df.loc[new_part, \"ending\"]\n",
    "    df.loc[new_part, \"adj_min\"] = df.loc[new_part, \"min\"]\n",
    "    df.loc[new_part, \"adj_max\"] = df.loc[new_part, \"max\"]\n",
    "    adj_headers = [\"adj_min\", \"adj_max\", \"adj_close\", \"adj_open\", \"adj_ending\"]\n",
    "    for date in adj:\n",
    "        logger.debug(f\"found adj date: {date}\")\n",
    "        scales = df.loc[date, \"adj_scale\"]\n",
    "        if type(scales) != pd.Series:\n",
    "            scales = [scales]\n",
    "        for scale in scales:\n",
    "            df.loc[df.index[0]:date, adj_headers] = df.loc[df.index[0]:date, adj_headers] * scale\n",
    "\n",
    "# craw2df.dm.get(symbol)\n",
    "# print(len(df.loc[df.symbol == symbol, \"ending\"]))\n",
    "# print(len(df.loc[df.symbol == symbol, \"lastday\"]))\n",
    "# df.loc[:, ['endings', 'lastday']]"
   ]
  },
  {
   "cell_type": "code",
   "execution_count": null,
   "metadata": {},
   "outputs": [],
   "source": [
    "symbol = \"خساپا\"\n",
    "df = dm.get(symbol,\"1385-1-1\", \"1398-12-26\")\n",
    "abnormal = df[df[\"adj_scale\"] < 1]\n",
    "for a in abnormal.index:\n",
    "    print(JalaliDate(a), abnormal.loc[a, \"adj_scale\"])\n",
    "add_adjust(df)\n",
    "\n",
    "df.loc[:, [\"close\", \"open\", \"ending\", \"lastday\"]]"
   ]
  },
  {
   "cell_type": "code",
   "execution_count": null,
   "metadata": {},
   "outputs": [],
   "source": []
  }
 ],
 "metadata": {
  "kernelspec": {
   "display_name": "Python 3",
   "language": "python",
   "name": "python3"
  },
  "language_info": {
   "codemirror_mode": {
    "name": "ipython",
    "version": 3
   },
   "file_extension": ".py",
   "mimetype": "text/x-python",
   "name": "python",
   "nbconvert_exporter": "python",
   "pygments_lexer": "ipython3",
   "version": "3.6.9"
  }
 },
 "nbformat": 4,
 "nbformat_minor": 4
}
