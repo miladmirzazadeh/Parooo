{
 "cells": [
  {
   "cell_type": "code",
   "execution_count": null,
   "metadata": {},
   "outputs": [],
   "source": [
    "from data_crawler import *\n",
    "from loguru import logger\n",
    "\n",
    "def setup_logger(file_name):\n",
    "    logger.remove()\n",
    "    logger.add(f\"./logs/{file_name}-debug.log\", format=\"{time} {level} {message}\", level=\"DEBUG\", enqueue=True)\n",
    "    logger.add(f\"./logs/{file_name}-info.log\", format=\"{time} {level} {message}\", level=\"INFO\", enqueue=True, backtrace=True)\n",
    "    logger.add(f\"./logs/{file_name}-error.log\", format=\"{time} {level} {message}\", level=\"ERROR\", enqueue=True, backtrace=True, diagnose=True)\n",
    "\n",
    "setup_logger(\"data_crawler\")\n",
    "\n",
    "# dm = DataModel()\n",
    "# dm.delete_pystore_item()\n",
    "\n",
    "craw2df = Crawl2DF(4)\n",
    "craw2df.run()"
   ]
  },
  {
   "cell_type": "code",
   "execution_count": null,
   "metadata": {},
   "outputs": [],
   "source": []
  },
  {
   "cell_type": "code",
   "execution_count": null,
   "metadata": {},
   "outputs": [],
   "source": []
  },
  {
   "cell_type": "code",
   "execution_count": null,
   "metadata": {},
   "outputs": [],
   "source": []
  },
  {
   "cell_type": "code",
   "execution_count": null,
   "metadata": {},
   "outputs": [],
   "source": []
  },
  {
   "cell_type": "code",
   "execution_count": null,
   "metadata": {},
   "outputs": [],
   "source": []
  },
  {
   "cell_type": "code",
   "execution_count": null,
   "metadata": {},
   "outputs": [],
   "source": []
  },
  {
   "cell_type": "code",
   "execution_count": null,
   "metadata": {},
   "outputs": [],
   "source": []
  },
  {
   "cell_type": "code",
   "execution_count": null,
   "metadata": {},
   "outputs": [],
   "source": []
  }
 ],
 "metadata": {
  "kernelspec": {
   "display_name": "Python 3",
   "language": "python",
   "name": "python3"
  },
  "language_info": {
   "codemirror_mode": {
    "name": "ipython",
    "version": 3
   },
   "file_extension": ".py",
   "mimetype": "text/x-python",
   "name": "python",
   "nbconvert_exporter": "python",
   "pygments_lexer": "ipython3",
   "version": "3.7.5"
  },
  "widgets": {
   "application/vnd.jupyter.widget-state+json": {
    "state": {},
    "version_major": 2,
    "version_minor": 0
   }
  }
 },
 "nbformat": 4,
 "nbformat_minor": 4
}
