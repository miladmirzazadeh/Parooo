{
 "cells": [
  {
   "cell_type": "code",
   "execution_count": 2,
   "metadata": {},
   "outputs": [
    {
     "data": {
      "text/plain": [
       "3"
      ]
     },
     "execution_count": 2,
     "metadata": {},
     "output_type": "execute_result"
    }
   ],
   "source": [
    "from data_crawler import *\n",
    "from loguru import logger\n",
    "logger.remove()\n",
    "logger.add(\"data_crawler_debug.log\", format=\"{time} {level} {message}\", level=\"DEBUG\", enqueue=True, backtrace=True)\n",
    "logger.add(\"data_crawler_info.log\", format=\"{time} {level} {message}\", level=\"INFO\", enqueue=True, backtrace=True)\n",
    "logger.add(\"data_crawler_error.log\", format=\"{time} {level} {message}\", level=\"ERROR\", enqueue=True, backtrace=True)"
   ]
  },
  {
   "cell_type": "code",
   "execution_count": null,
   "metadata": {},
   "outputs": [],
   "source": []
  },
  {
   "cell_type": "code",
   "execution_count": null,
   "metadata": {},
   "outputs": [
    {
     "name": "stderr",
     "output_type": "stream",
     "text": [
      "  3%|▎         | 138/4618 [03:07<1:44:23,  1.40s/it]"
     ]
    }
   ],
   "source": [
    "craw2df = Crawl2DF(4)\n",
    "craw2df.run()"
   ]
  },
  {
   "cell_type": "code",
   "execution_count": null,
   "metadata": {},
   "outputs": [],
   "source": []
  },
  {
   "cell_type": "code",
   "execution_count": 1,
   "metadata": {},
   "outputs": [],
   "source": [
    "from data_provider import *\n",
    "# pd.options.mode.chained_assignment = 'raise'\n",
    "# df = craw2df.dm.df\n",
    "# symbol = \"صمپنا2\"\n",
    "# df2 = df.loc[df[\"symbol\"]==symbol].copy()\n",
    "# df2.loc[\"2019/10/15\":\"2019/10/17\"]\n",
    "# add_adjust_scale(df2)\n",
    "# add_adjust(df2)\n",
    "# print(df2[\"adj_ending\"])\n",
    "\n",
    "# new_part = pd.isna(df2[\"adj_ending\"])\n",
    "# print(new_part.sum())\n",
    "# adj = df2.loc[np.logical_and(df2[\"adj_scale\"] < 1, new_part)].index\n",
    "# print(\"ho\", adj)\n",
    "# df2.loc[new_part, \"adj_open\"] = df2.loc[new_part, \"open\"]\n",
    "# df2.loc[new_part, \"adj_close\"] = df2.loc[new_part, \"close\"]\n",
    "# df2.loc[new_part, \"adj_ending\"] = df2.loc[new_part, \"ending\"]\n",
    "# df2.loc[new_part, \"adj_min\"] = df2.loc[new_part, \"min\"]\n",
    "# df2.loc[new_part, \"adj_max\"] = df2.loc[new_part, \"max\"]\n",
    "# adj_headers = [\"adj_min\", \"adj_max\", \"adj_close\", \"adj_open\", \"adj_ending\"]\n",
    "# for date in adj:\n",
    "#     print(\"hi\", date)\n",
    "#     scale = df2.loc[date, \"adj_scale\"]\n",
    "#     print(scale)\n",
    "#     df2.loc[df2.index[0]:date, adj_headers] = df2.loc[df2.index[0]:date, adj_headers] * scale\n",
    "\n",
    "# craw2df.dm.get(symbol)\n",
    "# print(len(df.loc[df.symbol == symbol, \"ending\"]))\n",
    "# print(len(df.loc[df.symbol == symbol, \"lastday\"]))\n",
    "# df.loc[:, ['endings', 'lastday']]"
   ]
  },
  {
   "cell_type": "code",
   "execution_count": null,
   "metadata": {},
   "outputs": [],
   "source": []
  },
  {
   "cell_type": "code",
   "execution_count": 1,
   "metadata": {},
   "outputs": [],
   "source": [
    "# dm = DataModel(\"../../xcels\", [\"master0.csv\", \"master1.csv\"])\n",
    "# dm.read_from_csvs()\n",
    "# dm.store_in_pystore()\n",
    "# dm.restore_from_pystore()"
   ]
  },
  {
   "cell_type": "code",
   "execution_count": 2,
   "metadata": {},
   "outputs": [],
   "source": [
    "dm = DataModel()\n",
    "dm.restore_from_pystore()\n",
    "# dm.store_in_pystore()"
   ]
  },
  {
   "cell_type": "code",
   "execution_count": 5,
   "metadata": {},
   "outputs": [],
   "source": [
    "# dm.df[[\"name\", \"year\", \"month\", \"day\"]]"
   ]
  },
  {
   "cell_type": "code",
   "execution_count": 7,
   "metadata": {},
   "outputs": [],
   "source": [
    "symbol = \"ﺺﻣپﻥﺍ2\"\n",
    "\"ﺹﺎﻴﺘﻟ2\"\n",
    "\"ﺺﻣپﻥﺍ2\"\n",
    "\"ﺥﻭﺩﺭﻭ\"\n",
    "df = dm.get(dm.TA_SYMBOLS[0])\n",
    "df\n",
    "# df2 = dm.df.loc[dm.df[\"symbol\"]==symbol].copy()\n",
    "# df2.loc[\"2014/9/13\":\"2014/9/17\", [\"open\", 'close', \"lastday\", \"amount\", \"volume\", \"ending\", \"value\"]]"
   ]
  },
  {
   "cell_type": "code",
   "execution_count": null,
   "metadata": {},
   "outputs": [],
   "source": []
  }
 ],
 "metadata": {
  "kernelspec": {
   "display_name": "Python 3",
   "language": "python",
   "name": "python3"
  },
  "language_info": {
   "codemirror_mode": {
    "name": "ipython",
    "version": 3
   },
   "file_extension": ".py",
   "mimetype": "text/x-python",
   "name": "python",
   "nbconvert_exporter": "python",
   "pygments_lexer": "ipython3",
   "version": "3.6.9"
  }
 },
 "nbformat": 4,
 "nbformat_minor": 4
}
