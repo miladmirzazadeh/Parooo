{
 "cells": [
  {
   "cell_type": "code",
   "execution_count": 15,
   "metadata": {
    "ExecuteTime": {
     "end_time": "2019-11-06T06:28:37.554313Z",
     "start_time": "2019-11-06T06:28:37.532768Z"
    }
   },
   "outputs": [],
   "source": [
    "%config IPCompleter.greedy=True"
   ]
  },
  {
   "cell_type": "code",
   "execution_count": 1,
   "metadata": {},
   "outputs": [],
   "source": [
    "import heapq\n",
    "#         heapq.heappush(self.ip_q, (priority, ip))\n",
    "#         heapq.heapify(self.ip_q)\n",
    "#         heapq.heappop(self.ip_q)\n",
    "import asyncio\n",
    "import datetime\n",
    "import numpy as np\n",
    "import backtrader as bt\n",
    "from scipy import stats\n",
    "from loguru import logger\n",
    "from utils import setup_logger\n",
    "from models.data_provider import DataModel, adjust_and_log\n",
    "from backtrader.indicators import Indicator, MovAv, RelativeStrengthIndex, Highest, Lowest\n",
    "\n",
    "setup_logger(\"cele_opt\")\n",
    "dm = DataModel()\n",
    "dm.read_from_csvs(\"../xcels\",[\"master0.csv\",\"master1.csv\"])"
   ]
  },
  {
   "cell_type": "code",
   "execution_count": null,
   "metadata": {},
   "outputs": [],
   "source": []
  },
  {
   "cell_type": "code",
   "execution_count": 11,
   "metadata": {},
   "outputs": [],
   "source": [
    "class SellUtils:\n",
    "    def __init__(self):\n",
    "        self.pre_calc_gauss = {}\n",
    "        \n",
    "    def desc_gauss_calc(self, steps):\n",
    "        inv = 6 / (steps)\n",
    "        intervals = [-10000]\n",
    "        for i in range(steps-1):\n",
    "            intervals.append(-3 + (i+1) * inv)\n",
    "        intervals.append(10000)\n",
    "\n",
    "        result = []\n",
    "        for i in range(steps):\n",
    "            result.append(stats.norm.cdf(intervals[i+1]) - stats.norm.cdf(intervals[i]))\n",
    "        return result\n",
    "    \n",
    "    \n",
    "    def calc_sell_steps(self, price, size, max_percent=50, steps=5, method=\"exp\"):\n",
    "        result = []\n",
    "        for i in range(steps):\n",
    "            ratio = (max_percent/steps)*(i+1)+100\n",
    "            if method == \"exp\":\n",
    "                result.append((ratio*price/100, size*(1/((2**(steps))-1))*2**i))\n",
    "            elif method == \"seq\":\n",
    "                result.append((ratio*price/100, size*(2/(steps*(steps+1)))*(i+1)))\n",
    "            elif method == \"gauss\":\n",
    "                if self.pre_calc_gauss.get(steps, -1) == -1:\n",
    "                    self.pre_calc_gauss[steps] = self.desc_gauss_calc(steps)\n",
    "                \n",
    "                gauss = self.pre_calc_gauss[steps]\n",
    "                result.append((ratio*price/100, size*gauss[i]))\n",
    "        return result\n",
    "\n",
    "class StairCase(bt.Strategy):\n",
    "    stoch_array=[]\n",
    "    params = (\n",
    "        ('maperiod', 15),\n",
    "        ('printlog', False),\n",
    "        ('sell_exit_percent', 50),\n",
    "        ('sell_steps', 5),\n",
    "        ('sell_method', \"exp\"),\n",
    "        ('stoch_k_period', 3),\n",
    "        ('stoch_d_period', 3),\n",
    "    )\n",
    "    \n",
    "    def __init__(self):\n",
    "        self.day_ind = 0\n",
    "        self.stock_heap = []\n",
    "        self.stock_map = {}\n",
    "        self.buy_stat = []\n",
    "        self.sell_utils = SellUtils()\n",
    "        self.last_sell_price = 0\n",
    "        self.last_buy_price = 0\n",
    "        self.pending_orders = []\n",
    "        self.sell_price = 0\n",
    "        self.stochastic = bt.indicators.Stochastic()\n",
    "        self.stochastic_full = bt.indicators.StochasticFull()\n",
    "        self.stochastic_k = bt.indicators.StochasticSlow(self.data)\n",
    "        self.stochastic_d = bt.indicators.StochasticFast(self.data)\n",
    "        self.stochastic_cross = bt.indicators.CrossOver(self.stochastic_k, self.stochastic_d) # 1 if first goes above second\n",
    "        self.macd = bt.indicators.MACDHisto(self.datas[0])\n",
    "        self.rsi = bt.indicators.RSI(self.datas[0])\n",
    "        \n",
    "\n",
    "    def log(self, txt, dt=None, doprint=False):\n",
    "        if self.params.printlog or doprint:\n",
    "            dt = dt or self.datas[0].datetime.date(0)\n",
    "            print(f\"{dt.isoformat()} {txt}\")\n",
    "\n",
    "    def add_to_heap(self, price, size):\n",
    "        if self.stock_map.get(price, -1) == -1:\n",
    "            self.stock_map[price] = size\n",
    "            heapq.heappush(self.stock_heap, [price, size])\n",
    "        else:\n",
    "            v = self.stock_map[price]\n",
    "            self.stock_map[price] = v + size\n",
    "            for i in range(len(self.stock_heap)):\n",
    "                if self.stock_heap[i][0] == price:\n",
    "                    self.stock_heap[i] = [price, v + size]\n",
    "            heapq.heapify(self.stock_heap)\n",
    "    \n",
    "    def remove_from_heap(self, price, size):\n",
    "        pass\n",
    "    \n",
    "    def notify_order(self, order):\n",
    "        if order.status in [order.Submitted, order.Accepted]:\n",
    "            return\n",
    "        \n",
    "        if order.status in [order.Completed]:\n",
    "            if order.isbuy():\n",
    "                self.log(f'BUY EXECUTED, Price: {order.executed.price}, Cost: {order.executed.value}, Size: {order.executed.size}, Comm {order.executed.comm}')\n",
    "                self.add_to_heap(price=order.executed.price, size=order.executed.size)\n",
    "                \n",
    "                for o in self.sell_utils.calc_sell_steps(price=order.executed.price, size=order.executed.size, max_percent=self.params.sell_exit_percent,\n",
    "                                         steps=self.params.sell_steps, method=self.params.sell_method):\n",
    "                    self.pending_orders.append(o)\n",
    "                self.last_by_price = order.executed.price\n",
    "            else:\n",
    "                self.log(f'SELL EXECUTED, Price: {order.executed.price}, Cost: {order.executed.value}, Comm {order.executed.comm}')\n",
    "                self.last_sell_price = order.executed.price\n",
    "                self.remove_from_heap(price=order.executed.price, size=order.executed.size)\n",
    "            self.log_stat()\n",
    "        \n",
    "        # Attention: broker could reject order if not enough cash\n",
    "        elif order.status in [order.Canceled, order.Margin, order.Rejected]:\n",
    "            self.log('Order Canceled/Margin/Rejected')\n",
    "            self.log(order.price)\n",
    "\n",
    "    def notify_trade(self, trade):\n",
    "        if not trade.isclosed:\n",
    "            return\n",
    "        self.log(f'OPERATION PROFIT, GROSS {trade.pnl}, NET {trade.pnlcomm}')\n",
    "        \n",
    "    def stop(self):\n",
    "#         self.log(f'{self.broker.getvalue()} {self.params.sell_exit_percent} {self.params.sell_steps}', doprint=True)\n",
    "        logger.debug(f'{self.broker.getvalue()} {self.params.sell_exit_percent} {self.params.sell_steps} {self.params.sell_method}')\n",
    "#         self.log(self.stock_heap)\n",
    "        \n",
    "    def log_stat(self):\n",
    "        self.log(f\"cash: {self.broker.getcash()}\")\n",
    "        self.log(self.position)\n",
    "        self.log(f\"current price: {self.data[0]}\")\n",
    "        self.log(f\"close: {self.data.close[0]}, open: {self.data.open[0]}, high: {self.data.high[0]}, low: {self.data.low[0]}\")\n",
    "        self.log(len(self))\n",
    "    \n",
    "    def _buy(self, price, size, exectype=bt.Order.StopLimit, pricelimit=1.01, valid=datetime.timedelta(days=0, hours=24)):\n",
    "        if pricelimit:\n",
    "            pricelimit = price*pricelimit\n",
    "        if size * price > self.broker.getcash():\n",
    "            size = self.broker.getcash()*100//(price*102)\n",
    "        self.buy(price=price, size=size, exectype=exectype, pricelimit=pricelimit, valid=valid)\n",
    "        \n",
    "    \n",
    "    def _sell(self, price, size, exectype=bt.Order.StopLimit, pricelimit=0.99, valid=datetime.timedelta(days=0, hours=24)):\n",
    "        if pricelimit:\n",
    "            pricelimit = price*pricelimit\n",
    "        self.sell(price=price, size=size, exectype=exectype, pricelimit=pricelimit, valid=valid)\n",
    "    \n",
    "    def next(self):\n",
    "        self.day_ind += 1\n",
    "        if self.day_ind == 1:\n",
    "            self._buy(price=self.data.close[0], size=100, exectype=None, pricelimit=None, valid=None)\n",
    "            return\n",
    "#         for i in range(3):\n",
    "#             if self.data.close[0] < self.data.close[-i-2] * 95/100:\n",
    "#                 self._buy(price=self.data.close[0], size=(i+1)*100)\n",
    "        \n",
    "#         if self.stochastic_cross == -1 and self.stochastic_d >= 80:\n",
    "#             self._sell(price=self.data.close[0], size=100)\n",
    "        \n",
    "#         elif self.stochastic_cross == 1 and self.stochastic_d <= 20:\n",
    "#             self._buy(price=self.data.close[0], size=100)\n",
    "        \n",
    "        if self.data.close[0] < self.last_buy_price * 95/100 or self.data.close[0] < self.last_sell_price * 95/100:\n",
    "            if self.position.price > self.data.close[0]:\n",
    "                diff = (self.position.price - self.data.close[0])/self.data.close[0]\n",
    "                self._buy(price=self.data.close[0], size=diff * 10 * self.position.size)\n",
    "\n",
    "            if self.last_sell_price > self.data.close[0] * 105/100:\n",
    "                diff = (self.last_sell_price - self.data.close[0])/self.data.close[0]\n",
    "                self._buy(price=self.data.close[0], size=diff * 10 * self.position.size)\n",
    "\n",
    "        while len(self.pending_orders) > 0:\n",
    "            o = self.pending_orders.pop()\n",
    "            self._sell(o[0], o[1], valid=None)\n",
    "        "
   ]
  },
  {
   "cell_type": "code",
   "execution_count": 30,
   "metadata": {},
   "outputs": [],
   "source": []
  },
  {
   "cell_type": "code",
   "execution_count": 35,
   "metadata": {},
   "outputs": [
    {
     "name": "stdout",
     "output_type": "stream",
     "text": [
      "[(110.0, 6.666666666666667), (120.0, 13.333333333333334), (130.0, 20.0), (140.0, 26.666666666666668), (150.0, 33.333333333333336)]\n",
      "[(110.0, 3.225806451612903), (120.0, 6.451612903225806), (130.0, 12.903225806451612), (140.0, 25.806451612903224), (150.0, 51.61290322580645)]\n",
      "[(110.0, 3.593031911292579), (120.0, 23.832279863714774), (130.0, 45.149376449985276), (140.0, 23.83227986371479), (150.0, 3.593031911292577)]\n"
     ]
    }
   ],
   "source": [
    "su = SellUtils()\n",
    "print(su.calc_sell_steps(100, 100, method=\"seq\"))\n",
    "print(su.calc_sell_steps(100, 100, method=\"exp\"))\n",
    "print(su.calc_sell_steps(price=100, size=100, method=\"gauss\"))"
   ]
  },
  {
   "cell_type": "code",
   "execution_count": null,
   "metadata": {},
   "outputs": [],
   "source": []
  },
  {
   "cell_type": "code",
   "execution_count": 36,
   "metadata": {},
   "outputs": [
    {
     "ename": "AttributeError",
     "evalue": "'OptReturn' object has no attribute 'datas'",
     "output_type": "error",
     "traceback": [
      "\u001b[0;31m---------------------------------------------------------------------------\u001b[0m",
      "\u001b[0;31mAttributeError\u001b[0m                            Traceback (most recent call last)",
      "\u001b[0;32m<timed exec>\u001b[0m in \u001b[0;36m<module>\u001b[0;34m\u001b[0m\n",
      "\u001b[0;32m~/.pyenv/versions/3.7.5/envs/nimacenv/lib/python3.7/site-packages/backtrader/cerebro.py\u001b[0m in \u001b[0;36mplot\u001b[0;34m(self, plotter, numfigs, iplot, start, end, width, height, dpi, tight, use, **kwargs)\u001b[0m\n\u001b[1;32m    989\u001b[0m                 rfig = plotter.plot(strat, figid=si * 100,\n\u001b[1;32m    990\u001b[0m                                     \u001b[0mnumfigs\u001b[0m\u001b[0;34m=\u001b[0m\u001b[0mnumfigs\u001b[0m\u001b[0;34m,\u001b[0m \u001b[0miplot\u001b[0m\u001b[0;34m=\u001b[0m\u001b[0miplot\u001b[0m\u001b[0;34m,\u001b[0m\u001b[0;34m\u001b[0m\u001b[0;34m\u001b[0m\u001b[0m\n\u001b[0;32m--> 991\u001b[0;31m                                     start=start, end=end, use=use)\n\u001b[0m\u001b[1;32m    992\u001b[0m                 \u001b[0;31m# pfillers=pfillers2)\u001b[0m\u001b[0;34m\u001b[0m\u001b[0;34m\u001b[0m\u001b[0;34m\u001b[0m\u001b[0m\n\u001b[1;32m    993\u001b[0m \u001b[0;34m\u001b[0m\u001b[0m\n",
      "\u001b[0;32m~/.pyenv/versions/3.7.5/envs/nimacenv/lib/python3.7/site-packages/backtrader/plot/plot.py\u001b[0m in \u001b[0;36mplot\u001b[0;34m(self, strategy, figid, numfigs, iplot, start, end, **kwargs)\u001b[0m\n\u001b[1;32m    117\u001b[0m              start=None, end=None, **kwargs):\n\u001b[1;32m    118\u001b[0m         \u001b[0;31m# pfillers={}):\u001b[0m\u001b[0;34m\u001b[0m\u001b[0;34m\u001b[0m\u001b[0;34m\u001b[0m\u001b[0m\n\u001b[0;32m--> 119\u001b[0;31m         \u001b[0;32mif\u001b[0m \u001b[0;32mnot\u001b[0m \u001b[0mstrategy\u001b[0m\u001b[0;34m.\u001b[0m\u001b[0mdatas\u001b[0m\u001b[0;34m:\u001b[0m\u001b[0;34m\u001b[0m\u001b[0;34m\u001b[0m\u001b[0m\n\u001b[0m\u001b[1;32m    120\u001b[0m             \u001b[0;32mreturn\u001b[0m\u001b[0;34m\u001b[0m\u001b[0;34m\u001b[0m\u001b[0m\n\u001b[1;32m    121\u001b[0m \u001b[0;34m\u001b[0m\u001b[0m\n",
      "\u001b[0;31mAttributeError\u001b[0m: 'OptReturn' object has no attribute 'datas'"
     ]
    }
   ],
   "source": [
    "%%time\n",
    "\n",
    "INIT_CASH = 10000000\n",
    "\n",
    "cerebro = bt.Cerebro(optdatas=False)\n",
    "# cerebro.addanalyzer(bt.analyzers.PyFolio, _name='pyfolio')\n",
    "cerebro.broker.setcommission(commission=0.015)\n",
    "cerebro.broker.setcash(INIT_CASH)\n",
    "# cerebro.addwriter(bt.WriterFile, out=\"celeb.log\", seplen=150, close_out=True, csv=True)\n",
    "\n",
    "df = dm.get(dm.TA_SYMBOLS[0],\"1398-01-01\")\n",
    "df.columns = ['symbol', 'name', 'amount', 'volume', 'value', 'lastday', 'open1', 'close1', 'last-change', 'last-percent', 'ending', 'ending-change',\n",
    "       'ending-percent', 'min', 'max', 'year', 'month', 'day', 'diff_min_max', 'diff_open', 'low', 'high', 'close', 'open',\n",
    "       'adj_ending', 'log_adj_open', 'log_adj_close', 'log_adj_ending', 'log_adj_min', 'log_adj_max', 'adj_scale']\n",
    "data = bt.feeds.PandasData(dataname=df)\n",
    "cerebro.adddata(data, name=dm.TA_SYMBOLS[1])\n",
    "cerebro.optstrategy(StairCase, sell_steps=range(15,60), sell_exit_percent=range(50,200,10), sell_method=[\"gauss\", \"seq\", \"exp\"], printlog=False)\n",
    "# cerebro.addstrategy(StairCase, sell_exit_percent=50, sell_steps=10, sell_method=\"gauss\", printlog=False)\n",
    "run_result = cerebro.run()\n",
    "# b = Bokeh(style='bar', plot_mode='single')\n",
    "# chart = cerebro.plot(style='candlestick')\n",
    "# chart = cerebro.plot(iplot=False, numfigs=1, width=400, height=400, dpi=50, tight=True)\n",
    "chart = cerebro.plot(iplot=False)\n",
    "chart[0][0].savefig('cele2.jpg', dpi=500)\n",
    "# chart[0][0].show()\n",
    "\n",
    "%matplotlib inline\n",
    "# plt = bt.plot.plot.matplotlib.pyplot\n",
    "plt = bt.plot.matplotlib.pyplot\n",
    "plt.figure(figsize=(30,10))\n",
    "img = plt.imread(\"cele2.jpg\")\n",
    "plt.imshow(img)\n",
    "plt.show()"
   ]
  },
  {
   "cell_type": "code",
   "execution_count": 232,
   "metadata": {},
   "outputs": [
    {
     "name": "stdout",
     "output_type": "stream",
     "text": [
      "per day rate: 0.00023059576523043468\n",
      "per month rate: 0.006941053684394349\n",
      "per year rate: 0.08780048240102789\n"
     ]
    }
   ],
   "source": [
    "d = (dm.df.index[-1] - dm.df.index[0]).days\n",
    "m = d/30\n",
    "y = d/365\n",
    "print(f\"per day rate: {(cerebro.getbroker().getvalue()/INIT_CASH)**(1/d)-1}\")\n",
    "print(f\"per month rate: {(cerebro.getbroker().getvalue()/INIT_CASH)**(1/m)-1}\")\n",
    "print(f\"per year rate: {(cerebro.getbroker().getvalue()/INIT_CASH)**(1/y)-1}\")"
   ]
  },
  {
   "cell_type": "code",
   "execution_count": 137,
   "metadata": {},
   "outputs": [],
   "source": []
  },
  {
   "cell_type": "code",
   "execution_count": null,
   "metadata": {},
   "outputs": [],
   "source": []
  },
  {
   "cell_type": "code",
   "execution_count": 24,
   "metadata": {
    "ExecuteTime": {
     "end_time": "2019-11-06T06:28:40.422052Z",
     "start_time": "2019-11-06T06:28:37.778628Z"
    }
   },
   "outputs": [],
   "source": [
    "from backtrader_plotting import Bokeh\n",
    "from backtrader_plotting.schemes import Tradimo\n",
    "\n",
    "b = Bokeh(style='bar', plot_mode='single', scheme=Tradimo())\n",
    "\n",
    "b = Bokeh(style='bar', plot_mode='single')\n",
    "cerebro.plot(b)"
   ]
  },
  {
   "cell_type": "code",
   "execution_count": 35,
   "metadata": {},
   "outputs": [],
   "source": [
    "import plotly\n",
    "import plotly.io as pio\n",
    "import plotly.graph_objs as go\n",
    "import plotly.tools as tls\n",
    "from plotly.offline import download_plotlyjs, init_notebook_mode, iplot\n",
    "init_notebook_mode(connected=True)\n",
    "\n",
    "plotly_fig = tls.mpl_to_plotly(c)\n",
    "# plotly.offline.plot(plotly_fig, filename=\"plotly version of an mpl figure\")\n",
    "# iplot(plotly_fig)\n",
    "\n",
    "\n",
    "init_notebook_mode(connected=True)\n",
    "\n",
    "import plotly.io as pio\n",
    "\n",
    "pio.renderers.default = \"browser\"\n",
    "# iplot([{\"x\": [1, 2, 3], \"y\": [3, 1, 6]}])"
   ]
  },
  {
   "cell_type": "code",
   "execution_count": null,
   "metadata": {},
   "outputs": [],
   "source": []
  },
  {
   "cell_type": "code",
   "execution_count": null,
   "metadata": {
    "ExecuteTime": {
     "end_time": "2019-11-06T06:28:51.054885Z",
     "start_time": "2019-11-06T06:28:40.425615Z"
    }
   },
   "outputs": [],
   "source": []
  },
  {
   "cell_type": "code",
   "execution_count": null,
   "metadata": {},
   "outputs": [],
   "source": []
  },
  {
   "cell_type": "code",
   "execution_count": null,
   "metadata": {
    "ExecuteTime": {
     "end_time": "2019-09-16T17:31:19.668877Z",
     "start_time": "2019-09-16T17:56:56.731Z"
    }
   },
   "outputs": [],
   "source": []
  }
 ],
 "metadata": {
  "kernelspec": {
   "display_name": "Python 3",
   "language": "python",
   "name": "python3"
  },
  "language_info": {
   "codemirror_mode": {
    "name": "ipython",
    "version": 3
   },
   "file_extension": ".py",
   "mimetype": "text/x-python",
   "name": "python",
   "nbconvert_exporter": "python",
   "pygments_lexer": "ipython3",
   "version": "3.7.5"
  },
  "toc": {
   "base_numbering": 1,
   "nav_menu": {},
   "number_sections": false,
   "sideBar": false,
   "skip_h1_title": false,
   "title_cell": "Table of Contents",
   "title_sidebar": "Contents",
   "toc_cell": false,
   "toc_position": {},
   "toc_section_display": false,
   "toc_window_display": false
  }
 },
 "nbformat": 4,
 "nbformat_minor": 4
}
