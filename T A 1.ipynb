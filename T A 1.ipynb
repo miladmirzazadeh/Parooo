{
 "cells": [
  {
   "cell_type": "code",
   "execution_count": 3,
   "metadata": {
    "ExecuteTime": {
     "end_time": "2019-10-31T08:08:31.875102Z",
     "start_time": "2019-10-31T08:08:31.369545Z"
    }
   },
   "outputs": [
    {
     "name": "stdout",
     "output_type": "stream",
     "text": [
      "Traceback (most recent call last):\n",
      "  File \"/usr/bin/pip3\", line 9, in <module>\n",
      "    from pip import main\n",
      "ImportError: cannot import name 'main'\n"
     ]
    }
   ],
   "source": [
    "!pip3 install finta"
   ]
  },
  {
   "cell_type": "code",
   "execution_count": 8,
   "metadata": {
    "ExecuteTime": {
     "end_time": "2019-10-10T16:32:03.612272Z",
     "start_time": "2019-10-10T16:32:02.948385Z"
    }
   },
   "outputs": [],
   "source": [
    "import ta_module as tam"
   ]
  },
  {
   "cell_type": "code",
   "execution_count": 11,
   "metadata": {
    "ExecuteTime": {
     "end_time": "2019-10-10T16:35:21.667022Z",
     "start_time": "2019-10-10T16:34:18.901417Z"
    }
   },
   "outputs": [
    {
     "name": "stdout",
     "output_type": "stream",
     "text": [
      "20\n",
      "20\n"
     ]
    }
   ],
   "source": [
    "startm,stopm,a,b,df=tam.find_supports(\"1392-01-01\",\"1398-06-20\",\"خساپا\")"
   ]
  },
  {
   "cell_type": "code",
   "execution_count": 13,
   "metadata": {
    "ExecuteTime": {
     "end_time": "2019-10-10T16:37:23.069462Z",
     "start_time": "2019-10-10T16:36:00.870895Z"
    }
   },
   "outputs": [],
   "source": [
    "start,stop,a,b,df2=tam.find_resistances(\"1392-01-01\",\"1398-06-20\",\"خساپا\")"
   ]
  },
  {
   "cell_type": "code",
   "execution_count": 14,
   "metadata": {
    "ExecuteTime": {
     "end_time": "2019-10-10T16:44:53.884817Z",
     "start_time": "2019-10-10T16:44:53.867995Z"
    }
   },
   "outputs": [
    {
     "data": {
      "text/plain": [
       "11"
      ]
     },
     "execution_count": 14,
     "metadata": {},
     "output_type": "execute_result"
    }
   ],
   "source": [
    "len(start)"
   ]
  }
 ],
 "metadata": {
  "kernelspec": {
   "display_name": "Python 3",
   "language": "python",
   "name": "python3"
  },
  "language_info": {
   "codemirror_mode": {
    "name": "ipython",
    "version": 3
   },
   "file_extension": ".py",
   "mimetype": "text/x-python",
   "name": "python",
   "nbconvert_exporter": "python",
   "pygments_lexer": "ipython3",
   "version": "3.7.5"
  },
  "toc": {
   "base_numbering": 1,
   "nav_menu": {},
   "number_sections": false,
   "sideBar": false,
   "skip_h1_title": false,
   "title_cell": "Table of Contents",
   "title_sidebar": "Contents",
   "toc_cell": false,
   "toc_position": {},
   "toc_section_display": false,
   "toc_window_display": false
  }
 },
 "nbformat": 4,
 "nbformat_minor": 4
}
