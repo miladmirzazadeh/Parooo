{
 "cells": [
  {
   "cell_type": "code",
   "execution_count": 2,
   "metadata": {
    "ExecuteTime": {
     "end_time": "2019-10-10T04:35:28.292117Z",
     "start_time": "2019-10-10T04:35:28.273550Z"
    }
   },
   "outputs": [
    {
     "ename": "SyntaxError",
     "evalue": "invalid syntax (<ipython-input-2-701e3649f7f6>, line 7)",
     "output_type": "error",
     "traceback": [
      "\u001b[0;36m  File \u001b[0;32m\"<ipython-input-2-701e3649f7f6>\"\u001b[0;36m, line \u001b[0;32m7\u001b[0m\n\u001b[0;31m    df =\u001b[0m\n\u001b[0m         ^\u001b[0m\n\u001b[0;31mSyntaxError\u001b[0m\u001b[0;31m:\u001b[0m invalid syntax\n"
     ]
    }
   ],
   "source": [
    "%config IPCompleter.greedy=True\n",
    "\n",
    "from pandas import DataFrame\n",
    "import matplotlib.pyplot as plt\n",
    "from sklearn.cluster import KMeans\n",
    "\n",
    "\n",
    "df = \n",
    "\n",
    "kmeans = KMeans(n_clusters=3).fit(df)\n",
    "centroids = kmeans.cluster_centers_"
   ]
  },
  {
   "cell_type": "code",
   "execution_count": 1,
   "metadata": {
    "ExecuteTime": {
     "end_time": "2019-10-10T05:43:16.982046Z",
     "start_time": "2019-10-10T05:43:16.968213Z"
    }
   },
   "outputs": [],
   "source": []
  },
  {
   "cell_type": "code",
   "execution_count": 1,
   "metadata": {
    "ExecuteTime": {
     "end_time": "2019-10-10T07:48:25.266831Z",
     "start_time": "2019-10-10T07:48:12.344577Z"
    }
   },
   "outputs": [],
   "source": [
    "import trade_model as td\n",
    "dm = td.DataModel(\"../xcels\", [\"master0.csv\", \"master1.csv\"])\n",
    "dm.read()\n"
   ]
  },
  {
   "cell_type": "code",
   "execution_count": 5,
   "metadata": {
    "ExecuteTime": {
     "end_time": "2019-10-10T07:51:27.085940Z",
     "start_time": "2019-10-10T07:51:26.561278Z"
    }
   },
   "outputs": [
    {
     "data": {
      "text/html": [
       "<div>\n",
       "<style scoped>\n",
       "    .dataframe tbody tr th:only-of-type {\n",
       "        vertical-align: middle;\n",
       "    }\n",
       "\n",
       "    .dataframe tbody tr th {\n",
       "        vertical-align: top;\n",
       "    }\n",
       "\n",
       "    .dataframe thead th {\n",
       "        text-align: right;\n",
       "    }\n",
       "</style>\n",
       "<table border=\"1\" class=\"dataframe\">\n",
       "  <thead>\n",
       "    <tr style=\"text-align: right;\">\n",
       "      <th></th>\n",
       "      <th>symbol</th>\n",
       "      <th>name</th>\n",
       "      <th>amount</th>\n",
       "      <th>volume</th>\n",
       "      <th>value</th>\n",
       "      <th>lastday</th>\n",
       "      <th>open</th>\n",
       "      <th>close</th>\n",
       "      <th>last-change</th>\n",
       "      <th>last-percent</th>\n",
       "      <th>ending</th>\n",
       "      <th>ending-change</th>\n",
       "      <th>ending-percent</th>\n",
       "      <th>min</th>\n",
       "      <th>max</th>\n",
       "      <th>year</th>\n",
       "      <th>month</th>\n",
       "      <th>day</th>\n",
       "      <th>diff_min_max</th>\n",
       "      <th>diff_open</th>\n",
       "    </tr>\n",
       "    <tr>\n",
       "      <th>date</th>\n",
       "      <th></th>\n",
       "      <th></th>\n",
       "      <th></th>\n",
       "      <th></th>\n",
       "      <th></th>\n",
       "      <th></th>\n",
       "      <th></th>\n",
       "      <th></th>\n",
       "      <th></th>\n",
       "      <th></th>\n",
       "      <th></th>\n",
       "      <th></th>\n",
       "      <th></th>\n",
       "      <th></th>\n",
       "      <th></th>\n",
       "      <th></th>\n",
       "      <th></th>\n",
       "      <th></th>\n",
       "      <th></th>\n",
       "      <th></th>\n",
       "    </tr>\n",
       "  </thead>\n",
       "  <tbody>\n",
       "    <tr>\n",
       "      <td>2015-07-14</td>\n",
       "      <td>فولاد</td>\n",
       "      <td>فولاد مباركه اصفهان</td>\n",
       "      <td>821</td>\n",
       "      <td>9103670</td>\n",
       "      <td>17165293965</td>\n",
       "      <td>1897.0</td>\n",
       "      <td>1920.0</td>\n",
       "      <td>1870.0</td>\n",
       "      <td>-27.0</td>\n",
       "      <td>-1.42</td>\n",
       "      <td>1886.0</td>\n",
       "      <td>-11.0</td>\n",
       "      <td>-0.58</td>\n",
       "      <td>1860.0</td>\n",
       "      <td>1920.0</td>\n",
       "      <td>1394</td>\n",
       "      <td>4</td>\n",
       "      <td>23</td>\n",
       "      <td>3.225806</td>\n",
       "      <td>-1.212441</td>\n",
       "    </tr>\n",
       "    <tr>\n",
       "      <td>2015-07-15</td>\n",
       "      <td>فولاد</td>\n",
       "      <td>فولاد مباركه اصفهان</td>\n",
       "      <td>966</td>\n",
       "      <td>10850856</td>\n",
       "      <td>20021659551</td>\n",
       "      <td>1886.0</td>\n",
       "      <td>1887.0</td>\n",
       "      <td>1860.0</td>\n",
       "      <td>-26.0</td>\n",
       "      <td>-1.38</td>\n",
       "      <td>1845.0</td>\n",
       "      <td>-41.0</td>\n",
       "      <td>-2.17</td>\n",
       "      <td>1820.0</td>\n",
       "      <td>1899.0</td>\n",
       "      <td>1394</td>\n",
       "      <td>4</td>\n",
       "      <td>24</td>\n",
       "      <td>4.340659</td>\n",
       "      <td>-0.053022</td>\n",
       "    </tr>\n",
       "    <tr>\n",
       "      <td>2015-09-09</td>\n",
       "      <td>فولاد</td>\n",
       "      <td>فولاد مباركه اصفهان</td>\n",
       "      <td>915</td>\n",
       "      <td>14460212</td>\n",
       "      <td>17158254326</td>\n",
       "      <td>1395.0</td>\n",
       "      <td>1170.0</td>\n",
       "      <td>1180.0</td>\n",
       "      <td>-215.0</td>\n",
       "      <td>-15.41</td>\n",
       "      <td>1187.0</td>\n",
       "      <td>-208.0</td>\n",
       "      <td>-14.91</td>\n",
       "      <td>1170.0</td>\n",
       "      <td>1207.0</td>\n",
       "      <td>1394</td>\n",
       "      <td>6</td>\n",
       "      <td>18</td>\n",
       "      <td>3.162393</td>\n",
       "      <td>16.129032</td>\n",
       "    </tr>\n",
       "  </tbody>\n",
       "</table>\n",
       "</div>"
      ],
      "text/plain": [
       "           symbol                 name  amount    volume        value  \\\n",
       "date                                                                    \n",
       "2015-07-14  فولاد  فولاد مباركه اصفهان     821   9103670  17165293965   \n",
       "2015-07-15  فولاد  فولاد مباركه اصفهان     966  10850856  20021659551   \n",
       "2015-09-09  فولاد  فولاد مباركه اصفهان     915  14460212  17158254326   \n",
       "\n",
       "            lastday    open   close  last-change  last-percent  ending  \\\n",
       "date                                                                     \n",
       "2015-07-14   1897.0  1920.0  1870.0        -27.0         -1.42  1886.0   \n",
       "2015-07-15   1886.0  1887.0  1860.0        -26.0         -1.38  1845.0   \n",
       "2015-09-09   1395.0  1170.0  1180.0       -215.0        -15.41  1187.0   \n",
       "\n",
       "            ending-change  ending-percent     min     max  year  month  day  \\\n",
       "date                                                                          \n",
       "2015-07-14          -11.0           -0.58  1860.0  1920.0  1394      4   23   \n",
       "2015-07-15          -41.0           -2.17  1820.0  1899.0  1394      4   24   \n",
       "2015-09-09         -208.0          -14.91  1170.0  1207.0  1394      6   18   \n",
       "\n",
       "            diff_min_max  diff_open  \n",
       "date                                 \n",
       "2015-07-14      3.225806  -1.212441  \n",
       "2015-07-15      4.340659  -0.053022  \n",
       "2015-09-09      3.162393  16.129032  "
      ]
     },
     "execution_count": 5,
     "metadata": {},
     "output_type": "execute_result"
    }
   ],
   "source": [
    "symbol = \"فولاد\"\n",
    "# df = dm.get(symbol, \"2017-05-19\", \"2017-09-03\")\n",
    "df = dm.get(symbol, \"1394-4-23\", \"1394-6-18\")\n",
    "df"
   ]
  },
  {
   "cell_type": "code",
   "execution_count": 9,
   "metadata": {
    "ExecuteTime": {
     "end_time": "2019-10-10T06:57:50.957228Z",
     "start_time": "2019-10-10T06:57:50.082665Z"
    }
   },
   "outputs": [
    {
     "name": "stderr",
     "output_type": "stream",
     "text": [
      "/home/nimac/.local/lib/python3.6/site-packages/pandas/plotting/_matplotlib/core.py:1085: UserWarning: Attempting to set identical left == right == 735442.0 results in singular transformations; automatically expanding.\n",
      "  ax.set_xlim(left, right)\n",
      "/home/nimac/.local/lib/python3.6/site-packages/pandas/plotting/_matplotlib/core.py:1085: UserWarning: Attempting to set identical left == right == 735442.0 results in singular transformations; automatically expanding.\n",
      "  ax.set_xlim(left, right)\n"
     ]
    },
    {
     "data": {
      "text/plain": [
       "<matplotlib.axes._subplots.AxesSubplot at 0x7f8545880fd0>"
      ]
     },
     "execution_count": 9,
     "metadata": {},
     "output_type": "execute_result"
    },
    {
     "data": {
      "image/png": "[encoded data removed]",
      "text/plain": [
       "<Figure size 1200x600 with 1 Axes>"
      ]
     },
     "metadata": {
      "needs_background": "light"
     },
     "output_type": "display_data"
    }
   ],
   "source": [
    "import matplotlib.pyplot as plt\n",
    "plt.figure(figsize=(8, 4), dpi=150)\n",
    "df[\"diff_open\"].plot()\n",
    "\n",
    "df[\"close\"].plot()"
   ]
  },
  {
   "cell_type": "code",
   "execution_count": null,
   "metadata": {},
   "outputs": [],
   "source": []
  },
  {
   "cell_type": "code",
   "execution_count": null,
   "metadata": {},
   "outputs": [],
   "source": []
  },
  {
   "cell_type": "code",
   "execution_count": null,
   "metadata": {},
   "outputs": [],
   "source": []
  },
  {
   "cell_type": "code",
   "execution_count": 16,
   "metadata": {
    "ExecuteTime": {
     "end_time": "2019-10-10T07:47:59.856114Z",
     "start_time": "2019-10-10T07:47:59.829971Z"
    }
   },
   "outputs": [
    {
     "name": "stdout",
     "output_type": "stream",
     "text": [
      "Overwriting trade_model.py\n"
     ]
    }
   ],
   "source": [
    "%%writefile trade_model.py\n",
    "\n",
    "import pandas as pd\n",
    "from khayyam import JalaliDate, JalaliDatetime\n",
    "\n",
    "def add_diff_min_max(df): \n",
    "    df[\"diff_min_max\"] = (df['max']-df['min'])*100/(df['min'])\n",
    "\n",
    "def add_diff_open(df):\n",
    "    df[\"diff_open\"] = (df['lastday']-df['open'])*100/(df['lastday'])\n",
    "\n",
    "def add_adjusted(df):\n",
    "    \n",
    "\n",
    "class DataModel:\n",
    "    def __init__(self,data_location, file_names=[]):  \n",
    "        self.data_location = data_location;\n",
    "        self.file_names = file_names;\n",
    "    \n",
    "    def __read_csv(self, file_name):\n",
    "        return pd.read_csv(f'{self.data_location}/{file_name}', sep=',',header=[0], parse_dates=[\"date\"])\n",
    "\n",
    "#     TODO: use pystore instead\n",
    "    def read(self):\n",
    "        dfs = []\n",
    "        for name in self.file_names:\n",
    "            dfs.append(self.__read_csv(name))\n",
    "        self.df = pd.concat(dfs, ignore_index=True)\n",
    "        add_diff_min_max(self.df)\n",
    "        add_diff_last_close(self.df)\n",
    "        self.df = add_adjusted(self.df)\n",
    "        self.df = self.df.set_index('date')\n",
    "\n",
    "#         self.allSymbols = self.df.symbol.tolist()\n",
    "#         self.symbols = list(set(self.df.symbol))[1:]\n",
    "#         counts = Counter(self.allSymbols)\n",
    "#         testSymbols = []\n",
    "#         tmpSymbols = []\n",
    "#         for symbol in symbols:\n",
    "#             if counts[symbol] > RECORD_THRESHOLD:\n",
    "#                 tmpSymbols.append(symbol)\n",
    "#         for i in range(TESTCASE_NUMBER):\n",
    "#             ran = random.randint(0, len(tmpSymbols)-1)\n",
    "#             testSymbols.append(tmpSymbols[ran])\n",
    "#             tmpSymbols.remove(tmpSymbols[ran])\n",
    "#         print(\"test symbol\", len(testSymbols))\n",
    "\n",
    "\n",
    "    def get(self, symbol, start=\"\", end=\"\"):\n",
    "        \n",
    "        if start == \"\":\n",
    "            start = self.df.index[0]\n",
    "        else:\n",
    "            s_date = start.split(\"-\")\n",
    "            start = JalaliDate(s_date[0], s_date[1], s_date[2]).todate()\n",
    "        if end == \"\":\n",
    "            end = self.df.index[-1]\n",
    "        else:\n",
    "            e_date = end.split(\"-\")\n",
    "            end = JalaliDate(e_date[0], e_date[1], e_date[2]).todate()\n",
    "        tmpdf = self.df.loc[start:end]\n",
    "        return tmpdf.loc[tmpdf[\"symbol\"]==symbol].copy()\n",
    "    \n"
   ]
  },
  {
   "cell_type": "code",
   "execution_count": null,
   "metadata": {},
   "outputs": [],
   "source": []
  },
  {
   "cell_type": "code",
   "execution_count": null,
   "metadata": {},
   "outputs": [],
   "source": []
  }
 ],
 "metadata": {
  "kernelspec": {
   "display_name": "Python 3",
   "language": "python",
   "name": "python3"
  },
  "language_info": {
   "codemirror_mode": {
    "name": "ipython",
    "version": 3
   },
   "file_extension": ".py",
   "mimetype": "text/x-python",
   "name": "python",
   "nbconvert_exporter": "python",
   "pygments_lexer": "ipython3",
   "version": "3.6.8"
  },
  "toc": {
   "base_numbering": 1,
   "nav_menu": {},
   "number_sections": false,
   "sideBar": false,
   "skip_h1_title": false,
   "title_cell": "Table of Contents",
   "title_sidebar": "Contents",
   "toc_cell": false,
   "toc_position": {},
   "toc_section_display": false,
   "toc_window_display": false
  }
 },
 "nbformat": 4,
 "nbformat_minor": 2
}
