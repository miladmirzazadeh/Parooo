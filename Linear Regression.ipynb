{
 "cells": [
  {
   "cell_type": "code",
   "execution_count": 1,
   "metadata": {},
   "outputs": [],
   "source": [
    "from sklearn.linear_model import LinearRegression\n",
    "import pandas as pd \n",
    "import numpy \n",
    "import matplotlib.pyplot as plt"
   ]
  },
  {
   "cell_type": "code",
   "execution_count": 51,
   "metadata": {},
   "outputs": [
    {
     "name": "stderr",
     "output_type": "stream",
     "text": [
      "2020-02-13 10:50:23.068 | DEBUG    | models.data_provider:get:172 - symbol is not scaled: خپارس\n",
      "2020-02-13 10:50:23.166 | DEBUG    | models.data_provider:adjust_and_log:57 - start adjust and log for خپارس\n",
      "2020-02-13 10:50:23.168 | DEBUG    | models.data_provider:adjust_and_log:58 - calculating scale\n",
      "2020-02-13 10:50:23.243 | DEBUG    | models.data_provider:adjust_and_log:60 - adding adjust\n",
      "2020-02-13 10:50:23.245 | DEBUG    | models.data_provider:add_adjust:28 - new part len is 3459, shape: (3459,)\n",
      "2020-02-13 10:50:23.296 | DEBUG    | models.data_provider:add_adjust:38 - found adj date: 2009-06-08 00:00:00\n",
      "2020-02-13 10:50:23.310 | DEBUG    | models.data_provider:add_adjust:38 - found adj date: 2010-07-05 00:00:00\n",
      "2020-02-13 10:50:23.357 | DEBUG    | models.data_provider:add_adjust:38 - found adj date: 2011-07-05 00:00:00\n",
      "2020-02-13 10:50:23.367 | DEBUG    | models.data_provider:add_adjust:38 - found adj date: 2012-06-23 00:00:00\n",
      "2020-02-13 10:50:23.377 | DEBUG    | models.data_provider:add_adjust:38 - found adj date: 2014-05-26 00:00:00\n",
      "2020-02-13 10:50:23.388 | DEBUG    | models.data_provider:add_adjust:38 - found adj date: 2016-11-15 00:00:00\n",
      "2020-02-13 10:50:23.398 | DEBUG    | models.data_provider:adjust_and_log:62 - adding log\n",
      "2020-02-13 10:50:23.434 | DEBUG    | models.data_provider:adjust_and_log:64 - done adj and log\n"
     ]
    }
   ],
   "source": [
    "from models.data_provider import DataModel\n",
    "dm = DataModel()\n",
    "dm.read_from_csvs(\"../xcels\", [\"master0.csv\", \"master1.csv\"])\n",
    "df = dm.get(dm.TA_SYMBOLS[0], \"1396-01-01\", \"1397-01-01\")"
   ]
  },
  {
   "cell_type": "code",
   "execution_count": 32,
   "metadata": {},
   "outputs": [],
   "source": [
    "\n",
    "df2 = pd.DataFrame(df[\"adj_close\"])\n"
   ]
  },
  {
   "cell_type": "code",
   "execution_count": 35,
   "metadata": {},
   "outputs": [
    {
     "data": {
      "text/plain": [
       "[8, 9]"
      ]
     },
     "execution_count": 35,
     "metadata": {},
     "output_type": "execute_result"
    }
   ],
   "source": [
    "x=[7,8,9,4]\n",
    "x[1:3]"
   ]
  },
  {
   "cell_type": "code",
   "execution_count": 53,
   "metadata": {},
   "outputs": [],
   "source": [
    "close = df.adj_close.tolist()\n",
    "x=[]\n",
    "y=[]\n",
    "for i in range(len(close)):\n",
    "    if (i > 5) and (i+5 < len(close)):\n",
    "        x.append(close[i-5:i+2])\n",
    "        y.append(close[i+5])"
   ]
  },
  {
   "cell_type": "code",
   "execution_count": 54,
   "metadata": {
    "collapsed": true,
    "jupyter": {
     "outputs_hidden": true
    }
   },
   "outputs": [
    {
     "data": {
      "text/plain": [
       "[1036.0,\n",
       " 1074.0,\n",
       " 1098.0,\n",
       " 1094.0,\n",
       " 1086.0,\n",
       " 1100.0,\n",
       " 1149.0,\n",
       " 1191.0,\n",
       " 1171.0,\n",
       " 1164.0,\n",
       " 1140.0,\n",
       " 1106.0,\n",
       " 1067.0,\n",
       " 1034.0,\n",
       " 1039.0,\n",
       " 1014.0,\n",
       " 1014.0,\n",
       " 1028.0,\n",
       " 1084.0,\n",
       " 1087.0,\n",
       " 1055.0,\n",
       " 1055.0,\n",
       " 1050.0,\n",
       " 1064.0,\n",
       " 1077.0,\n",
       " 1123.0,\n",
       " 1107.0,\n",
       " 1080.0,\n",
       " 1070.0,\n",
       " 1067.0,\n",
       " 1028.0,\n",
       " 1005.0,\n",
       " 988.0,\n",
       " 990.0,\n",
       " 1006.0,\n",
       " 1023.0,\n",
       " 1000.0,\n",
       " 980.0,\n",
       " 980.0,\n",
       " 960.0,\n",
       " 951.0,\n",
       " 976.0,\n",
       " 1012.0,\n",
       " 1010.0,\n",
       " 970.0,\n",
       " 960.0,\n",
       " 960.0,\n",
       " 968.0,\n",
       " 967.0,\n",
       " 960.0,\n",
       " 955.0,\n",
       " 960.0,\n",
       " 953.0,\n",
       " 937.0,\n",
       " 932.0,\n",
       " 927.0,\n",
       " 935.0,\n",
       " 978.0,\n",
       " 980.0,\n",
       " 955.0,\n",
       " 950.0,\n",
       " 935.0,\n",
       " 935.0,\n",
       " 938.0,\n",
       " 940.0,\n",
       " 920.0,\n",
       " 901.0,\n",
       " 900.0,\n",
       " 907.0,\n",
       " 903.0,\n",
       " 913.0,\n",
       " 954.0,\n",
       " 940.0,\n",
       " 917.0,\n",
       " 910.0,\n",
       " 892.0,\n",
       " 892.0,\n",
       " 882.0,\n",
       " 888.0,\n",
       " 891.0,\n",
       " 886.0,\n",
       " 896.0,\n",
       " 898.0,\n",
       " 900.0,\n",
       " 895.0,\n",
       " 891.0,\n",
       " 920.0,\n",
       " 900.0,\n",
       " 900.0,\n",
       " 897.0,\n",
       " 900.0,\n",
       " 882.0,\n",
       " 883.0,\n",
       " 882.0,\n",
       " 871.0,\n",
       " 857.0,\n",
       " 852.0,\n",
       " 871.0,\n",
       " 870.0,\n",
       " 866.0,\n",
       " 863.0,\n",
       " 881.0,\n",
       " 875.0,\n",
       " 927.0,\n",
       " 917.0,\n",
       " 914.0,\n",
       " 906.0,\n",
       " 910.0,\n",
       " 901.0,\n",
       " 875.0,\n",
       " 880.0,\n",
       " 869.0,\n",
       " 834.0,\n",
       " 813.0,\n",
       " 810.0,\n",
       " 801.0,\n",
       " 803.0,\n",
       " 817.0,\n",
       " 825.0,\n",
       " 834.0,\n",
       " 826.0,\n",
       " 815.0,\n",
       " 808.0,\n",
       " 785.0,\n",
       " 769.0,\n",
       " 770.0,\n",
       " 766.0,\n",
       " 762.0,\n",
       " 774.0,\n",
       " 778.0,\n",
       " 820.0,\n",
       " 816.0,\n",
       " 792.0,\n",
       " 815.0,\n",
       " 803.0,\n",
       " 793.0,\n",
       " 800.0,\n",
       " 786.0,\n",
       " 786.0,\n",
       " 825.0,\n",
       " 836.0,\n",
       " 821.0,\n",
       " 811.0,\n",
       " 800.0,\n",
       " 787.0,\n",
       " 794.0,\n",
       " 820.0,\n",
       " 816.0,\n",
       " 804.0,\n",
       " 803.0,\n",
       " 805.0,\n",
       " 821.0,\n",
       " 816.0,\n",
       " 830.0,\n",
       " 883.0,\n",
       " 870.0,\n",
       " 904.0,\n",
       " 896.0,\n",
       " 869.0,\n",
       " 874.0,\n",
       " 885.0,\n",
       " 942.0,\n",
       " 919.0,\n",
       " 913.0,\n",
       " 918.0,\n",
       " 913.0,\n",
       " 900.0,\n",
       " 888.0,\n",
       " 876.0,\n",
       " 837.0,\n",
       " 802.0,\n",
       " 815.0,\n",
       " 818.0,\n",
       " 820.0,\n",
       " 815.0,\n",
       " 821.0,\n",
       " 820.0,\n",
       " 796.0,\n",
       " 815.0,\n",
       " 828.0,\n",
       " 819.0,\n",
       " 810.0,\n",
       " 807.0,\n",
       " 816.0,\n",
       " 809.0,\n",
       " 790.0,\n",
       " 803.0,\n",
       " 805.0,\n",
       " 796.0,\n",
       " 838.0,\n",
       " 825.0,\n",
       " 820.0,\n",
       " 820.0,\n",
       " 810.0,\n",
       " 804.0,\n",
       " 837.0,\n",
       " 862.0,\n",
       " 859.0,\n",
       " 860.0,\n",
       " 875.0,\n",
       " 908.0,\n",
       " 881.0,\n",
       " 877.0,\n",
       " 872.0,\n",
       " 880.0,\n",
       " 861.0,\n",
       " 898.0,\n",
       " 911.0,\n",
       " 896.0,\n",
       " 879.0,\n",
       " 886.0,\n",
       " 915.0,\n",
       " 930.0,\n",
       " 909.0,\n",
       " 870.0,\n",
       " 842.0,\n",
       " 854.0,\n",
       " 834.0,\n",
       " 820.0,\n",
       " 817.0,\n",
       " 819.0,\n",
       " 811.0,\n",
       " 800.0,\n",
       " 820.0,\n",
       " 825.0]"
      ]
     },
     "execution_count": 54,
     "metadata": {},
     "output_type": "execute_result"
    }
   ],
   "source": [
    "y"
   ]
  },
  {
   "cell_type": "code",
   "execution_count": 55,
   "metadata": {},
   "outputs": [
    {
     "data": {
      "text/plain": [
       "LinearRegression(copy_X=True, fit_intercept=True, n_jobs=None, normalize=False)"
      ]
     },
     "execution_count": 55,
     "metadata": {},
     "output_type": "execute_result"
    }
   ],
   "source": [
    "reg = LinearRegression()\n",
    "reg.fit(x,y)"
   ]
  },
  {
   "cell_type": "code",
   "execution_count": 56,
   "metadata": {},
   "outputs": [],
   "source": [
    "yy = reg.predict(x)"
   ]
  },
  {
   "cell_type": "code",
   "execution_count": 59,
   "metadata": {},
   "outputs": [
    {
     "data": {
      "text/plain": [
       "[<matplotlib.lines.Line2D at 0x7f0685bbb208>]"
      ]
     },
     "execution_count": 59,
     "metadata": {},
     "output_type": "execute_result"
    },
    {
     "data": {
      "image/png": "[encoded data removed]",
      "text/plain": [
       "<Figure size 432x288 with 1 Axes>"
      ]
     },
     "metadata": {
      "needs_background": "light"
     },
     "output_type": "display_data"
    }
   ],
   "source": [
    "plt.plot(range(len(y)),y)\n",
    "plt.plot(range(len(y)),yy)"
   ]
  },
  {
   "cell_type": "code",
   "execution_count": null,
   "metadata": {},
   "outputs": [],
   "source": []
  }
 ],
 "metadata": {
  "kernelspec": {
   "display_name": "Python 3",
   "language": "python",
   "name": "python3"
  },
  "language_info": {
   "codemirror_mode": {
    "name": "ipython",
    "version": 3
   },
   "file_extension": ".py",
   "mimetype": "text/x-python",
   "name": "python",
   "nbconvert_exporter": "python",
   "pygments_lexer": "ipython3",
   "version": "3.6.9"
  }
 },
 "nbformat": 4,
 "nbformat_minor": 4
}
