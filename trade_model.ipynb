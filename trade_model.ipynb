{
 "cells": [
  {
   "cell_type": "code",
   "execution_count": 1,
   "metadata": {
    "ExecuteTime": {
     "end_time": "2019-10-10T07:48:25.266831Z",
     "start_time": "2019-10-10T07:48:12.344577Z"
    }
   },
   "outputs": [],
   "source": [
    "import trade_model as td\n",
    "dm = td.DataModel(\"../xcels\", [\"master0.csv\", \"master1.csv\"])\n",
    "dm.read()"
   ]
  },
  {
   "cell_type": "code",
   "execution_count": 20,
   "metadata": {
    "ExecuteTime": {
     "end_time": "2019-10-10T16:02:36.704554Z",
     "start_time": "2019-10-10T16:02:35.698818Z"
    }
   },
   "outputs": [],
   "source": [
    "symbol = \"فولاد\"\n",
    "# df = dm.get(symbol, \"2017-05-19\", \"2017-09-03\")\n",
    "df = dm.get(symbol, \"1394-4-23\", \"1394-6-18\")"
   ]
  },
  {
   "cell_type": "code",
   "execution_count": null,
   "metadata": {
    "ExecuteTime": {
     "end_time": "2019-10-10T06:57:50.957228Z",
     "start_time": "2019-10-10T06:57:50.082665Z"
    }
   },
   "outputs": [],
   "source": []
  },
  {
   "cell_type": "code",
   "execution_count": null,
   "metadata": {},
   "outputs": [],
   "source": []
  },
  {
   "cell_type": "code",
   "execution_count": null,
   "metadata": {},
   "outputs": [],
   "source": []
  },
  {
   "cell_type": "code",
   "execution_count": null,
   "metadata": {},
   "outputs": [],
   "source": []
  },
  {
   "cell_type": "code",
   "execution_count": 62,
   "metadata": {
    "ExecuteTime": {
     "end_time": "2019-10-10T17:19:38.080240Z",
     "start_time": "2019-10-10T17:19:38.028011Z"
    }
   },
   "outputs": [
    {
     "ename": "SyntaxError",
     "evalue": "invalid syntax (<ipython-input-62-37e350791bff>, line 32)",
     "output_type": "error",
     "traceback": [
      "\u001b[0;36m  File \u001b[0;32m\"<ipython-input-62-37e350791bff>\"\u001b[0;36m, line \u001b[0;32m32\u001b[0m\n\u001b[0;31m    def add_log_adj(df)\u001b[0m\n\u001b[0m                       ^\u001b[0m\n\u001b[0;31mSyntaxError\u001b[0m\u001b[0;31m:\u001b[0m invalid syntax\n"
     ]
    }
   ],
   "source": [
    "# %%writefile trade_model.py\n",
    "\n",
    "import pandas as pd\n",
    "from khayyam import JalaliDate, JalaliDatetime\n",
    "\n",
    "def add_diff_min_max(df): \n",
    "    df[\"diff_min_max\"] = (df['max']-df['min'])*100/(df['min'])\n",
    "\n",
    "def add_diff_ending(df):\n",
    "    df[\"diff_open\"] = (df['lastday']-df['ending'])*100/(df['lastday'])\n",
    "\n",
    "def add_adjust_scale(df_symbol):\n",
    "    lastdays = df_symbol[\"lastday\"].copy().drop(df_symbol.index[0])\n",
    "    endings = df_symbol[\"ending\"].copy().drop(df_symbol.index[-1])\n",
    "    endings.index = lastdays.index\n",
    "    scale = lastdays/endings\n",
    "    scale[df_symbol.index[0]] = 1\n",
    "    df_symbol.loc[:, \"adj_scale\"] = scale\n",
    "    \n",
    "def add_adjust(df):\n",
    "    adj = df.loc[df[\"adj_scale\"] < 1].index\n",
    "    df[\"adj_open\"] = df[\"open\"]\n",
    "    df[\"adj_close\"] = df[\"close\"]\n",
    "    df[\"adj_ending\"] = df[\"ending\"]\n",
    "    df[\"adj_min\"] = df[\"min\"]\n",
    "    df[\"adj_max\"] = df[\"max\"]\n",
    "    adj_headers = [\"adj_min\", \"adj_max\", \"adj_close\", \"adj_open\", \"adj_ending\"]\n",
    "    for date in adj:\n",
    "        scale = df.loc[date, \"adj_scale\"]\n",
    "        df.loc[df.index[0]:date, adj_headers] = df.loc[df.index[0]:date, adj_headers].transform(lambda x: x * scale)\n",
    "\n",
    "def add_log_adj(df):\n",
    "    adj = df.loc[df[\"adj_scale\"] < 1].index\n",
    "    df[\"log_adj_open\"] = df[\"open\"]\n",
    "    df[\"log_adj_close\"] = df[\"close\"]\n",
    "    df[\"log_adj_ending\"] = df[\"ending\"]\n",
    "    df[\"log_adj_min\"] = df[\"min\"]\n",
    "    df[\"log_adj_max\"] = df[\"max\"]\n",
    "    adj_headers = [\"log_adj_min\", \"log_adj_max\", \"log_adj_close\", \"log_adj_open\", \"log_adj_ending\"]\n",
    "    for date in adj:\n",
    "        scale = df.loc[date, \"adj_scale\"]\n",
    "        df.loc[df.index[0]:date, adj_headers] = df.loc[df.index[0]:date, adj_headers].transform(lambda x: x * scale)\n",
    "\n",
    "class DataModel:\n",
    "    def __init__(self,data_location, file_names=[]):  \n",
    "        self.data_location = data_location;\n",
    "        self.file_names = file_names;\n",
    "    \n",
    "    def __read_csv(self, file_name):\n",
    "        return pd.read_csv(f'{self.data_location}/{file_name}', sep=',',header=[0], parse_dates=[\"date\"])\n",
    "\n",
    "#     TODO: use pystore instead\n",
    "    def read(self):\n",
    "        dfs = []\n",
    "        for name in self.file_names:\n",
    "            dfs.append(self.__read_csv(name))\n",
    "        self.df = pd.concat(dfs, ignore_index=True)\n",
    "        add_diff_min_max(self.df)\n",
    "        add_diff_ending(self.df)\n",
    "        self.df = self.df.set_index('date')\n",
    "#         print(\"hi\")\n",
    "#         self.df = self.df.groupby(\"symbol\").apply(add_adjust_scale)\n",
    "#         self.allSymbols = self.df.symbol.tolist()\n",
    "#         self.symbols = list(set(self.df.symbol))[1:]\n",
    "#         for symbol in self.symbols:\n",
    "#         counts = Counter(self.allSymbols)\n",
    "#         testSymbols = []\n",
    "#         tmpSymbols = []\n",
    "#         for symbol in symbols:\n",
    "#             if counts[symbol] > RECORD_THRESHOLD:\n",
    "#                 tmpSymbols.append(symbol)\n",
    "#         for i in range(TESTCASE_NUMBER):\n",
    "#             ran = random.randint(0, len(tmpSymbols)-1)\n",
    "#             testSymbols.append(tmpSymbols[ran])\n",
    "#             tmpSymbols.remove(tmpSymbols[ran])\n",
    "#         print(\"test symbol\", len(testSymbols))\n",
    "\n",
    "\n",
    "    def get(self, symbol, start=\"\", end=\"\"):\n",
    "        \n",
    "        if start == \"\":\n",
    "            start = self.df.index[0]\n",
    "        else:\n",
    "            s_date = start.split(\"-\")\n",
    "            start = JalaliDate(s_date[0], s_date[1], s_date[2]).todate()\n",
    "        if end == \"\":\n",
    "            end = self.df.index[-1]\n",
    "        else:\n",
    "            e_date = end.split(\"-\")\n",
    "            end = JalaliDate(e_date[0], e_date[1], e_date[2]).todate()\n",
    "        tmpdf = self.df.loc[start:end]\n",
    "        return tmpdf.loc[tmpdf[\"symbol\"]==symbol].copy()\n"
   ]
  },
  {
   "cell_type": "code",
   "execution_count": 2,
   "metadata": {
    "ExecuteTime": {
     "end_time": "2019-10-10T16:29:54.383547Z",
     "start_time": "2019-10-10T16:29:41.327434Z"
    },
    "scrolled": true
   },
   "outputs": [],
   "source": [
    "dm = DataModel(\"../xcels\", [\"master0.csv\", \"master1.csv\"])\n",
    "dm.read()"
   ]
  },
  {
   "cell_type": "code",
   "execution_count": 61,
   "metadata": {
    "ExecuteTime": {
     "end_time": "2019-10-10T17:17:26.962958Z",
     "start_time": "2019-10-10T17:17:26.452177Z"
    },
    "scrolled": true
   },
   "outputs": [
    {
     "data": {
      "text/html": [
       "<div>\n",
       "<style scoped>\n",
       "    .dataframe tbody tr th:only-of-type {\n",
       "        vertical-align: middle;\n",
       "    }\n",
       "\n",
       "    .dataframe tbody tr th {\n",
       "        vertical-align: top;\n",
       "    }\n",
       "\n",
       "    .dataframe thead th {\n",
       "        text-align: right;\n",
       "    }\n",
       "</style>\n",
       "<table border=\"1\" class=\"dataframe\">\n",
       "  <thead>\n",
       "    <tr style=\"text-align: right;\">\n",
       "      <th></th>\n",
       "      <th>close</th>\n",
       "      <th>open</th>\n",
       "      <th>ending</th>\n",
       "      <th>lastday</th>\n",
       "    </tr>\n",
       "    <tr>\n",
       "      <th>date</th>\n",
       "      <th></th>\n",
       "      <th></th>\n",
       "      <th></th>\n",
       "      <th></th>\n",
       "    </tr>\n",
       "  </thead>\n",
       "  <tbody>\n",
       "    <tr>\n",
       "      <td>2019-07-20</td>\n",
       "      <td>1499.0</td>\n",
       "      <td>1510.0</td>\n",
       "      <td>1565.0</td>\n",
       "      <td>1526.0</td>\n",
       "    </tr>\n",
       "    <tr>\n",
       "      <td>2019-07-24</td>\n",
       "      <td>1520.0</td>\n",
       "      <td>1545.0</td>\n",
       "      <td>1534.0</td>\n",
       "      <td>1565.0</td>\n",
       "    </tr>\n",
       "  </tbody>\n",
       "</table>\n",
       "</div>"
      ],
      "text/plain": [
       "             close    open  ending  lastday\n",
       "date                                       \n",
       "2019-07-20  1499.0  1510.0  1565.0   1526.0\n",
       "2019-07-24  1520.0  1545.0  1534.0   1565.0"
      ]
     },
     "execution_count": 61,
     "metadata": {},
     "output_type": "execute_result"
    }
   ],
   "source": [
    "symbol = \"خساپا\"\n",
    "# dm.get(symbol, \"1381-12-27\", \"1382-01-20\")\n",
    "\n",
    "df = dm.get(symbol,\"1398-4-28\", \"1398-5-2\")\n",
    "# df = dm.get(symbol)\n",
    "add_adjust_scale(df)\n",
    "abnormal = df[df[\"adj_scale\"] < 1]\n",
    "for a in abnormal.index:\n",
    "    print(JalaliDate(a), abnormal.loc[a, \"adj_scale\"])\n",
    "add_adjust(df)\n",
    "\n",
    "df.loc[:, [\"close\", \"open\", \"ending\", \"lastday\"]]"
   ]
  },
  {
   "cell_type": "code",
   "execution_count": null,
   "metadata": {},
   "outputs": [],
   "source": []
  }
 ],
 "metadata": {
  "kernelspec": {
   "display_name": "Python 3",
   "language": "python",
   "name": "python3"
  },
  "language_info": {
   "codemirror_mode": {
    "name": "ipython",
    "version": 3
   },
   "file_extension": ".py",
   "mimetype": "text/x-python",
   "name": "python",
   "nbconvert_exporter": "python",
   "pygments_lexer": "ipython3",
   "version": "3.6.8"
  },
  "toc": {
   "base_numbering": 1,
   "nav_menu": {},
   "number_sections": false,
   "sideBar": false,
   "skip_h1_title": false,
   "title_cell": "Table of Contents",
   "title_sidebar": "Contents",
   "toc_cell": false,
   "toc_position": {},
   "toc_section_display": false,
   "toc_window_display": false
  }
 },
 "nbformat": 4,
 "nbformat_minor": 2
}
