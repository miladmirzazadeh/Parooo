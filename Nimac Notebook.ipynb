{
 "cells": [
  {
   "cell_type": "code",
   "execution_count": 1,
   "metadata": {
    "ExecuteTime": {
     "end_time": "2019-09-16T17:31:15.482091Z",
     "start_time": "2019-09-16T17:31:13.922080Z"
    }
   },
   "outputs": [],
   "source": [
    "import pandas as pd \n",
    "import numpy as np\n",
    "import plotly.graph_objects as go\n",
    "from datetime import datetime\n",
    "from math import pi"
   ]
  },
  {
   "cell_type": "code",
   "execution_count": 2,
   "metadata": {
    "ExecuteTime": {
     "end_time": "2019-09-16T17:31:15.530751Z",
     "start_time": "2019-09-16T17:31:15.486151Z"
    }
   },
   "outputs": [
    {
     "data": {
      "text/plain": [
       "3348"
      ]
     },
     "execution_count": 2,
     "metadata": {},
     "output_type": "execute_result"
    }
   ],
   "source": [
    "df = pd.read_csv('./milad.csv')\n",
    "len(df)"
   ]
  },
  {
   "cell_type": "code",
   "execution_count": 3,
   "metadata": {
    "ExecuteTime": {
     "end_time": "2019-09-16T17:31:16.641602Z",
     "start_time": "2019-09-16T17:31:16.591444Z"
    }
   },
   "outputs": [
    {
     "data": {
      "text/html": [
       "<div>\n",
       "<style scoped>\n",
       "    .dataframe tbody tr th:only-of-type {\n",
       "        vertical-align: middle;\n",
       "    }\n",
       "\n",
       "    .dataframe tbody tr th {\n",
       "        vertical-align: top;\n",
       "    }\n",
       "\n",
       "    .dataframe thead th {\n",
       "        text-align: right;\n",
       "    }\n",
       "</style>\n",
       "<table border=\"1\" class=\"dataframe\">\n",
       "  <thead>\n",
       "    <tr style=\"text-align: right;\">\n",
       "      <th></th>\n",
       "      <th>Unnamed: 0</th>\n",
       "      <th>symbol</th>\n",
       "      <th>name</th>\n",
       "      <th>amount</th>\n",
       "      <th>volume</th>\n",
       "      <th>value</th>\n",
       "      <th>lastday</th>\n",
       "      <th>open</th>\n",
       "      <th>last-value</th>\n",
       "      <th>last-change</th>\n",
       "      <th>last-percent</th>\n",
       "      <th>close</th>\n",
       "      <th>ending-change</th>\n",
       "      <th>ending-percent</th>\n",
       "      <th>min</th>\n",
       "      <th>max</th>\n",
       "      <th>year</th>\n",
       "      <th>month</th>\n",
       "      <th>day</th>\n",
       "      <th>date</th>\n",
       "    </tr>\n",
       "  </thead>\n",
       "  <tbody>\n",
       "    <tr>\n",
       "      <td>0</td>\n",
       "      <td>46894</td>\n",
       "      <td>خپارس</td>\n",
       "      <td>پارس‌ خودرو</td>\n",
       "      <td>318</td>\n",
       "      <td>561712</td>\n",
       "      <td>3608122553</td>\n",
       "      <td>6000.0</td>\n",
       "      <td>6000.0</td>\n",
       "      <td>6621.0</td>\n",
       "      <td>621.0</td>\n",
       "      <td>10.35</td>\n",
       "      <td>6621.0</td>\n",
       "      <td>621.0</td>\n",
       "      <td>10.35</td>\n",
       "      <td>4000.0</td>\n",
       "      <td>10000.0</td>\n",
       "      <td>1382</td>\n",
       "      <td>2</td>\n",
       "      <td>17</td>\n",
       "      <td>2003-05-07</td>\n",
       "    </tr>\n",
       "    <tr>\n",
       "      <td>1</td>\n",
       "      <td>47002</td>\n",
       "      <td>خپارس</td>\n",
       "      <td>پارس‌ خودرو</td>\n",
       "      <td>94</td>\n",
       "      <td>124799</td>\n",
       "      <td>910907901</td>\n",
       "      <td>6952.0</td>\n",
       "      <td>7299.0</td>\n",
       "      <td>7299.0</td>\n",
       "      <td>347.0</td>\n",
       "      <td>4.99</td>\n",
       "      <td>7299.0</td>\n",
       "      <td>347.0</td>\n",
       "      <td>4.99</td>\n",
       "      <td>7299.0</td>\n",
       "      <td>7299.0</td>\n",
       "      <td>1382</td>\n",
       "      <td>2</td>\n",
       "      <td>21</td>\n",
       "      <td>2003-05-11</td>\n",
       "    </tr>\n",
       "    <tr>\n",
       "      <td>2</td>\n",
       "      <td>47135</td>\n",
       "      <td>خپارس</td>\n",
       "      <td>پارس‌ خودرو</td>\n",
       "      <td>139</td>\n",
       "      <td>179535</td>\n",
       "      <td>1375776705</td>\n",
       "      <td>7299.0</td>\n",
       "      <td>7663.0</td>\n",
       "      <td>7663.0</td>\n",
       "      <td>364.0</td>\n",
       "      <td>4.99</td>\n",
       "      <td>7663.0</td>\n",
       "      <td>364.0</td>\n",
       "      <td>4.99</td>\n",
       "      <td>7663.0</td>\n",
       "      <td>7663.0</td>\n",
       "      <td>1382</td>\n",
       "      <td>2</td>\n",
       "      <td>22</td>\n",
       "      <td>2003-05-12</td>\n",
       "    </tr>\n",
       "    <tr>\n",
       "      <td>3</td>\n",
       "      <td>47348</td>\n",
       "      <td>خپارس</td>\n",
       "      <td>پارس‌ خودرو</td>\n",
       "      <td>155</td>\n",
       "      <td>221434</td>\n",
       "      <td>1781657964</td>\n",
       "      <td>7663.0</td>\n",
       "      <td>8046.0</td>\n",
       "      <td>8046.0</td>\n",
       "      <td>383.0</td>\n",
       "      <td>5.00</td>\n",
       "      <td>8046.0</td>\n",
       "      <td>383.0</td>\n",
       "      <td>5.00</td>\n",
       "      <td>8046.0</td>\n",
       "      <td>8046.0</td>\n",
       "      <td>1382</td>\n",
       "      <td>2</td>\n",
       "      <td>23</td>\n",
       "      <td>2003-05-13</td>\n",
       "    </tr>\n",
       "    <tr>\n",
       "      <td>4</td>\n",
       "      <td>47386</td>\n",
       "      <td>خپارس</td>\n",
       "      <td>پارس‌ خودرو</td>\n",
       "      <td>104</td>\n",
       "      <td>140655</td>\n",
       "      <td>1188253440</td>\n",
       "      <td>8046.0</td>\n",
       "      <td>8448.0</td>\n",
       "      <td>8448.0</td>\n",
       "      <td>402.0</td>\n",
       "      <td>5.00</td>\n",
       "      <td>8448.0</td>\n",
       "      <td>402.0</td>\n",
       "      <td>5.00</td>\n",
       "      <td>8448.0</td>\n",
       "      <td>8448.0</td>\n",
       "      <td>1382</td>\n",
       "      <td>2</td>\n",
       "      <td>24</td>\n",
       "      <td>2003-05-14</td>\n",
       "    </tr>\n",
       "  </tbody>\n",
       "</table>\n",
       "</div>"
      ],
      "text/plain": [
       "   Unnamed: 0 symbol         name  amount  volume       value  lastday  \\\n",
       "0       46894  خپارس  پارس‌ خودرو     318  561712  3608122553   6000.0   \n",
       "1       47002  خپارس  پارس‌ خودرو      94  124799   910907901   6952.0   \n",
       "2       47135  خپارس  پارس‌ خودرو     139  179535  1375776705   7299.0   \n",
       "3       47348  خپارس  پارس‌ خودرو     155  221434  1781657964   7663.0   \n",
       "4       47386  خپارس  پارس‌ خودرو     104  140655  1188253440   8046.0   \n",
       "\n",
       "     open  last-value  last-change  last-percent   close  ending-change  \\\n",
       "0  6000.0      6621.0        621.0         10.35  6621.0          621.0   \n",
       "1  7299.0      7299.0        347.0          4.99  7299.0          347.0   \n",
       "2  7663.0      7663.0        364.0          4.99  7663.0          364.0   \n",
       "3  8046.0      8046.0        383.0          5.00  8046.0          383.0   \n",
       "4  8448.0      8448.0        402.0          5.00  8448.0          402.0   \n",
       "\n",
       "   ending-percent     min      max  year  month  day        date  \n",
       "0           10.35  4000.0  10000.0  1382      2   17  2003-05-07  \n",
       "1            4.99  7299.0   7299.0  1382      2   21  2003-05-11  \n",
       "2            4.99  7663.0   7663.0  1382      2   22  2003-05-12  \n",
       "3            5.00  8046.0   8046.0  1382      2   23  2003-05-13  \n",
       "4            5.00  8448.0   8448.0  1382      2   24  2003-05-14  "
      ]
     },
     "execution_count": 3,
     "metadata": {},
     "output_type": "execute_result"
    }
   ],
   "source": [
    "\n",
    "df=df.rename(columns={\"ending-value\":\"close\",\"openning\":\"open\"})\n",
    "df.head()"
   ]
  },
  {
   "cell_type": "code",
   "execution_count": 4,
   "metadata": {
    "ExecuteTime": {
     "end_time": "2019-09-16T17:31:17.653300Z",
     "start_time": "2019-09-16T17:31:17.596456Z"
    }
   },
   "outputs": [
    {
     "name": "stdout",
     "output_type": "stream",
     "text": [
      "580\n"
     ]
    },
    {
     "data": {
      "text/html": [
       "<div>\n",
       "<style scoped>\n",
       "    .dataframe tbody tr th:only-of-type {\n",
       "        vertical-align: middle;\n",
       "    }\n",
       "\n",
       "    .dataframe tbody tr th {\n",
       "        vertical-align: top;\n",
       "    }\n",
       "\n",
       "    .dataframe thead th {\n",
       "        text-align: right;\n",
       "    }\n",
       "</style>\n",
       "<table border=\"1\" class=\"dataframe\">\n",
       "  <thead>\n",
       "    <tr style=\"text-align: right;\">\n",
       "      <th></th>\n",
       "      <th>Unnamed: 0</th>\n",
       "      <th>symbol</th>\n",
       "      <th>name</th>\n",
       "      <th>amount</th>\n",
       "      <th>volume</th>\n",
       "      <th>value</th>\n",
       "      <th>lastday</th>\n",
       "      <th>open</th>\n",
       "      <th>last-value</th>\n",
       "      <th>last-change</th>\n",
       "      <th>last-percent</th>\n",
       "      <th>close</th>\n",
       "      <th>ending-change</th>\n",
       "      <th>ending-percent</th>\n",
       "      <th>min</th>\n",
       "      <th>max</th>\n",
       "      <th>year</th>\n",
       "      <th>month</th>\n",
       "      <th>day</th>\n",
       "      <th>date</th>\n",
       "    </tr>\n",
       "  </thead>\n",
       "  <tbody>\n",
       "    <tr>\n",
       "      <td>2768</td>\n",
       "      <td>907039</td>\n",
       "      <td>خپارس</td>\n",
       "      <td>پارس‌ خودرو</td>\n",
       "      <td>563</td>\n",
       "      <td>5603631</td>\n",
       "      <td>5042936614</td>\n",
       "      <td>874.0</td>\n",
       "      <td>882.0</td>\n",
       "      <td>903.0</td>\n",
       "      <td>29.0</td>\n",
       "      <td>3.32</td>\n",
       "      <td>890.0</td>\n",
       "      <td>16.0</td>\n",
       "      <td>1.83</td>\n",
       "      <td>882.0</td>\n",
       "      <td>909.0</td>\n",
       "      <td>1396</td>\n",
       "      <td>1</td>\n",
       "      <td>5</td>\n",
       "      <td>2017-03-25</td>\n",
       "    </tr>\n",
       "    <tr>\n",
       "      <td>2769</td>\n",
       "      <td>907737</td>\n",
       "      <td>خپارس</td>\n",
       "      <td>پارس‌ خودرو</td>\n",
       "      <td>386</td>\n",
       "      <td>3958349</td>\n",
       "      <td>3497017426</td>\n",
       "      <td>890.0</td>\n",
       "      <td>908.0</td>\n",
       "      <td>880.0</td>\n",
       "      <td>-10.0</td>\n",
       "      <td>-1.12</td>\n",
       "      <td>887.0</td>\n",
       "      <td>-3.0</td>\n",
       "      <td>-0.34</td>\n",
       "      <td>877.0</td>\n",
       "      <td>909.0</td>\n",
       "      <td>1396</td>\n",
       "      <td>1</td>\n",
       "      <td>6</td>\n",
       "      <td>2017-03-26</td>\n",
       "    </tr>\n",
       "    <tr>\n",
       "      <td>2770</td>\n",
       "      <td>907905</td>\n",
       "      <td>خپارس</td>\n",
       "      <td>پارس‌ خودرو</td>\n",
       "      <td>455</td>\n",
       "      <td>4834006</td>\n",
       "      <td>4224751019</td>\n",
       "      <td>887.0</td>\n",
       "      <td>895.0</td>\n",
       "      <td>871.0</td>\n",
       "      <td>-16.0</td>\n",
       "      <td>-1.80</td>\n",
       "      <td>880.0</td>\n",
       "      <td>-7.0</td>\n",
       "      <td>-0.79</td>\n",
       "      <td>870.0</td>\n",
       "      <td>895.0</td>\n",
       "      <td>1396</td>\n",
       "      <td>1</td>\n",
       "      <td>7</td>\n",
       "      <td>2017-03-27</td>\n",
       "    </tr>\n",
       "    <tr>\n",
       "      <td>2771</td>\n",
       "      <td>908890</td>\n",
       "      <td>خپارس</td>\n",
       "      <td>پارس‌ خودرو</td>\n",
       "      <td>726</td>\n",
       "      <td>9518816</td>\n",
       "      <td>8358247698</td>\n",
       "      <td>880.0</td>\n",
       "      <td>879.0</td>\n",
       "      <td>880.0</td>\n",
       "      <td>0.0</td>\n",
       "      <td>0.00</td>\n",
       "      <td>878.0</td>\n",
       "      <td>-2.0</td>\n",
       "      <td>-0.23</td>\n",
       "      <td>868.0</td>\n",
       "      <td>890.0</td>\n",
       "      <td>1396</td>\n",
       "      <td>1</td>\n",
       "      <td>8</td>\n",
       "      <td>2017-03-28</td>\n",
       "    </tr>\n",
       "    <tr>\n",
       "      <td>2772</td>\n",
       "      <td>909243</td>\n",
       "      <td>خپارس</td>\n",
       "      <td>پارس‌ خودرو</td>\n",
       "      <td>611</td>\n",
       "      <td>6628884</td>\n",
       "      <td>5769939692</td>\n",
       "      <td>878.0</td>\n",
       "      <td>880.0</td>\n",
       "      <td>871.0</td>\n",
       "      <td>-7.0</td>\n",
       "      <td>-0.80</td>\n",
       "      <td>872.0</td>\n",
       "      <td>-6.0</td>\n",
       "      <td>-0.68</td>\n",
       "      <td>864.0</td>\n",
       "      <td>880.0</td>\n",
       "      <td>1396</td>\n",
       "      <td>1</td>\n",
       "      <td>9</td>\n",
       "      <td>2017-03-29</td>\n",
       "    </tr>\n",
       "    <tr>\n",
       "      <td>2773</td>\n",
       "      <td>909816</td>\n",
       "      <td>خپارس</td>\n",
       "      <td>پارس‌ خودرو</td>\n",
       "      <td>484</td>\n",
       "      <td>5277159</td>\n",
       "      <td>4600517889</td>\n",
       "      <td>872.0</td>\n",
       "      <td>878.0</td>\n",
       "      <td>867.0</td>\n",
       "      <td>-5.0</td>\n",
       "      <td>-0.57</td>\n",
       "      <td>872.0</td>\n",
       "      <td>0.0</td>\n",
       "      <td>0.00</td>\n",
       "      <td>866.0</td>\n",
       "      <td>890.0</td>\n",
       "      <td>1396</td>\n",
       "      <td>1</td>\n",
       "      <td>14</td>\n",
       "      <td>2017-04-03</td>\n",
       "    </tr>\n",
       "    <tr>\n",
       "      <td>2774</td>\n",
       "      <td>910131</td>\n",
       "      <td>خپارس</td>\n",
       "      <td>پارس‌ خودرو</td>\n",
       "      <td>556</td>\n",
       "      <td>6676437</td>\n",
       "      <td>5774963041</td>\n",
       "      <td>872.0</td>\n",
       "      <td>884.0</td>\n",
       "      <td>864.0</td>\n",
       "      <td>-8.0</td>\n",
       "      <td>-0.92</td>\n",
       "      <td>867.0</td>\n",
       "      <td>-5.0</td>\n",
       "      <td>-0.57</td>\n",
       "      <td>861.0</td>\n",
       "      <td>884.0</td>\n",
       "      <td>1396</td>\n",
       "      <td>1</td>\n",
       "      <td>15</td>\n",
       "      <td>2017-04-04</td>\n",
       "    </tr>\n",
       "    <tr>\n",
       "      <td>2775</td>\n",
       "      <td>910523</td>\n",
       "      <td>خپارس</td>\n",
       "      <td>پارس‌ خودرو</td>\n",
       "      <td>1352</td>\n",
       "      <td>16266390</td>\n",
       "      <td>14133651053</td>\n",
       "      <td>867.0</td>\n",
       "      <td>865.0</td>\n",
       "      <td>886.0</td>\n",
       "      <td>19.0</td>\n",
       "      <td>2.19</td>\n",
       "      <td>869.0</td>\n",
       "      <td>2.0</td>\n",
       "      <td>0.23</td>\n",
       "      <td>850.0</td>\n",
       "      <td>891.0</td>\n",
       "      <td>1396</td>\n",
       "      <td>1</td>\n",
       "      <td>16</td>\n",
       "      <td>2017-04-05</td>\n",
       "    </tr>\n",
       "    <tr>\n",
       "      <td>2776</td>\n",
       "      <td>911550</td>\n",
       "      <td>خپارس</td>\n",
       "      <td>پارس‌ خودرو</td>\n",
       "      <td>863</td>\n",
       "      <td>12936706</td>\n",
       "      <td>11745153344</td>\n",
       "      <td>869.0</td>\n",
       "      <td>892.0</td>\n",
       "      <td>912.0</td>\n",
       "      <td>43.0</td>\n",
       "      <td>4.95</td>\n",
       "      <td>908.0</td>\n",
       "      <td>39.0</td>\n",
       "      <td>4.49</td>\n",
       "      <td>880.0</td>\n",
       "      <td>912.0</td>\n",
       "      <td>1396</td>\n",
       "      <td>1</td>\n",
       "      <td>19</td>\n",
       "      <td>2017-04-08</td>\n",
       "    </tr>\n",
       "    <tr>\n",
       "      <td>2777</td>\n",
       "      <td>911785</td>\n",
       "      <td>خپارس</td>\n",
       "      <td>پارس‌ خودرو</td>\n",
       "      <td>1650</td>\n",
       "      <td>27657522</td>\n",
       "      <td>26192345997</td>\n",
       "      <td>908.0</td>\n",
       "      <td>940.0</td>\n",
       "      <td>953.0</td>\n",
       "      <td>45.0</td>\n",
       "      <td>4.96</td>\n",
       "      <td>947.0</td>\n",
       "      <td>39.0</td>\n",
       "      <td>4.30</td>\n",
       "      <td>925.0</td>\n",
       "      <td>953.0</td>\n",
       "      <td>1396</td>\n",
       "      <td>1</td>\n",
       "      <td>20</td>\n",
       "      <td>2017-04-09</td>\n",
       "    </tr>\n",
       "  </tbody>\n",
       "</table>\n",
       "</div>"
      ],
      "text/plain": [
       "      Unnamed: 0 symbol         name  amount    volume        value  lastday  \\\n",
       "2768      907039  خپارس  پارس‌ خودرو     563   5603631   5042936614    874.0   \n",
       "2769      907737  خپارس  پارس‌ خودرو     386   3958349   3497017426    890.0   \n",
       "2770      907905  خپارس  پارس‌ خودرو     455   4834006   4224751019    887.0   \n",
       "2771      908890  خپارس  پارس‌ خودرو     726   9518816   8358247698    880.0   \n",
       "2772      909243  خپارس  پارس‌ خودرو     611   6628884   5769939692    878.0   \n",
       "2773      909816  خپارس  پارس‌ خودرو     484   5277159   4600517889    872.0   \n",
       "2774      910131  خپارس  پارس‌ خودرو     556   6676437   5774963041    872.0   \n",
       "2775      910523  خپارس  پارس‌ خودرو    1352  16266390  14133651053    867.0   \n",
       "2776      911550  خپارس  پارس‌ خودرو     863  12936706  11745153344    869.0   \n",
       "2777      911785  خپارس  پارس‌ خودرو    1650  27657522  26192345997    908.0   \n",
       "\n",
       "       open  last-value  last-change  last-percent  close  ending-change  \\\n",
       "2768  882.0       903.0         29.0          3.32  890.0           16.0   \n",
       "2769  908.0       880.0        -10.0         -1.12  887.0           -3.0   \n",
       "2770  895.0       871.0        -16.0         -1.80  880.0           -7.0   \n",
       "2771  879.0       880.0          0.0          0.00  878.0           -2.0   \n",
       "2772  880.0       871.0         -7.0         -0.80  872.0           -6.0   \n",
       "2773  878.0       867.0         -5.0         -0.57  872.0            0.0   \n",
       "2774  884.0       864.0         -8.0         -0.92  867.0           -5.0   \n",
       "2775  865.0       886.0         19.0          2.19  869.0            2.0   \n",
       "2776  892.0       912.0         43.0          4.95  908.0           39.0   \n",
       "2777  940.0       953.0         45.0          4.96  947.0           39.0   \n",
       "\n",
       "      ending-percent    min    max  year  month  day        date  \n",
       "2768            1.83  882.0  909.0  1396      1    5  2017-03-25  \n",
       "2769           -0.34  877.0  909.0  1396      1    6  2017-03-26  \n",
       "2770           -0.79  870.0  895.0  1396      1    7  2017-03-27  \n",
       "2771           -0.23  868.0  890.0  1396      1    8  2017-03-28  \n",
       "2772           -0.68  864.0  880.0  1396      1    9  2017-03-29  \n",
       "2773            0.00  866.0  890.0  1396      1   14  2017-04-03  \n",
       "2774           -0.57  861.0  884.0  1396      1   15  2017-04-04  \n",
       "2775            0.23  850.0  891.0  1396      1   16  2017-04-05  \n",
       "2776            4.49  880.0  912.0  1396      1   19  2017-04-08  \n",
       "2777            4.30  925.0  953.0  1396      1   20  2017-04-09  "
      ]
     },
     "execution_count": 4,
     "metadata": {},
     "output_type": "execute_result"
    }
   ],
   "source": [
    "stock97=df[np.logical_or(np.logical_or(df[\"year\"]==1396 ,df[\"year\"]==1397),df[\"year\"]==1398)]\n",
    "print(len(stock97))\n",
    "stock97.head(10)\n"
   ]
  },
  {
   "cell_type": "code",
   "execution_count": 5,
   "metadata": {
    "ExecuteTime": {
     "end_time": "2019-09-16T17:31:18.251775Z",
     "start_time": "2019-09-16T17:31:18.245744Z"
    }
   },
   "outputs": [],
   "source": [
    "# stocko= stock97[\"open\"] list  and stockc is stock97[\"close\"] list\n",
    "stocko=stock97[\"open\"].tolist()\n",
    "stockc=stock97[\"close\"].tolist()"
   ]
  },
  {
   "cell_type": "code",
   "execution_count": 6,
   "metadata": {
    "ExecuteTime": {
     "end_time": "2019-09-16T17:31:18.924334Z",
     "start_time": "2019-09-16T17:31:18.882246Z"
    }
   },
   "outputs": [
    {
     "name": "stdout",
     "output_type": "stream",
     "text": [
      "this is a high :  18\n",
      "this is a high :  31\n",
      "this is a high :  37\n",
      "this is a high :  54\n",
      "this is a high :  69\n",
      "this is a high :  83\n",
      "this is a high :  101\n",
      "this is a high :  115\n",
      "this is a high :  130\n",
      "this is a high :  142\n",
      "this is a high :  145\n",
      "this is a high :  151\n",
      "this is a high :  167\n",
      "this is a high :  173\n",
      "this is a high :  190\n",
      "this is a high :  201\n",
      "this is a high :  212\n",
      "this is a high :  218\n",
      "this is a high :  223\n",
      "this is a high :  255\n",
      "this is a high :  268\n",
      "this is a high :  292\n",
      "this is a high :  314\n",
      "this is a high :  322\n",
      "this is a high :  331\n",
      "this is a high :  354\n",
      "this is a high :  368\n",
      "this is a high :  383\n",
      "this is a high :  391\n",
      "this is a high :  400\n",
      "this is a high :  416\n",
      "this is a high :  425\n",
      "this is a high :  453\n",
      "this is a high :  463\n",
      "this is a high :  477\n",
      "this is a high :  496\n",
      "this is a high :  519\n",
      "this is a high :  536\n",
      "this is a high :  542\n",
      "this is a high :  567\n"
     ]
    }
   ],
   "source": [
    "highs=[]\n",
    "highs_price=[]\n",
    "for j in range(len(stocko)): \n",
    "    maximum=max(stocko[j],stockc[j])\n",
    "    if ( (j >10) and (j+10 < len(stocko)) ):\n",
    "        if (maximum>=max(stocko[j-5:j+5]) and maximum>=max(stockc[j-5:j+5])):\n",
    "            print(\"this is a high : \" ,j)\n",
    "            highs.append(j)\n",
    "            highs_price.append(maximum)"
   ]
  },
  {
   "cell_type": "code",
   "execution_count": 7,
   "metadata": {
    "ExecuteTime": {
     "end_time": "2019-09-16T17:31:19.665020Z",
     "start_time": "2019-09-16T17:31:19.251345Z"
    }
   },
   "outputs": [
    {
     "ename": "KeyError",
     "evalue": "'openning'",
     "output_type": "error",
     "traceback": [
      "\u001b[0;31m---------------------------------------------------------------------------\u001b[0m",
      "\u001b[0;31mKeyError\u001b[0m                                  Traceback (most recent call last)",
      "\u001b[0;32m~/.local/lib/python3.6/site-packages/pandas/core/indexes/base.py\u001b[0m in \u001b[0;36mget_loc\u001b[0;34m(self, key, method, tolerance)\u001b[0m\n\u001b[1;32m   2896\u001b[0m             \u001b[0;32mtry\u001b[0m\u001b[0;34m:\u001b[0m\u001b[0;34m\u001b[0m\u001b[0;34m\u001b[0m\u001b[0m\n\u001b[0;32m-> 2897\u001b[0;31m                 \u001b[0;32mreturn\u001b[0m \u001b[0mself\u001b[0m\u001b[0;34m.\u001b[0m\u001b[0m_engine\u001b[0m\u001b[0;34m.\u001b[0m\u001b[0mget_loc\u001b[0m\u001b[0;34m(\u001b[0m\u001b[0mkey\u001b[0m\u001b[0;34m)\u001b[0m\u001b[0;34m\u001b[0m\u001b[0;34m\u001b[0m\u001b[0m\n\u001b[0m\u001b[1;32m   2898\u001b[0m             \u001b[0;32mexcept\u001b[0m \u001b[0mKeyError\u001b[0m\u001b[0;34m:\u001b[0m\u001b[0;34m\u001b[0m\u001b[0;34m\u001b[0m\u001b[0m\n",
      "\u001b[0;32mpandas/_libs/index.pyx\u001b[0m in \u001b[0;36mpandas._libs.index.IndexEngine.get_loc\u001b[0;34m()\u001b[0m\n",
      "\u001b[0;32mpandas/_libs/index.pyx\u001b[0m in \u001b[0;36mpandas._libs.index.IndexEngine.get_loc\u001b[0;34m()\u001b[0m\n",
      "\u001b[0;32mpandas/_libs/hashtable_class_helper.pxi\u001b[0m in \u001b[0;36mpandas._libs.hashtable.PyObjectHashTable.get_item\u001b[0;34m()\u001b[0m\n",
      "\u001b[0;32mpandas/_libs/hashtable_class_helper.pxi\u001b[0m in \u001b[0;36mpandas._libs.hashtable.PyObjectHashTable.get_item\u001b[0;34m()\u001b[0m\n",
      "\u001b[0;31mKeyError\u001b[0m: 'openning'",
      "\nDuring handling of the above exception, another exception occurred:\n",
      "\u001b[0;31mKeyError\u001b[0m                                  Traceback (most recent call last)",
      "\u001b[0;32m<ipython-input-7-4f07d4cb0fca>\u001b[0m in \u001b[0;36m<module>\u001b[0;34m\u001b[0m\n\u001b[1;32m      1\u001b[0m fig = go.Figure(data=[go.Candlestick(x=df['date'],\n\u001b[0;32m----> 2\u001b[0;31m                 \u001b[0mopen\u001b[0m\u001b[0;34m=\u001b[0m\u001b[0mdf\u001b[0m\u001b[0;34m[\u001b[0m\u001b[0;34m'openning'\u001b[0m\u001b[0;34m]\u001b[0m\u001b[0;34m,\u001b[0m\u001b[0;34m\u001b[0m\u001b[0;34m\u001b[0m\u001b[0m\n\u001b[0m\u001b[1;32m      3\u001b[0m                 \u001b[0mhigh\u001b[0m\u001b[0;34m=\u001b[0m\u001b[0mdf\u001b[0m\u001b[0;34m[\u001b[0m\u001b[0;34m'max'\u001b[0m\u001b[0;34m]\u001b[0m\u001b[0;34m,\u001b[0m\u001b[0;34m\u001b[0m\u001b[0;34m\u001b[0m\u001b[0m\n\u001b[1;32m      4\u001b[0m                 \u001b[0mlow\u001b[0m\u001b[0;34m=\u001b[0m\u001b[0mdf\u001b[0m\u001b[0;34m[\u001b[0m\u001b[0;34m'min'\u001b[0m\u001b[0;34m]\u001b[0m\u001b[0;34m,\u001b[0m\u001b[0;34m\u001b[0m\u001b[0;34m\u001b[0m\u001b[0m\n\u001b[1;32m      5\u001b[0m                 close=df['ending-value'])])\n",
      "\u001b[0;32m~/.local/lib/python3.6/site-packages/pandas/core/frame.py\u001b[0m in \u001b[0;36m__getitem__\u001b[0;34m(self, key)\u001b[0m\n\u001b[1;32m   2978\u001b[0m             \u001b[0;32mif\u001b[0m \u001b[0mself\u001b[0m\u001b[0;34m.\u001b[0m\u001b[0mcolumns\u001b[0m\u001b[0;34m.\u001b[0m\u001b[0mnlevels\u001b[0m \u001b[0;34m>\u001b[0m \u001b[0;36m1\u001b[0m\u001b[0;34m:\u001b[0m\u001b[0;34m\u001b[0m\u001b[0;34m\u001b[0m\u001b[0m\n\u001b[1;32m   2979\u001b[0m                 \u001b[0;32mreturn\u001b[0m \u001b[0mself\u001b[0m\u001b[0;34m.\u001b[0m\u001b[0m_getitem_multilevel\u001b[0m\u001b[0;34m(\u001b[0m\u001b[0mkey\u001b[0m\u001b[0;34m)\u001b[0m\u001b[0;34m\u001b[0m\u001b[0;34m\u001b[0m\u001b[0m\n\u001b[0;32m-> 2980\u001b[0;31m             \u001b[0mindexer\u001b[0m \u001b[0;34m=\u001b[0m \u001b[0mself\u001b[0m\u001b[0;34m.\u001b[0m\u001b[0mcolumns\u001b[0m\u001b[0;34m.\u001b[0m\u001b[0mget_loc\u001b[0m\u001b[0;34m(\u001b[0m\u001b[0mkey\u001b[0m\u001b[0;34m)\u001b[0m\u001b[0;34m\u001b[0m\u001b[0;34m\u001b[0m\u001b[0m\n\u001b[0m\u001b[1;32m   2981\u001b[0m             \u001b[0;32mif\u001b[0m \u001b[0mis_integer\u001b[0m\u001b[0;34m(\u001b[0m\u001b[0mindexer\u001b[0m\u001b[0;34m)\u001b[0m\u001b[0;34m:\u001b[0m\u001b[0;34m\u001b[0m\u001b[0;34m\u001b[0m\u001b[0m\n\u001b[1;32m   2982\u001b[0m                 \u001b[0mindexer\u001b[0m \u001b[0;34m=\u001b[0m \u001b[0;34m[\u001b[0m\u001b[0mindexer\u001b[0m\u001b[0;34m]\u001b[0m\u001b[0;34m\u001b[0m\u001b[0;34m\u001b[0m\u001b[0m\n",
      "\u001b[0;32m~/.local/lib/python3.6/site-packages/pandas/core/indexes/base.py\u001b[0m in \u001b[0;36mget_loc\u001b[0;34m(self, key, method, tolerance)\u001b[0m\n\u001b[1;32m   2897\u001b[0m                 \u001b[0;32mreturn\u001b[0m \u001b[0mself\u001b[0m\u001b[0;34m.\u001b[0m\u001b[0m_engine\u001b[0m\u001b[0;34m.\u001b[0m\u001b[0mget_loc\u001b[0m\u001b[0;34m(\u001b[0m\u001b[0mkey\u001b[0m\u001b[0;34m)\u001b[0m\u001b[0;34m\u001b[0m\u001b[0;34m\u001b[0m\u001b[0m\n\u001b[1;32m   2898\u001b[0m             \u001b[0;32mexcept\u001b[0m \u001b[0mKeyError\u001b[0m\u001b[0;34m:\u001b[0m\u001b[0;34m\u001b[0m\u001b[0;34m\u001b[0m\u001b[0m\n\u001b[0;32m-> 2899\u001b[0;31m                 \u001b[0;32mreturn\u001b[0m \u001b[0mself\u001b[0m\u001b[0;34m.\u001b[0m\u001b[0m_engine\u001b[0m\u001b[0;34m.\u001b[0m\u001b[0mget_loc\u001b[0m\u001b[0;34m(\u001b[0m\u001b[0mself\u001b[0m\u001b[0;34m.\u001b[0m\u001b[0m_maybe_cast_indexer\u001b[0m\u001b[0;34m(\u001b[0m\u001b[0mkey\u001b[0m\u001b[0;34m)\u001b[0m\u001b[0;34m)\u001b[0m\u001b[0;34m\u001b[0m\u001b[0;34m\u001b[0m\u001b[0m\n\u001b[0m\u001b[1;32m   2900\u001b[0m         \u001b[0mindexer\u001b[0m \u001b[0;34m=\u001b[0m \u001b[0mself\u001b[0m\u001b[0;34m.\u001b[0m\u001b[0mget_indexer\u001b[0m\u001b[0;34m(\u001b[0m\u001b[0;34m[\u001b[0m\u001b[0mkey\u001b[0m\u001b[0;34m]\u001b[0m\u001b[0;34m,\u001b[0m \u001b[0mmethod\u001b[0m\u001b[0;34m=\u001b[0m\u001b[0mmethod\u001b[0m\u001b[0;34m,\u001b[0m \u001b[0mtolerance\u001b[0m\u001b[0;34m=\u001b[0m\u001b[0mtolerance\u001b[0m\u001b[0;34m)\u001b[0m\u001b[0;34m\u001b[0m\u001b[0;34m\u001b[0m\u001b[0m\n\u001b[1;32m   2901\u001b[0m         \u001b[0;32mif\u001b[0m \u001b[0mindexer\u001b[0m\u001b[0;34m.\u001b[0m\u001b[0mndim\u001b[0m \u001b[0;34m>\u001b[0m \u001b[0;36m1\u001b[0m \u001b[0;32mor\u001b[0m \u001b[0mindexer\u001b[0m\u001b[0;34m.\u001b[0m\u001b[0msize\u001b[0m \u001b[0;34m>\u001b[0m \u001b[0;36m1\u001b[0m\u001b[0;34m:\u001b[0m\u001b[0;34m\u001b[0m\u001b[0;34m\u001b[0m\u001b[0m\n",
      "\u001b[0;32mpandas/_libs/index.pyx\u001b[0m in \u001b[0;36mpandas._libs.index.IndexEngine.get_loc\u001b[0;34m()\u001b[0m\n",
      "\u001b[0;32mpandas/_libs/index.pyx\u001b[0m in \u001b[0;36mpandas._libs.index.IndexEngine.get_loc\u001b[0;34m()\u001b[0m\n",
      "\u001b[0;32mpandas/_libs/hashtable_class_helper.pxi\u001b[0m in \u001b[0;36mpandas._libs.hashtable.PyObjectHashTable.get_item\u001b[0;34m()\u001b[0m\n",
      "\u001b[0;32mpandas/_libs/hashtable_class_helper.pxi\u001b[0m in \u001b[0;36mpandas._libs.hashtable.PyObjectHashTable.get_item\u001b[0;34m()\u001b[0m\n",
      "\u001b[0;31mKeyError\u001b[0m: 'openning'"
     ]
    }
   ],
   "source": [
    "fig = go.Figure(data=[go.Candlestick(x=df['date'],\n",
    "                open=df['openning'],\n",
    "                high=df['max'],\n",
    "                low=df['min'],\n",
    "                close=df['ending-value'])])\n",
    "fig.update_yaxes(type=\"log\")\n",
    "fig.show()"
   ]
  },
  {
   "cell_type": "code",
   "execution_count": null,
   "metadata": {
    "ExecuteTime": {
     "end_time": "2019-09-16T17:31:19.668877Z",
     "start_time": "2019-09-16T17:56:56.731Z"
    }
   },
   "outputs": [],
   "source": [
    "%matplotlib inline\n",
    "import matplotlib.pyplot as plt\n",
    "plt.style.use('seaborn-whitegrid')\n",
    "x=np.arange(len(stocko))\n",
    "plt.figure(num=None, figsize=(6, 4), dpi=150)\n",
    "plt.scatter(highs, highs_price ,c=\"r\")\n",
    "xx=np.linspace(0,800,dtype=float)\n",
    "plt.plot(xx,-0.5090909 * xx +1149.05858 , linestyle=\"-\")\n",
    "plt.plot(x,stocko,linestyle=\"-.\")\n"
   ]
  },
  {
   "cell_type": "code",
   "execution_count": 8,
   "metadata": {
    "ExecuteTime": {
     "end_time": "2019-09-16T17:31:19.867779Z",
     "start_time": "2019-09-16T17:31:19.859930Z"
    }
   },
   "outputs": [
    {
     "data": {
      "text/plain": [
       "1148.5"
      ]
     },
     "execution_count": 8,
     "metadata": {},
     "output_type": "execute_result"
    }
   ],
   "source": [
    "xx=1\n",
    "yy=-0.5*xx+1149\n",
    "yy"
   ]
  },
  {
   "cell_type": "code",
   "execution_count": 9,
   "metadata": {
    "ExecuteTime": {
     "end_time": "2019-09-16T17:31:21.120511Z",
     "start_time": "2019-09-16T17:31:21.112925Z"
    }
   },
   "outputs": [
    {
     "data": {
      "text/plain": [
       "580"
      ]
     },
     "execution_count": 9,
     "metadata": {},
     "output_type": "execute_result"
    }
   ],
   "source": [
    "len(stocko)"
   ]
  },
  {
   "cell_type": "code",
   "execution_count": 10,
   "metadata": {
    "ExecuteTime": {
     "end_time": "2019-09-16T17:31:21.583166Z",
     "start_time": "2019-09-16T17:31:21.576218Z"
    }
   },
   "outputs": [
    {
     "data": {
      "text/plain": [
       "40"
      ]
     },
     "execution_count": 10,
     "metadata": {},
     "output_type": "execute_result"
    }
   ],
   "source": [
    "len(highs)"
   ]
  },
  {
   "cell_type": "code",
   "execution_count": 11,
   "metadata": {
    "ExecuteTime": {
     "end_time": "2019-09-16T17:31:22.113422Z",
     "start_time": "2019-09-16T17:31:22.078699Z"
    }
   },
   "outputs": [
    {
     "data": {
      "text/html": [
       "<div>\n",
       "<style scoped>\n",
       "    .dataframe tbody tr th:only-of-type {\n",
       "        vertical-align: middle;\n",
       "    }\n",
       "\n",
       "    .dataframe tbody tr th {\n",
       "        vertical-align: top;\n",
       "    }\n",
       "\n",
       "    .dataframe thead th {\n",
       "        text-align: right;\n",
       "    }\n",
       "</style>\n",
       "<table border=\"1\" class=\"dataframe\">\n",
       "  <thead>\n",
       "    <tr style=\"text-align: right;\">\n",
       "      <th></th>\n",
       "      <th>Unnamed: 0</th>\n",
       "      <th>X</th>\n",
       "      <th>Y</th>\n",
       "    </tr>\n",
       "  </thead>\n",
       "  <tbody>\n",
       "    <tr>\n",
       "      <td>0</td>\n",
       "      <td>0</td>\n",
       "      <td>18</td>\n",
       "      <td>1202.0</td>\n",
       "    </tr>\n",
       "    <tr>\n",
       "      <td>1</td>\n",
       "      <td>1</td>\n",
       "      <td>31</td>\n",
       "      <td>1099.0</td>\n",
       "    </tr>\n",
       "    <tr>\n",
       "      <td>2</td>\n",
       "      <td>2</td>\n",
       "      <td>37</td>\n",
       "      <td>1130.0</td>\n",
       "    </tr>\n",
       "    <tr>\n",
       "      <td>3</td>\n",
       "      <td>3</td>\n",
       "      <td>54</td>\n",
       "      <td>1025.0</td>\n",
       "    </tr>\n",
       "    <tr>\n",
       "      <td>4</td>\n",
       "      <td>4</td>\n",
       "      <td>69</td>\n",
       "      <td>997.0</td>\n",
       "    </tr>\n",
       "  </tbody>\n",
       "</table>\n",
       "</div>"
      ],
      "text/plain": [
       "   Unnamed: 0   X       Y\n",
       "0           0  18  1202.0\n",
       "1           1  31  1099.0\n",
       "2           2  37  1130.0\n",
       "3           3  54  1025.0\n",
       "4           4  69   997.0"
      ]
     },
     "execution_count": 11,
     "metadata": {},
     "output_type": "execute_result"
    }
   ],
   "source": [
    "my_max=pd.DataFrame(columns=[\"X\",\"Y\"])\n",
    "my_max[\"X\"]=highs\n",
    "my_max[\"Y\"]=highs_price\n",
    "my_max.to_csv(\"./maximums.csv\")\n",
    "dff=pd.read_csv(\"./maximums.csv\")\n",
    "dff.head()\n"
   ]
  },
  {
   "cell_type": "code",
   "execution_count": 13,
   "metadata": {
    "ExecuteTime": {
     "end_time": "2019-09-16T17:34:08.411768Z",
     "start_time": "2019-09-16T17:33:34.733557Z"
    }
   },
   "outputs": [],
   "source": [
    "a = 2\n",
    "for i in range(10**8):\n",
    "    d = a * 5\n",
    "    a = d + 3\n",
    "    a = a % 7"
   ]
  },
  {
   "cell_type": "code",
   "execution_count": 44,
   "metadata": {
    "ExecuteTime": {
     "end_time": "2019-09-17T04:31:31.455948Z",
     "start_time": "2019-09-17T04:31:31.449787Z"
    }
   },
   "outputs": [],
   "source": [
    "xcol = my_max[\"X\"].to_list()\n",
    "ycol = my_max[\"Y\"].to_list()"
   ]
  },
  {
   "cell_type": "code",
   "execution_count": 45,
   "metadata": {
    "ExecuteTime": {
     "end_time": "2019-09-17T04:32:05.792338Z",
     "start_time": "2019-09-17T04:32:04.180866Z"
    }
   },
   "outputs": [
    {
     "name": "stdout",
     "output_type": "stream",
     "text": [
      "4\n"
     ]
    }
   ],
   "source": [
    "#finding the best line \n",
    "count_max=0\n",
    "a_max=0\n",
    "b_max=0\n",
    "# all tangents from 80 to -80 digree . i will break them in to 1000 pieces\n",
    "digree=np.linspace(-80,80,100)\n",
    "digrees=np.tan(digree*pi / 180)\n",
    "for point in range(len(my_max)) :\n",
    "#  x and y are the ones of this point\n",
    "    x=xcol[point]\n",
    "    y=ycol[point]\n",
    "# for this point i am breaking the line into 100 pieces\n",
    "    b_fakes=np.linspace(y-5,y+5,10)\n",
    "    for b in b_fakes:\n",
    "        for a in digrees:\n",
    "            count=0\n",
    "            for p in range(point,len(my_max)):\n",
    "            #  x_ and y_ s are for all next points in new dimensions !!\n",
    "                x_ = xcol[p]-x\n",
    "                y_ = ycol[p]\n",
    "                if((x_*a+b>=y_) and (x_*a+b<=y_+1)):\n",
    "                    count+=1\n",
    "            if(count>count_max):\n",
    "                a_max=a\n",
    "                b_max=a*(-x)+b\n",
    "                count_max=count\n",
    "        \n",
    "        \n",
    "print(count_max)"
   ]
  },
  {
   "cell_type": "code",
   "execution_count": null,
   "metadata": {
    "ExecuteTime": {
     "start_time": "2019-09-16T17:38:36.903Z"
    }
   },
   "outputs": [],
   "source": [
    "print(a_max,b_max)"
   ]
  },
  {
   "cell_type": "code",
   "execution_count": null,
   "metadata": {},
   "outputs": [],
   "source": []
  }
 ],
 "metadata": {
  "kernelspec": {
   "display_name": "Python 3",
   "language": "python",
   "name": "python3"
  },
  "language_info": {
   "codemirror_mode": {
    "name": "ipython",
    "version": 3
   },
   "file_extension": ".py",
   "mimetype": "text/x-python",
   "name": "python",
   "nbconvert_exporter": "python",
   "pygments_lexer": "ipython3",
   "version": "3.6.8"
  }
 },
 "nbformat": 4,
 "nbformat_minor": 2
}
