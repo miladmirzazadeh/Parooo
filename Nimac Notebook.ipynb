{
 "cells": [
  {
   "cell_type": "code",
   "execution_count": 1,
   "metadata": {
    "ExecuteTime": {
     "end_time": "2019-10-03T05:04:36.318905Z",
     "start_time": "2019-10-03T05:04:36.287652Z"
    }
   },
   "outputs": [],
   "source": [
    "%config IPCompleter.greedy=True"
   ]
  },
  {
   "cell_type": "code",
   "execution_count": null,
   "metadata": {
    "ExecuteTime": {
     "end_time": "2019-10-10T04:51:30.799342Z",
     "start_time": "2019-10-10T04:51:30.785238Z"
    }
   },
   "outputs": [],
   "source": []
  },
  {
   "cell_type": "code",
   "execution_count": 19,
   "metadata": {
    "ExecuteTime": {
     "end_time": "2019-10-10T04:23:33.317154Z",
     "start_time": "2019-10-10T04:23:33.302463Z"
    }
   },
   "outputs": [
    {
     "ename": "ModuleNotFoundError",
     "evalue": "No module named 'test.py'",
     "output_type": "error",
     "traceback": [
      "\u001b[0;31m---------------------------------------------------------------------------\u001b[0m",
      "\u001b[0;31mModuleNotFoundError\u001b[0m                       Traceback (most recent call last)",
      "\u001b[0;32m<ipython-input-19-421c50460e7f>\u001b[0m in \u001b[0;36m<module>\u001b[0;34m\u001b[0m\n\u001b[0;32m----> 1\u001b[0;31m \u001b[0;32mimport\u001b[0m \u001b[0mtest\u001b[0m\u001b[0;34m.\u001b[0m\u001b[0mpy\u001b[0m\u001b[0;34m\u001b[0m\u001b[0;34m\u001b[0m\u001b[0m\n\u001b[0m",
      "\u001b[0;31mModuleNotFoundError\u001b[0m: No module named 'test.py'"
     ]
    }
   ],
   "source": []
  },
  {
   "cell_type": "code",
   "execution_count": 2,
   "metadata": {
    "ExecuteTime": {
     "end_time": "2019-10-03T05:05:55.479760Z",
     "start_time": "2019-10-03T05:05:04.610040Z"
    }
   },
   "outputs": [
    {
     "name": "stdout",
     "output_type": "stream",
     "text": [
      "Collecting quandl\n",
      "  Downloading https://files.pythonhosted.org/packages/12/64/6314547cb01fa75697ddba6d6d43a9f1d023c1730ffc6abf3db7a0c89222/Quandl-3.4.8-py2.py3-none-any.whl\n",
      "Collecting six (from quandl)\n",
      "  Using cached https://files.pythonhosted.org/packages/73/fb/00a976f728d0d1fecfe898238ce23f502a721c0ac0ecfedb80e0d88c64e9/six-1.12.0-py2.py3-none-any.whl\n",
      "Collecting numpy>=1.8 (from quandl)\n",
      "  Using cached https://files.pythonhosted.org/packages/e5/e6/c3fdc53aed9fa19d6ff3abf97dfad768ae3afce1b7431f7500000816bda5/numpy-1.17.2-cp36-cp36m-manylinux1_x86_64.whl\n",
      "Collecting inflection>=0.3.1 (from quandl)\n",
      "  Downloading https://files.pythonhosted.org/packages/d5/35/a6eb45b4e2356fe688b21570864d4aa0d0a880ce387defe9c589112077f8/inflection-0.3.1.tar.gz\n",
      "Collecting requests>=2.7.0 (from quandl)\n",
      "  Using cached https://files.pythonhosted.org/packages/51/bd/23c926cd341ea6b7dd0b2a00aba99ae0f828be89d72b2190f27c11d4b7fb/requests-2.22.0-py2.py3-none-any.whl\n",
      "Collecting more-itertools<=5.0.0 (from quandl)\n",
      "  Downloading https://files.pythonhosted.org/packages/a4/a6/42f17d065bda1fac255db13afc94c93dbfb64393eae37c749b4cb0752fc7/more_itertools-5.0.0-py3-none-any.whl (52kB)\n",
      "\u001b[K    100% |████████████████████████████████| 61kB 547kB/s ta 0:00:011\n",
      "\u001b[?25hCollecting python-dateutil (from quandl)\n",
      "  Using cached https://files.pythonhosted.org/packages/41/17/c62faccbfbd163c7f57f3844689e3a78bae1f403648a6afb1d0866d87fbb/python_dateutil-2.8.0-py2.py3-none-any.whl\n",
      "Collecting pandas>=0.14 (from quandl)\n",
      "  Using cached https://files.pythonhosted.org/packages/73/9b/52e228545d14f14bb2a1622e225f38463c8726645165e1cb7dde95bfe6d4/pandas-0.25.1-cp36-cp36m-manylinux1_x86_64.whl\n",
      "Collecting pyasn1 (from quandl)\n",
      "  Downloading https://files.pythonhosted.org/packages/a1/71/8f0d444e3a74e5640a3d5d967c1c6b015da9c655f35b2d308a55d907a517/pyasn1-0.4.7-py2.py3-none-any.whl (76kB)\n",
      "\u001b[K    100% |████████████████████████████████| 81kB 919kB/s ta 0:00:011\n",
      "\u001b[?25hCollecting pyOpenSSL (from quandl)\n",
      "  Downloading https://files.pythonhosted.org/packages/01/c8/ceb170d81bd3941cbeb9940fc6cc2ef2ca4288d0ca8929ea4db5905d904d/pyOpenSSL-19.0.0-py2.py3-none-any.whl (53kB)\n",
      "\u001b[K    100% |████████████████████████████████| 61kB 3.8MB/s ta 0:00:011\n",
      "\u001b[?25hCollecting ndg-httpsclient (from quandl)\n",
      "  Downloading https://files.pythonhosted.org/packages/fb/67/c2f508c00ed2a6911541494504b7cac16fe0b0473912568df65fd1801132/ndg_httpsclient-0.5.1-py3-none-any.whl\n",
      "Collecting chardet<3.1.0,>=3.0.2 (from requests>=2.7.0->quandl)\n",
      "  Using cached https://files.pythonhosted.org/packages/bc/a9/01ffebfb562e4274b6487b4bb1ddec7ca55ec7510b22e4c51f14098443b8/chardet-3.0.4-py2.py3-none-any.whl\n",
      "Collecting urllib3!=1.25.0,!=1.25.1,<1.26,>=1.21.1 (from requests>=2.7.0->quandl)\n",
      "  Downloading https://files.pythonhosted.org/packages/e0/da/55f51ea951e1b7c63a579c09dd7db825bb730ec1fe9c0180fc77bfb31448/urllib3-1.25.6-py2.py3-none-any.whl (125kB)\n",
      "\u001b[K    100% |████████████████████████████████| 133kB 1.0MB/s ta 0:00:01\n",
      "\u001b[?25hCollecting certifi>=2017.4.17 (from requests>=2.7.0->quandl)\n",
      "  Using cached https://files.pythonhosted.org/packages/18/b0/8146a4f8dd402f60744fa380bc73ca47303cccf8b9190fd16a827281eac2/certifi-2019.9.11-py2.py3-none-any.whl\n",
      "Collecting idna<2.9,>=2.5 (from requests>=2.7.0->quandl)\n",
      "  Using cached https://files.pythonhosted.org/packages/14/2c/cd551d81dbe15200be1cf41cd03869a46fe7226e7450af7a6545bfc474c9/idna-2.8-py2.py3-none-any.whl\n",
      "Collecting pytz>=2017.2 (from pandas>=0.14->quandl)\n",
      "  Using cached https://files.pythonhosted.org/packages/87/76/46d697698a143e05f77bec5a526bf4e56a0be61d63425b68f4ba553b51f2/pytz-2019.2-py2.py3-none-any.whl\n",
      "Collecting cryptography>=2.3 (from pyOpenSSL->quandl)\n",
      "  Downloading https://files.pythonhosted.org/packages/97/18/c6557f63a6abde34707196fb2cad1c6dc0dbff25a200d5044922496668a4/cryptography-2.7-cp34-abi3-manylinux1_x86_64.whl (2.3MB)\n",
      "\u001b[K    100% |████████████████████████████████| 2.3MB 349kB/s ta 0:00:011\n",
      "\u001b[?25hCollecting asn1crypto>=0.21.0 (from cryptography>=2.3->pyOpenSSL->quandl)\n",
      "  Downloading https://files.pythonhosted.org/packages/ae/32/77a3cfeaa3f37fdcc85ff0f58f8fd3c5f270292d8c7d3dffe75e5ff43efe/asn1crypto-1.0.0-py2.py3-none-any.whl (103kB)\n",
      "\u001b[K    100% |████████████████████████████████| 112kB 5.2MB/s eta 0:00:01\n",
      "\u001b[?25hCollecting cffi!=1.11.3,>=1.8 (from cryptography>=2.3->pyOpenSSL->quandl)\n",
      "  Downloading https://files.pythonhosted.org/packages/5f/bf/6aa1925384c23ffeb579e97a5569eb9abce41b6310b329352b8252cee1c3/cffi-1.12.3-cp36-cp36m-manylinux1_x86_64.whl (430kB)\n",
      "\u001b[K    100% |████████████████████████████████| 440kB 1.6MB/s eta 0:00:01\n",
      "\u001b[?25hCollecting pycparser (from cffi!=1.11.3,>=1.8->cryptography>=2.3->pyOpenSSL->quandl)\n",
      "  Downloading https://files.pythonhosted.org/packages/68/9e/49196946aee219aead1290e00d1e7fdeab8567783e83e1b9ab5585e6206a/pycparser-2.19.tar.gz (158kB)\n",
      "\u001b[K    100% |████████████████████████████████| 163kB 3.4MB/s eta 0:00:01\n",
      "\u001b[?25hBuilding wheels for collected packages: inflection, pycparser\n",
      "  Running setup.py bdist_wheel for inflection ... \u001b[?25ldone\n",
      "\u001b[?25h  Stored in directory: /home/nimac/.cache/pip/wheels/9f/5a/d3/6fc3bf6516d2a3eb7e18f9f28b472110b59325f3f258fe9211\n",
      "  Running setup.py bdist_wheel for pycparser ... \u001b[?25ldone\n",
      "\u001b[?25h  Stored in directory: /home/nimac/.cache/pip/wheels/f2/9a/90/de94f8556265ddc9d9c8b271b0f63e57b26fb1d67a45564511\n",
      "Successfully built inflection pycparser\n",
      "Installing collected packages: six, numpy, inflection, chardet, urllib3, certifi, idna, requests, more-itertools, python-dateutil, pytz, pandas, pyasn1, asn1crypto, pycparser, cffi, cryptography, pyOpenSSL, ndg-httpsclient, quandl\n",
      "Successfully installed asn1crypto-1.0.0 certifi-2019.9.11 cffi-1.12.3 chardet-3.0.4 cryptography-2.7 idna-2.8 inflection-0.3.1 more-itertools-5.0.0 ndg-httpsclient-0.5.1 numpy-1.17.2 pandas-0.25.1 pyOpenSSL-19.0.0 pyasn1-0.4.7 pycparser-2.19 python-dateutil-2.8.0 pytz-2019.2 quandl-3.4.8 requests-2.22.0 six-1.12.0 urllib3-1.25.6\n"
     ]
    }
   ],
   "source": [
    "!pip3 install quandl"
   ]
  },
  {
   "cell_type": "code",
   "execution_count": 14,
   "metadata": {
    "ExecuteTime": {
     "end_time": "2019-10-03T06:34:40.545460Z",
     "start_time": "2019-10-03T06:34:40.535764Z"
    }
   },
   "outputs": [],
   "source": [
    "import pandas as pd\n",
    "import numpy as np\n",
    "import plotly.graph_objects as go\n",
    "from datetime import datetime\n",
    "from math import pi\n",
    "import quandl as qdl\n",
    "from scipy.stats import linregress\n",
    "from getpass import getpass"
   ]
  },
  {
   "cell_type": "code",
   "execution_count": 15,
   "metadata": {
    "ExecuteTime": {
     "end_time": "2019-10-03T06:34:41.679225Z",
     "start_time": "2019-10-03T06:34:41.639105Z"
    }
   },
   "outputs": [
    {
     "data": {
      "text/plain": [
       "2600"
      ]
     },
     "execution_count": 15,
     "metadata": {},
     "output_type": "execute_result"
    }
   ],
   "source": [
    "df = pd.read_csv('./Data/qdl.csv')\n",
    "len(df)"
   ]
  },
  {
   "cell_type": "code",
   "execution_count": 16,
   "metadata": {
    "ExecuteTime": {
     "end_time": "2019-10-03T06:34:50.032157Z",
     "start_time": "2019-10-03T06:34:45.112714Z"
    }
   },
   "outputs": [
    {
     "name": "stdout",
     "output_type": "stream",
     "text": [
      "········\n"
     ]
    }
   ],
   "source": [
    "qdl.ApiConfig.api_key = getpass()\n",
    "data = qdl.get(\"WIKI/AAPL\", start_date=\"2007-01-01\", end_date=\"2017-05-01\")\n",
    "\n",
    "data0 = data.copy()\n",
    "data0['date_id'] = ((data0.index.date - data0.index.date.min())).astype('timedelta64[D]')\n",
    "data0['date_id'] = data0['date_id'].dt.days + 1"
   ]
  },
  {
   "cell_type": "code",
   "execution_count": 3,
   "metadata": {
    "ExecuteTime": {
     "end_time": "2019-09-16T17:31:16.641602Z",
     "start_time": "2019-09-16T17:31:16.591444Z"
    }
   },
   "outputs": [
    {
     "data": {
      "text/html": [
       "<div>\n",
       "<style scoped>\n",
       "    .dataframe tbody tr th:only-of-type {\n",
       "        vertical-align: middle;\n",
       "    }\n",
       "\n",
       "    .dataframe tbody tr th {\n",
       "        vertical-align: top;\n",
       "    }\n",
       "\n",
       "    .dataframe thead th {\n",
       "        text-align: right;\n",
       "    }\n",
       "</style>\n",
       "<table border=\"1\" class=\"dataframe\">\n",
       "  <thead>\n",
       "    <tr style=\"text-align: right;\">\n",
       "      <th></th>\n",
       "      <th>Unnamed: 0</th>\n",
       "      <th>symbol</th>\n",
       "      <th>name</th>\n",
       "      <th>amount</th>\n",
       "      <th>volume</th>\n",
       "      <th>value</th>\n",
       "      <th>lastday</th>\n",
       "      <th>open</th>\n",
       "      <th>last-value</th>\n",
       "      <th>last-change</th>\n",
       "      <th>last-percent</th>\n",
       "      <th>close</th>\n",
       "      <th>ending-change</th>\n",
       "      <th>ending-percent</th>\n",
       "      <th>min</th>\n",
       "      <th>max</th>\n",
       "      <th>year</th>\n",
       "      <th>month</th>\n",
       "      <th>day</th>\n",
       "      <th>date</th>\n",
       "    </tr>\n",
       "  </thead>\n",
       "  <tbody>\n",
       "    <tr>\n",
       "      <td>0</td>\n",
       "      <td>46894</td>\n",
       "      <td>خپارس</td>\n",
       "      <td>پارس‌ خودرو</td>\n",
       "      <td>318</td>\n",
       "      <td>561712</td>\n",
       "      <td>3608122553</td>\n",
       "      <td>6000.0</td>\n",
       "      <td>6000.0</td>\n",
       "      <td>6621.0</td>\n",
       "      <td>621.0</td>\n",
       "      <td>10.35</td>\n",
       "      <td>6621.0</td>\n",
       "      <td>621.0</td>\n",
       "      <td>10.35</td>\n",
       "      <td>4000.0</td>\n",
       "      <td>10000.0</td>\n",
       "      <td>1382</td>\n",
       "      <td>2</td>\n",
       "      <td>17</td>\n",
       "      <td>2003-05-07</td>\n",
       "    </tr>\n",
       "    <tr>\n",
       "      <td>1</td>\n",
       "      <td>47002</td>\n",
       "      <td>خپارس</td>\n",
       "      <td>پارس‌ خودرو</td>\n",
       "      <td>94</td>\n",
       "      <td>124799</td>\n",
       "      <td>910907901</td>\n",
       "      <td>6952.0</td>\n",
       "      <td>7299.0</td>\n",
       "      <td>7299.0</td>\n",
       "      <td>347.0</td>\n",
       "      <td>4.99</td>\n",
       "      <td>7299.0</td>\n",
       "      <td>347.0</td>\n",
       "      <td>4.99</td>\n",
       "      <td>7299.0</td>\n",
       "      <td>7299.0</td>\n",
       "      <td>1382</td>\n",
       "      <td>2</td>\n",
       "      <td>21</td>\n",
       "      <td>2003-05-11</td>\n",
       "    </tr>\n",
       "    <tr>\n",
       "      <td>2</td>\n",
       "      <td>47135</td>\n",
       "      <td>خپارس</td>\n",
       "      <td>پارس‌ خودرو</td>\n",
       "      <td>139</td>\n",
       "      <td>179535</td>\n",
       "      <td>1375776705</td>\n",
       "      <td>7299.0</td>\n",
       "      <td>7663.0</td>\n",
       "      <td>7663.0</td>\n",
       "      <td>364.0</td>\n",
       "      <td>4.99</td>\n",
       "      <td>7663.0</td>\n",
       "      <td>364.0</td>\n",
       "      <td>4.99</td>\n",
       "      <td>7663.0</td>\n",
       "      <td>7663.0</td>\n",
       "      <td>1382</td>\n",
       "      <td>2</td>\n",
       "      <td>22</td>\n",
       "      <td>2003-05-12</td>\n",
       "    </tr>\n",
       "    <tr>\n",
       "      <td>3</td>\n",
       "      <td>47348</td>\n",
       "      <td>خپارس</td>\n",
       "      <td>پارس‌ خودرو</td>\n",
       "      <td>155</td>\n",
       "      <td>221434</td>\n",
       "      <td>1781657964</td>\n",
       "      <td>7663.0</td>\n",
       "      <td>8046.0</td>\n",
       "      <td>8046.0</td>\n",
       "      <td>383.0</td>\n",
       "      <td>5.00</td>\n",
       "      <td>8046.0</td>\n",
       "      <td>383.0</td>\n",
       "      <td>5.00</td>\n",
       "      <td>8046.0</td>\n",
       "      <td>8046.0</td>\n",
       "      <td>1382</td>\n",
       "      <td>2</td>\n",
       "      <td>23</td>\n",
       "      <td>2003-05-13</td>\n",
       "    </tr>\n",
       "    <tr>\n",
       "      <td>4</td>\n",
       "      <td>47386</td>\n",
       "      <td>خپارس</td>\n",
       "      <td>پارس‌ خودرو</td>\n",
       "      <td>104</td>\n",
       "      <td>140655</td>\n",
       "      <td>1188253440</td>\n",
       "      <td>8046.0</td>\n",
       "      <td>8448.0</td>\n",
       "      <td>8448.0</td>\n",
       "      <td>402.0</td>\n",
       "      <td>5.00</td>\n",
       "      <td>8448.0</td>\n",
       "      <td>402.0</td>\n",
       "      <td>5.00</td>\n",
       "      <td>8448.0</td>\n",
       "      <td>8448.0</td>\n",
       "      <td>1382</td>\n",
       "      <td>2</td>\n",
       "      <td>24</td>\n",
       "      <td>2003-05-14</td>\n",
       "    </tr>\n",
       "  </tbody>\n",
       "</table>\n",
       "</div>"
      ],
      "text/plain": [
       "   Unnamed: 0 symbol         name  amount  volume       value  lastday  \\\n",
       "0       46894  خپارس  پارس‌ خودرو     318  561712  3608122553   6000.0   \n",
       "1       47002  خپارس  پارس‌ خودرو      94  124799   910907901   6952.0   \n",
       "2       47135  خپارس  پارس‌ خودرو     139  179535  1375776705   7299.0   \n",
       "3       47348  خپارس  پارس‌ خودرو     155  221434  1781657964   7663.0   \n",
       "4       47386  خپارس  پارس‌ خودرو     104  140655  1188253440   8046.0   \n",
       "\n",
       "     open  last-value  last-change  last-percent   close  ending-change  \\\n",
       "0  6000.0      6621.0        621.0         10.35  6621.0          621.0   \n",
       "1  7299.0      7299.0        347.0          4.99  7299.0          347.0   \n",
       "2  7663.0      7663.0        364.0          4.99  7663.0          364.0   \n",
       "3  8046.0      8046.0        383.0          5.00  8046.0          383.0   \n",
       "4  8448.0      8448.0        402.0          5.00  8448.0          402.0   \n",
       "\n",
       "   ending-percent     min      max  year  month  day        date  \n",
       "0           10.35  4000.0  10000.0  1382      2   17  2003-05-07  \n",
       "1            4.99  7299.0   7299.0  1382      2   21  2003-05-11  \n",
       "2            4.99  7663.0   7663.0  1382      2   22  2003-05-12  \n",
       "3            5.00  8046.0   8046.0  1382      2   23  2003-05-13  \n",
       "4            5.00  8448.0   8448.0  1382      2   24  2003-05-14  "
      ]
     },
     "execution_count": 3,
     "metadata": {},
     "output_type": "execute_result"
    }
   ],
   "source": [
    "\n",
    "df=df.rename(columns={\"ending-value\":\"close\",\"openning\":\"open\"})\n",
    "df.head()"
   ]
  },
  {
   "cell_type": "code",
   "execution_count": 4,
   "metadata": {
    "ExecuteTime": {
     "end_time": "2019-09-16T17:31:17.653300Z",
     "start_time": "2019-09-16T17:31:17.596456Z"
    }
   },
   "outputs": [
    {
     "name": "stdout",
     "output_type": "stream",
     "text": [
      "580\n"
     ]
    },
    {
     "data": {
      "text/html": [
       "<div>\n",
       "<style scoped>\n",
       "    .dataframe tbody tr th:only-of-type {\n",
       "        vertical-align: middle;\n",
       "    }\n",
       "\n",
       "    .dataframe tbody tr th {\n",
       "        vertical-align: top;\n",
       "    }\n",
       "\n",
       "    .dataframe thead th {\n",
       "        text-align: right;\n",
       "    }\n",
       "</style>\n",
       "<table border=\"1\" class=\"dataframe\">\n",
       "  <thead>\n",
       "    <tr style=\"text-align: right;\">\n",
       "      <th></th>\n",
       "      <th>Unnamed: 0</th>\n",
       "      <th>symbol</th>\n",
       "      <th>name</th>\n",
       "      <th>amount</th>\n",
       "      <th>volume</th>\n",
       "      <th>value</th>\n",
       "      <th>lastday</th>\n",
       "      <th>open</th>\n",
       "      <th>last-value</th>\n",
       "      <th>last-change</th>\n",
       "      <th>last-percent</th>\n",
       "      <th>close</th>\n",
       "      <th>ending-change</th>\n",
       "      <th>ending-percent</th>\n",
       "      <th>min</th>\n",
       "      <th>max</th>\n",
       "      <th>year</th>\n",
       "      <th>month</th>\n",
       "      <th>day</th>\n",
       "      <th>date</th>\n",
       "    </tr>\n",
       "  </thead>\n",
       "  <tbody>\n",
       "    <tr>\n",
       "      <td>2768</td>\n",
       "      <td>907039</td>\n",
       "      <td>خپارس</td>\n",
       "      <td>پارس‌ خودرو</td>\n",
       "      <td>563</td>\n",
       "      <td>5603631</td>\n",
       "      <td>5042936614</td>\n",
       "      <td>874.0</td>\n",
       "      <td>882.0</td>\n",
       "      <td>903.0</td>\n",
       "      <td>29.0</td>\n",
       "      <td>3.32</td>\n",
       "      <td>890.0</td>\n",
       "      <td>16.0</td>\n",
       "      <td>1.83</td>\n",
       "      <td>882.0</td>\n",
       "      <td>909.0</td>\n",
       "      <td>1396</td>\n",
       "      <td>1</td>\n",
       "      <td>5</td>\n",
       "      <td>2017-03-25</td>\n",
       "    </tr>\n",
       "    <tr>\n",
       "      <td>2769</td>\n",
       "      <td>907737</td>\n",
       "      <td>خپارس</td>\n",
       "      <td>پارس‌ خودرو</td>\n",
       "      <td>386</td>\n",
       "      <td>3958349</td>\n",
       "      <td>3497017426</td>\n",
       "      <td>890.0</td>\n",
       "      <td>908.0</td>\n",
       "      <td>880.0</td>\n",
       "      <td>-10.0</td>\n",
       "      <td>-1.12</td>\n",
       "      <td>887.0</td>\n",
       "      <td>-3.0</td>\n",
       "      <td>-0.34</td>\n",
       "      <td>877.0</td>\n",
       "      <td>909.0</td>\n",
       "      <td>1396</td>\n",
       "      <td>1</td>\n",
       "      <td>6</td>\n",
       "      <td>2017-03-26</td>\n",
       "    </tr>\n",
       "    <tr>\n",
       "      <td>2770</td>\n",
       "      <td>907905</td>\n",
       "      <td>خپارس</td>\n",
       "      <td>پارس‌ خودرو</td>\n",
       "      <td>455</td>\n",
       "      <td>4834006</td>\n",
       "      <td>4224751019</td>\n",
       "      <td>887.0</td>\n",
       "      <td>895.0</td>\n",
       "      <td>871.0</td>\n",
       "      <td>-16.0</td>\n",
       "      <td>-1.80</td>\n",
       "      <td>880.0</td>\n",
       "      <td>-7.0</td>\n",
       "      <td>-0.79</td>\n",
       "      <td>870.0</td>\n",
       "      <td>895.0</td>\n",
       "      <td>1396</td>\n",
       "      <td>1</td>\n",
       "      <td>7</td>\n",
       "      <td>2017-03-27</td>\n",
       "    </tr>\n",
       "    <tr>\n",
       "      <td>2771</td>\n",
       "      <td>908890</td>\n",
       "      <td>خپارس</td>\n",
       "      <td>پارس‌ خودرو</td>\n",
       "      <td>726</td>\n",
       "      <td>9518816</td>\n",
       "      <td>8358247698</td>\n",
       "      <td>880.0</td>\n",
       "      <td>879.0</td>\n",
       "      <td>880.0</td>\n",
       "      <td>0.0</td>\n",
       "      <td>0.00</td>\n",
       "      <td>878.0</td>\n",
       "      <td>-2.0</td>\n",
       "      <td>-0.23</td>\n",
       "      <td>868.0</td>\n",
       "      <td>890.0</td>\n",
       "      <td>1396</td>\n",
       "      <td>1</td>\n",
       "      <td>8</td>\n",
       "      <td>2017-03-28</td>\n",
       "    </tr>\n",
       "    <tr>\n",
       "      <td>2772</td>\n",
       "      <td>909243</td>\n",
       "      <td>خپارس</td>\n",
       "      <td>پارس‌ خودرو</td>\n",
       "      <td>611</td>\n",
       "      <td>6628884</td>\n",
       "      <td>5769939692</td>\n",
       "      <td>878.0</td>\n",
       "      <td>880.0</td>\n",
       "      <td>871.0</td>\n",
       "      <td>-7.0</td>\n",
       "      <td>-0.80</td>\n",
       "      <td>872.0</td>\n",
       "      <td>-6.0</td>\n",
       "      <td>-0.68</td>\n",
       "      <td>864.0</td>\n",
       "      <td>880.0</td>\n",
       "      <td>1396</td>\n",
       "      <td>1</td>\n",
       "      <td>9</td>\n",
       "      <td>2017-03-29</td>\n",
       "    </tr>\n",
       "    <tr>\n",
       "      <td>2773</td>\n",
       "      <td>909816</td>\n",
       "      <td>خپارس</td>\n",
       "      <td>پارس‌ خودرو</td>\n",
       "      <td>484</td>\n",
       "      <td>5277159</td>\n",
       "      <td>4600517889</td>\n",
       "      <td>872.0</td>\n",
       "      <td>878.0</td>\n",
       "      <td>867.0</td>\n",
       "      <td>-5.0</td>\n",
       "      <td>-0.57</td>\n",
       "      <td>872.0</td>\n",
       "      <td>0.0</td>\n",
       "      <td>0.00</td>\n",
       "      <td>866.0</td>\n",
       "      <td>890.0</td>\n",
       "      <td>1396</td>\n",
       "      <td>1</td>\n",
       "      <td>14</td>\n",
       "      <td>2017-04-03</td>\n",
       "    </tr>\n",
       "    <tr>\n",
       "      <td>2774</td>\n",
       "      <td>910131</td>\n",
       "      <td>خپارس</td>\n",
       "      <td>پارس‌ خودرو</td>\n",
       "      <td>556</td>\n",
       "      <td>6676437</td>\n",
       "      <td>5774963041</td>\n",
       "      <td>872.0</td>\n",
       "      <td>884.0</td>\n",
       "      <td>864.0</td>\n",
       "      <td>-8.0</td>\n",
       "      <td>-0.92</td>\n",
       "      <td>867.0</td>\n",
       "      <td>-5.0</td>\n",
       "      <td>-0.57</td>\n",
       "      <td>861.0</td>\n",
       "      <td>884.0</td>\n",
       "      <td>1396</td>\n",
       "      <td>1</td>\n",
       "      <td>15</td>\n",
       "      <td>2017-04-04</td>\n",
       "    </tr>\n",
       "    <tr>\n",
       "      <td>2775</td>\n",
       "      <td>910523</td>\n",
       "      <td>خپارس</td>\n",
       "      <td>پارس‌ خودرو</td>\n",
       "      <td>1352</td>\n",
       "      <td>16266390</td>\n",
       "      <td>14133651053</td>\n",
       "      <td>867.0</td>\n",
       "      <td>865.0</td>\n",
       "      <td>886.0</td>\n",
       "      <td>19.0</td>\n",
       "      <td>2.19</td>\n",
       "      <td>869.0</td>\n",
       "      <td>2.0</td>\n",
       "      <td>0.23</td>\n",
       "      <td>850.0</td>\n",
       "      <td>891.0</td>\n",
       "      <td>1396</td>\n",
       "      <td>1</td>\n",
       "      <td>16</td>\n",
       "      <td>2017-04-05</td>\n",
       "    </tr>\n",
       "    <tr>\n",
       "      <td>2776</td>\n",
       "      <td>911550</td>\n",
       "      <td>خپارس</td>\n",
       "      <td>پارس‌ خودرو</td>\n",
       "      <td>863</td>\n",
       "      <td>12936706</td>\n",
       "      <td>11745153344</td>\n",
       "      <td>869.0</td>\n",
       "      <td>892.0</td>\n",
       "      <td>912.0</td>\n",
       "      <td>43.0</td>\n",
       "      <td>4.95</td>\n",
       "      <td>908.0</td>\n",
       "      <td>39.0</td>\n",
       "      <td>4.49</td>\n",
       "      <td>880.0</td>\n",
       "      <td>912.0</td>\n",
       "      <td>1396</td>\n",
       "      <td>1</td>\n",
       "      <td>19</td>\n",
       "      <td>2017-04-08</td>\n",
       "    </tr>\n",
       "    <tr>\n",
       "      <td>2777</td>\n",
       "      <td>911785</td>\n",
       "      <td>خپارس</td>\n",
       "      <td>پارس‌ خودرو</td>\n",
       "      <td>1650</td>\n",
       "      <td>27657522</td>\n",
       "      <td>26192345997</td>\n",
       "      <td>908.0</td>\n",
       "      <td>940.0</td>\n",
       "      <td>953.0</td>\n",
       "      <td>45.0</td>\n",
       "      <td>4.96</td>\n",
       "      <td>947.0</td>\n",
       "      <td>39.0</td>\n",
       "      <td>4.30</td>\n",
       "      <td>925.0</td>\n",
       "      <td>953.0</td>\n",
       "      <td>1396</td>\n",
       "      <td>1</td>\n",
       "      <td>20</td>\n",
       "      <td>2017-04-09</td>\n",
       "    </tr>\n",
       "  </tbody>\n",
       "</table>\n",
       "</div>"
      ],
      "text/plain": [
       "      Unnamed: 0 symbol         name  amount    volume        value  lastday  \\\n",
       "2768      907039  خپارس  پارس‌ خودرو     563   5603631   5042936614    874.0   \n",
       "2769      907737  خپارس  پارس‌ خودرو     386   3958349   3497017426    890.0   \n",
       "2770      907905  خپارس  پارس‌ خودرو     455   4834006   4224751019    887.0   \n",
       "2771      908890  خپارس  پارس‌ خودرو     726   9518816   8358247698    880.0   \n",
       "2772      909243  خپارس  پارس‌ خودرو     611   6628884   5769939692    878.0   \n",
       "2773      909816  خپارس  پارس‌ خودرو     484   5277159   4600517889    872.0   \n",
       "2774      910131  خپارس  پارس‌ خودرو     556   6676437   5774963041    872.0   \n",
       "2775      910523  خپارس  پارس‌ خودرو    1352  16266390  14133651053    867.0   \n",
       "2776      911550  خپارس  پارس‌ خودرو     863  12936706  11745153344    869.0   \n",
       "2777      911785  خپارس  پارس‌ خودرو    1650  27657522  26192345997    908.0   \n",
       "\n",
       "       open  last-value  last-change  last-percent  close  ending-change  \\\n",
       "2768  882.0       903.0         29.0          3.32  890.0           16.0   \n",
       "2769  908.0       880.0        -10.0         -1.12  887.0           -3.0   \n",
       "2770  895.0       871.0        -16.0         -1.80  880.0           -7.0   \n",
       "2771  879.0       880.0          0.0          0.00  878.0           -2.0   \n",
       "2772  880.0       871.0         -7.0         -0.80  872.0           -6.0   \n",
       "2773  878.0       867.0         -5.0         -0.57  872.0            0.0   \n",
       "2774  884.0       864.0         -8.0         -0.92  867.0           -5.0   \n",
       "2775  865.0       886.0         19.0          2.19  869.0            2.0   \n",
       "2776  892.0       912.0         43.0          4.95  908.0           39.0   \n",
       "2777  940.0       953.0         45.0          4.96  947.0           39.0   \n",
       "\n",
       "      ending-percent    min    max  year  month  day        date  \n",
       "2768            1.83  882.0  909.0  1396      1    5  2017-03-25  \n",
       "2769           -0.34  877.0  909.0  1396      1    6  2017-03-26  \n",
       "2770           -0.79  870.0  895.0  1396      1    7  2017-03-27  \n",
       "2771           -0.23  868.0  890.0  1396      1    8  2017-03-28  \n",
       "2772           -0.68  864.0  880.0  1396      1    9  2017-03-29  \n",
       "2773            0.00  866.0  890.0  1396      1   14  2017-04-03  \n",
       "2774           -0.57  861.0  884.0  1396      1   15  2017-04-04  \n",
       "2775            0.23  850.0  891.0  1396      1   16  2017-04-05  \n",
       "2776            4.49  880.0  912.0  1396      1   19  2017-04-08  \n",
       "2777            4.30  925.0  953.0  1396      1   20  2017-04-09  "
      ]
     },
     "execution_count": 4,
     "metadata": {},
     "output_type": "execute_result"
    }
   ],
   "source": [
    "stock97=df[np.logical_or(np.logical_or(df[\"year\"]==1396 ,df[\"year\"]==1397),df[\"year\"]==1398)]\n",
    "print(len(stock97))\n",
    "stock97.head(10)\n"
   ]
  },
  {
   "cell_type": "code",
   "execution_count": 5,
   "metadata": {
    "ExecuteTime": {
     "end_time": "2019-09-16T17:31:18.251775Z",
     "start_time": "2019-09-16T17:31:18.245744Z"
    }
   },
   "outputs": [],
   "source": [
    "# stocko= stock97[\"open\"] list  and stockc is stock97[\"close\"] list\n",
    "stocko=stock97[\"open\"].tolist()\n",
    "stockc=stock97[\"close\"].tolist()"
   ]
  },
  {
   "cell_type": "code",
   "execution_count": 6,
   "metadata": {
    "ExecuteTime": {
     "end_time": "2019-09-16T17:31:18.924334Z",
     "start_time": "2019-09-16T17:31:18.882246Z"
    }
   },
   "outputs": [
    {
     "name": "stdout",
     "output_type": "stream",
     "text": [
      "this is a high :  18\n",
      "this is a high :  31\n",
      "this is a high :  37\n",
      "this is a high :  54\n",
      "this is a high :  69\n",
      "this is a high :  83\n",
      "this is a high :  101\n",
      "this is a high :  115\n",
      "this is a high :  130\n",
      "this is a high :  142\n",
      "this is a high :  145\n",
      "this is a high :  151\n",
      "this is a high :  167\n",
      "this is a high :  173\n",
      "this is a high :  190\n",
      "this is a high :  201\n",
      "this is a high :  212\n",
      "this is a high :  218\n",
      "this is a high :  223\n",
      "this is a high :  255\n",
      "this is a high :  268\n",
      "this is a high :  292\n",
      "this is a high :  314\n",
      "this is a high :  322\n",
      "this is a high :  331\n",
      "this is a high :  354\n",
      "this is a high :  368\n",
      "this is a high :  383\n",
      "this is a high :  391\n",
      "this is a high :  400\n",
      "this is a high :  416\n",
      "this is a high :  425\n",
      "this is a high :  453\n",
      "this is a high :  463\n",
      "this is a high :  477\n",
      "this is a high :  496\n",
      "this is a high :  519\n",
      "this is a high :  536\n",
      "this is a high :  542\n",
      "this is a high :  567\n"
     ]
    }
   ],
   "source": [
    "highs=[]\n",
    "highs_price=[]\n",
    "for j in range(len(stocko)): \n",
    "    maximum=max(stocko[j],stockc[j])\n",
    "    if ( (j >10) and (j+10 < len(stocko)) ):\n",
    "        if (maximum>=max(stocko[j-5:j+5]) and maximum>=max(stockc[j-5:j+5])):\n",
    "            print(\"this is a high : \" ,j)\n",
    "            highs.append(j)\n",
    "            highs_price.append(maximum)"
   ]
  },
  {
   "cell_type": "code",
   "execution_count": 7,
   "metadata": {
    "ExecuteTime": {
     "end_time": "2019-09-16T17:31:19.665020Z",
     "start_time": "2019-09-16T17:31:19.251345Z"
    }
   },
   "outputs": [
    {
     "ename": "KeyError",
     "evalue": "'openning'",
     "output_type": "error",
     "traceback": [
      "\u001b[0;31m---------------------------------------------------------------------------\u001b[0m",
      "\u001b[0;31mKeyError\u001b[0m                                  Traceback (most recent call last)",
      "\u001b[0;32m~/.local/lib/python3.6/site-packages/pandas/core/indexes/base.py\u001b[0m in \u001b[0;36mget_loc\u001b[0;34m(self, key, method, tolerance)\u001b[0m\n\u001b[1;32m   2896\u001b[0m             \u001b[0;32mtry\u001b[0m\u001b[0;34m:\u001b[0m\u001b[0;34m\u001b[0m\u001b[0;34m\u001b[0m\u001b[0m\n\u001b[0;32m-> 2897\u001b[0;31m                 \u001b[0;32mreturn\u001b[0m \u001b[0mself\u001b[0m\u001b[0;34m.\u001b[0m\u001b[0m_engine\u001b[0m\u001b[0;34m.\u001b[0m\u001b[0mget_loc\u001b[0m\u001b[0;34m(\u001b[0m\u001b[0mkey\u001b[0m\u001b[0;34m)\u001b[0m\u001b[0;34m\u001b[0m\u001b[0;34m\u001b[0m\u001b[0m\n\u001b[0m\u001b[1;32m   2898\u001b[0m             \u001b[0;32mexcept\u001b[0m \u001b[0mKeyError\u001b[0m\u001b[0;34m:\u001b[0m\u001b[0;34m\u001b[0m\u001b[0;34m\u001b[0m\u001b[0m\n",
      "\u001b[0;32mpandas/_libs/index.pyx\u001b[0m in \u001b[0;36mpandas._libs.index.IndexEngine.get_loc\u001b[0;34m()\u001b[0m\n",
      "\u001b[0;32mpandas/_libs/index.pyx\u001b[0m in \u001b[0;36mpandas._libs.index.IndexEngine.get_loc\u001b[0;34m()\u001b[0m\n",
      "\u001b[0;32mpandas/_libs/hashtable_class_helper.pxi\u001b[0m in \u001b[0;36mpandas._libs.hashtable.PyObjectHashTable.get_item\u001b[0;34m()\u001b[0m\n",
      "\u001b[0;32mpandas/_libs/hashtable_class_helper.pxi\u001b[0m in \u001b[0;36mpandas._libs.hashtable.PyObjectHashTable.get_item\u001b[0;34m()\u001b[0m\n",
      "\u001b[0;31mKeyError\u001b[0m: 'openning'",
      "\nDuring handling of the above exception, another exception occurred:\n",
      "\u001b[0;31mKeyError\u001b[0m                                  Traceback (most recent call last)",
      "\u001b[0;32m<ipython-input-7-4f07d4cb0fca>\u001b[0m in \u001b[0;36m<module>\u001b[0;34m\u001b[0m\n\u001b[1;32m      1\u001b[0m fig = go.Figure(data=[go.Candlestick(x=df['date'],\n\u001b[0;32m----> 2\u001b[0;31m                 \u001b[0mopen\u001b[0m\u001b[0;34m=\u001b[0m\u001b[0mdf\u001b[0m\u001b[0;34m[\u001b[0m\u001b[0;34m'openning'\u001b[0m\u001b[0;34m]\u001b[0m\u001b[0;34m,\u001b[0m\u001b[0;34m\u001b[0m\u001b[0;34m\u001b[0m\u001b[0m\n\u001b[0m\u001b[1;32m      3\u001b[0m                 \u001b[0mhigh\u001b[0m\u001b[0;34m=\u001b[0m\u001b[0mdf\u001b[0m\u001b[0;34m[\u001b[0m\u001b[0;34m'max'\u001b[0m\u001b[0;34m]\u001b[0m\u001b[0;34m,\u001b[0m\u001b[0;34m\u001b[0m\u001b[0;34m\u001b[0m\u001b[0m\n\u001b[1;32m      4\u001b[0m                 \u001b[0mlow\u001b[0m\u001b[0;34m=\u001b[0m\u001b[0mdf\u001b[0m\u001b[0;34m[\u001b[0m\u001b[0;34m'min'\u001b[0m\u001b[0;34m]\u001b[0m\u001b[0;34m,\u001b[0m\u001b[0;34m\u001b[0m\u001b[0;34m\u001b[0m\u001b[0m\n\u001b[1;32m      5\u001b[0m                 close=df['ending-value'])])\n",
      "\u001b[0;32m~/.local/lib/python3.6/site-packages/pandas/core/frame.py\u001b[0m in \u001b[0;36m__getitem__\u001b[0;34m(self, key)\u001b[0m\n\u001b[1;32m   2978\u001b[0m             \u001b[0;32mif\u001b[0m \u001b[0mself\u001b[0m\u001b[0;34m.\u001b[0m\u001b[0mcolumns\u001b[0m\u001b[0;34m.\u001b[0m\u001b[0mnlevels\u001b[0m \u001b[0;34m>\u001b[0m \u001b[0;36m1\u001b[0m\u001b[0;34m:\u001b[0m\u001b[0;34m\u001b[0m\u001b[0;34m\u001b[0m\u001b[0m\n\u001b[1;32m   2979\u001b[0m                 \u001b[0;32mreturn\u001b[0m \u001b[0mself\u001b[0m\u001b[0;34m.\u001b[0m\u001b[0m_getitem_multilevel\u001b[0m\u001b[0;34m(\u001b[0m\u001b[0mkey\u001b[0m\u001b[0;34m)\u001b[0m\u001b[0;34m\u001b[0m\u001b[0;34m\u001b[0m\u001b[0m\n\u001b[0;32m-> 2980\u001b[0;31m             \u001b[0mindexer\u001b[0m \u001b[0;34m=\u001b[0m \u001b[0mself\u001b[0m\u001b[0;34m.\u001b[0m\u001b[0mcolumns\u001b[0m\u001b[0;34m.\u001b[0m\u001b[0mget_loc\u001b[0m\u001b[0;34m(\u001b[0m\u001b[0mkey\u001b[0m\u001b[0;34m)\u001b[0m\u001b[0;34m\u001b[0m\u001b[0;34m\u001b[0m\u001b[0m\n\u001b[0m\u001b[1;32m   2981\u001b[0m             \u001b[0;32mif\u001b[0m \u001b[0mis_integer\u001b[0m\u001b[0;34m(\u001b[0m\u001b[0mindexer\u001b[0m\u001b[0;34m)\u001b[0m\u001b[0;34m:\u001b[0m\u001b[0;34m\u001b[0m\u001b[0;34m\u001b[0m\u001b[0m\n\u001b[1;32m   2982\u001b[0m                 \u001b[0mindexer\u001b[0m \u001b[0;34m=\u001b[0m \u001b[0;34m[\u001b[0m\u001b[0mindexer\u001b[0m\u001b[0;34m]\u001b[0m\u001b[0;34m\u001b[0m\u001b[0;34m\u001b[0m\u001b[0m\n",
      "\u001b[0;32m~/.local/lib/python3.6/site-packages/pandas/core/indexes/base.py\u001b[0m in \u001b[0;36mget_loc\u001b[0;34m(self, key, method, tolerance)\u001b[0m\n\u001b[1;32m   2897\u001b[0m                 \u001b[0;32mreturn\u001b[0m \u001b[0mself\u001b[0m\u001b[0;34m.\u001b[0m\u001b[0m_engine\u001b[0m\u001b[0;34m.\u001b[0m\u001b[0mget_loc\u001b[0m\u001b[0;34m(\u001b[0m\u001b[0mkey\u001b[0m\u001b[0;34m)\u001b[0m\u001b[0;34m\u001b[0m\u001b[0;34m\u001b[0m\u001b[0m\n\u001b[1;32m   2898\u001b[0m             \u001b[0;32mexcept\u001b[0m \u001b[0mKeyError\u001b[0m\u001b[0;34m:\u001b[0m\u001b[0;34m\u001b[0m\u001b[0;34m\u001b[0m\u001b[0m\n\u001b[0;32m-> 2899\u001b[0;31m                 \u001b[0;32mreturn\u001b[0m \u001b[0mself\u001b[0m\u001b[0;34m.\u001b[0m\u001b[0m_engine\u001b[0m\u001b[0;34m.\u001b[0m\u001b[0mget_loc\u001b[0m\u001b[0;34m(\u001b[0m\u001b[0mself\u001b[0m\u001b[0;34m.\u001b[0m\u001b[0m_maybe_cast_indexer\u001b[0m\u001b[0;34m(\u001b[0m\u001b[0mkey\u001b[0m\u001b[0;34m)\u001b[0m\u001b[0;34m)\u001b[0m\u001b[0;34m\u001b[0m\u001b[0;34m\u001b[0m\u001b[0m\n\u001b[0m\u001b[1;32m   2900\u001b[0m         \u001b[0mindexer\u001b[0m \u001b[0;34m=\u001b[0m \u001b[0mself\u001b[0m\u001b[0;34m.\u001b[0m\u001b[0mget_indexer\u001b[0m\u001b[0;34m(\u001b[0m\u001b[0;34m[\u001b[0m\u001b[0mkey\u001b[0m\u001b[0;34m]\u001b[0m\u001b[0;34m,\u001b[0m \u001b[0mmethod\u001b[0m\u001b[0;34m=\u001b[0m\u001b[0mmethod\u001b[0m\u001b[0;34m,\u001b[0m \u001b[0mtolerance\u001b[0m\u001b[0;34m=\u001b[0m\u001b[0mtolerance\u001b[0m\u001b[0;34m)\u001b[0m\u001b[0;34m\u001b[0m\u001b[0;34m\u001b[0m\u001b[0m\n\u001b[1;32m   2901\u001b[0m         \u001b[0;32mif\u001b[0m \u001b[0mindexer\u001b[0m\u001b[0;34m.\u001b[0m\u001b[0mndim\u001b[0m \u001b[0;34m>\u001b[0m \u001b[0;36m1\u001b[0m \u001b[0;32mor\u001b[0m \u001b[0mindexer\u001b[0m\u001b[0;34m.\u001b[0m\u001b[0msize\u001b[0m \u001b[0;34m>\u001b[0m \u001b[0;36m1\u001b[0m\u001b[0;34m:\u001b[0m\u001b[0;34m\u001b[0m\u001b[0;34m\u001b[0m\u001b[0m\n",
      "\u001b[0;32mpandas/_libs/index.pyx\u001b[0m in \u001b[0;36mpandas._libs.index.IndexEngine.get_loc\u001b[0;34m()\u001b[0m\n",
      "\u001b[0;32mpandas/_libs/index.pyx\u001b[0m in \u001b[0;36mpandas._libs.index.IndexEngine.get_loc\u001b[0;34m()\u001b[0m\n",
      "\u001b[0;32mpandas/_libs/hashtable_class_helper.pxi\u001b[0m in \u001b[0;36mpandas._libs.hashtable.PyObjectHashTable.get_item\u001b[0;34m()\u001b[0m\n",
      "\u001b[0;32mpandas/_libs/hashtable_class_helper.pxi\u001b[0m in \u001b[0;36mpandas._libs.hashtable.PyObjectHashTable.get_item\u001b[0;34m()\u001b[0m\n",
      "\u001b[0;31mKeyError\u001b[0m: 'openning'"
     ]
    }
   ],
   "source": [
    "fig = go.Figure(data=[go.Candlestick(x=df['date'],\n",
    "                open=df['openning'],\n",
    "                high=df['max'],\n",
    "                low=df['min'],\n",
    "                close=df['ending-value'])])\n",
    "fig.update_yaxes(type=\"log\")\n",
    "fig.show()"
   ]
  },
  {
   "cell_type": "code",
   "execution_count": null,
   "metadata": {
    "ExecuteTime": {
     "end_time": "2019-09-16T17:31:19.668877Z",
     "start_time": "2019-09-16T17:56:56.731Z"
    }
   },
   "outputs": [],
   "source": [
    "%matplotlib inline\n",
    "import matplotlib.pyplot as plt\n",
    "plt.style.use('seaborn-whitegrid')\n",
    "x=np.arange(len(stocko))\n",
    "plt.figure(num=None, figsize=(6, 4), dpi=150)\n",
    "plt.scatter(highs, highs_price ,c=\"r\")\n",
    "xx=np.linspace(0,800,dtype=float)\n",
    "plt.plot(xx,-0.5090909 * xx +1149.05858 , linestyle=\"-\")\n",
    "plt.plot(x,stocko,linestyle=\"-.\")\n"
   ]
  },
  {
   "cell_type": "code",
   "execution_count": 8,
   "metadata": {
    "ExecuteTime": {
     "end_time": "2019-09-16T17:31:19.867779Z",
     "start_time": "2019-09-16T17:31:19.859930Z"
    }
   },
   "outputs": [
    {
     "data": {
      "text/plain": [
       "1148.5"
      ]
     },
     "execution_count": 8,
     "metadata": {},
     "output_type": "execute_result"
    }
   ],
   "source": [
    "xx=1\n",
    "yy=-0.5*xx+1149\n",
    "yy"
   ]
  },
  {
   "cell_type": "code",
   "execution_count": 9,
   "metadata": {
    "ExecuteTime": {
     "end_time": "2019-09-16T17:31:21.120511Z",
     "start_time": "2019-09-16T17:31:21.112925Z"
    }
   },
   "outputs": [
    {
     "data": {
      "text/plain": [
       "580"
      ]
     },
     "execution_count": 9,
     "metadata": {},
     "output_type": "execute_result"
    }
   ],
   "source": [
    "len(stocko)"
   ]
  },
  {
   "cell_type": "code",
   "execution_count": 10,
   "metadata": {
    "ExecuteTime": {
     "end_time": "2019-09-16T17:31:21.583166Z",
     "start_time": "2019-09-16T17:31:21.576218Z"
    }
   },
   "outputs": [
    {
     "data": {
      "text/plain": [
       "40"
      ]
     },
     "execution_count": 10,
     "metadata": {},
     "output_type": "execute_result"
    }
   ],
   "source": [
    "len(highs)"
   ]
  },
  {
   "cell_type": "code",
   "execution_count": 11,
   "metadata": {
    "ExecuteTime": {
     "end_time": "2019-09-16T17:31:22.113422Z",
     "start_time": "2019-09-16T17:31:22.078699Z"
    }
   },
   "outputs": [
    {
     "data": {
      "text/html": [
       "<div>\n",
       "<style scoped>\n",
       "    .dataframe tbody tr th:only-of-type {\n",
       "        vertical-align: middle;\n",
       "    }\n",
       "\n",
       "    .dataframe tbody tr th {\n",
       "        vertical-align: top;\n",
       "    }\n",
       "\n",
       "    .dataframe thead th {\n",
       "        text-align: right;\n",
       "    }\n",
       "</style>\n",
       "<table border=\"1\" class=\"dataframe\">\n",
       "  <thead>\n",
       "    <tr style=\"text-align: right;\">\n",
       "      <th></th>\n",
       "      <th>Unnamed: 0</th>\n",
       "      <th>X</th>\n",
       "      <th>Y</th>\n",
       "    </tr>\n",
       "  </thead>\n",
       "  <tbody>\n",
       "    <tr>\n",
       "      <td>0</td>\n",
       "      <td>0</td>\n",
       "      <td>18</td>\n",
       "      <td>1202.0</td>\n",
       "    </tr>\n",
       "    <tr>\n",
       "      <td>1</td>\n",
       "      <td>1</td>\n",
       "      <td>31</td>\n",
       "      <td>1099.0</td>\n",
       "    </tr>\n",
       "    <tr>\n",
       "      <td>2</td>\n",
       "      <td>2</td>\n",
       "      <td>37</td>\n",
       "      <td>1130.0</td>\n",
       "    </tr>\n",
       "    <tr>\n",
       "      <td>3</td>\n",
       "      <td>3</td>\n",
       "      <td>54</td>\n",
       "      <td>1025.0</td>\n",
       "    </tr>\n",
       "    <tr>\n",
       "      <td>4</td>\n",
       "      <td>4</td>\n",
       "      <td>69</td>\n",
       "      <td>997.0</td>\n",
       "    </tr>\n",
       "  </tbody>\n",
       "</table>\n",
       "</div>"
      ],
      "text/plain": [
       "   Unnamed: 0   X       Y\n",
       "0           0  18  1202.0\n",
       "1           1  31  1099.0\n",
       "2           2  37  1130.0\n",
       "3           3  54  1025.0\n",
       "4           4  69   997.0"
      ]
     },
     "execution_count": 11,
     "metadata": {},
     "output_type": "execute_result"
    }
   ],
   "source": [
    "my_max=pd.DataFrame(columns=[\"X\",\"Y\"])\n",
    "my_max[\"X\"]=highs\n",
    "my_max[\"Y\"]=highs_price\n",
    "my_max.to_csv(\"./maximums.csv\")\n",
    "dff=pd.read_csv(\"./maximums.csv\")\n",
    "dff.head()\n"
   ]
  },
  {
   "cell_type": "code",
   "execution_count": 13,
   "metadata": {
    "ExecuteTime": {
     "end_time": "2019-09-16T17:34:08.411768Z",
     "start_time": "2019-09-16T17:33:34.733557Z"
    }
   },
   "outputs": [],
   "source": [
    "a = 2\n",
    "for i in range(10**8):\n",
    "    d = a * 5\n",
    "    a = d + 3\n",
    "    a = a % 7"
   ]
  },
  {
   "cell_type": "code",
   "execution_count": 44,
   "metadata": {
    "ExecuteTime": {
     "end_time": "2019-09-17T04:31:31.455948Z",
     "start_time": "2019-09-17T04:31:31.449787Z"
    }
   },
   "outputs": [],
   "source": [
    "xcol = my_max[\"X\"].to_list()\n",
    "ycol = my_max[\"Y\"].to_list()"
   ]
  },
  {
   "cell_type": "code",
   "execution_count": 45,
   "metadata": {
    "ExecuteTime": {
     "end_time": "2019-09-17T04:32:05.792338Z",
     "start_time": "2019-09-17T04:32:04.180866Z"
    }
   },
   "outputs": [
    {
     "name": "stdout",
     "output_type": "stream",
     "text": [
      "4\n"
     ]
    }
   ],
   "source": [
    "#finding the best line \n",
    "count_max=0\n",
    "a_max=0\n",
    "b_max=0\n",
    "# all tangents from 80 to -80 digree . i will break them in to 1000 pieces\n",
    "digree=np.linspace(-80,80,100)\n",
    "digrees=np.tan(digree*pi / 180)\n",
    "for point in range(len(my_max)) :\n",
    "#  x and y are the ones of this point\n",
    "    x=xcol[point]\n",
    "    y=ycol[point]\n",
    "# for this point i am breaking the line into 100 pieces\n",
    "    b_fakes=np.linspace(y-5,y+5,10)\n",
    "    for b in b_fakes:\n",
    "        for a in digrees:\n",
    "            count=0\n",
    "            for p in range(point,len(my_max)):\n",
    "            #  x_ and y_ s are for all next points in new dimensions !!\n",
    "                x_ = xcol[p]-x\n",
    "                y_ = ycol[p]\n",
    "                if((x_*a+b>=y_) and (x_*a+b<=y_+1)):\n",
    "                    count+=1\n",
    "            if(count>count_max):\n",
    "                a_max=a\n",
    "                b_max=a*(-x)+b\n",
    "                count_max=count\n",
    "        \n",
    "        \n",
    "print(count_max)"
   ]
  },
  {
   "cell_type": "code",
   "execution_count": null,
   "metadata": {
    "ExecuteTime": {
     "start_time": "2019-09-16T17:38:36.903Z"
    }
   },
   "outputs": [],
   "source": [
    "print(a_max,b_max)"
   ]
  },
  {
   "cell_type": "code",
   "execution_count": null,
   "metadata": {},
   "outputs": [],
   "source": []
  }
 ],
 "metadata": {
  "kernelspec": {
   "display_name": "Python 3",
   "language": "python",
   "name": "python3"
  },
  "language_info": {
   "codemirror_mode": {
    "name": "ipython",
    "version": 3
   },
   "file_extension": ".py",
   "mimetype": "text/x-python",
   "name": "python",
   "nbconvert_exporter": "python",
   "pygments_lexer": "ipython3",
   "version": "3.6.8"
  },
  "toc": {
   "base_numbering": 1,
   "nav_menu": {},
   "number_sections": false,
   "sideBar": false,
   "skip_h1_title": false,
   "title_cell": "Table of Contents",
   "title_sidebar": "Contents",
   "toc_cell": false,
   "toc_position": {},
   "toc_section_display": false,
   "toc_window_display": false
  }
 },
 "nbformat": 4,
 "nbformat_minor": 2
}
