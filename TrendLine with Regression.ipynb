{
 "cells": [
  {
   "cell_type": "code",
   "execution_count": 1,
   "metadata": {
    "ExecuteTime": {
     "end_time": "2019-10-17T04:05:32.378386Z",
     "start_time": "2019-10-17T04:05:22.290367Z"
    }
   },
   "outputs": [
    {
     "ename": "NameError",
     "evalue": "name 'data' is not defined",
     "output_type": "error",
     "traceback": [
      "\u001b[0;31m---------------------------------------------------------------------------\u001b[0m",
      "\u001b[0;31mNameError\u001b[0m                                 Traceback (most recent call last)",
      "\u001b[0;32m<ipython-input-1-6b2015457d87>\u001b[0m in \u001b[0;36m<module>\u001b[0;34m\u001b[0m\n\u001b[1;32m      7\u001b[0m \u001b[0;31m# data = qdl.get(\"WIKI/AAPL\", start_date=\"2007-01-01\", end_date=\"2017-05-01\")\u001b[0m\u001b[0;34m\u001b[0m\u001b[0;34m\u001b[0m\u001b[0;34m\u001b[0m\u001b[0m\n\u001b[1;32m      8\u001b[0m \u001b[0;34m\u001b[0m\u001b[0m\n\u001b[0;32m----> 9\u001b[0;31m \u001b[0mdata0\u001b[0m \u001b[0;34m=\u001b[0m \u001b[0mdata\u001b[0m\u001b[0;34m.\u001b[0m\u001b[0mcopy\u001b[0m\u001b[0;34m(\u001b[0m\u001b[0;34m)\u001b[0m\u001b[0;34m\u001b[0m\u001b[0;34m\u001b[0m\u001b[0m\n\u001b[0m\u001b[1;32m     10\u001b[0m \u001b[0mdata0\u001b[0m\u001b[0;34m[\u001b[0m\u001b[0;34m'date_id'\u001b[0m\u001b[0;34m]\u001b[0m \u001b[0;34m=\u001b[0m \u001b[0;34m(\u001b[0m\u001b[0;34m(\u001b[0m\u001b[0mdata0\u001b[0m\u001b[0;34m.\u001b[0m\u001b[0mindex\u001b[0m\u001b[0;34m.\u001b[0m\u001b[0mdate\u001b[0m \u001b[0;34m-\u001b[0m \u001b[0mdata0\u001b[0m\u001b[0;34m.\u001b[0m\u001b[0mindex\u001b[0m\u001b[0;34m.\u001b[0m\u001b[0mdate\u001b[0m\u001b[0;34m.\u001b[0m\u001b[0mmin\u001b[0m\u001b[0;34m(\u001b[0m\u001b[0;34m)\u001b[0m\u001b[0;34m)\u001b[0m\u001b[0;34m)\u001b[0m\u001b[0;34m.\u001b[0m\u001b[0mastype\u001b[0m\u001b[0;34m(\u001b[0m\u001b[0;34m'timedelta64[D]'\u001b[0m\u001b[0;34m)\u001b[0m\u001b[0;34m\u001b[0m\u001b[0;34m\u001b[0m\u001b[0m\n\u001b[1;32m     11\u001b[0m \u001b[0mdata0\u001b[0m\u001b[0;34m[\u001b[0m\u001b[0;34m'date_id'\u001b[0m\u001b[0;34m]\u001b[0m \u001b[0;34m=\u001b[0m \u001b[0mdata0\u001b[0m\u001b[0;34m[\u001b[0m\u001b[0;34m'date_id'\u001b[0m\u001b[0;34m]\u001b[0m\u001b[0;34m.\u001b[0m\u001b[0mdt\u001b[0m\u001b[0;34m.\u001b[0m\u001b[0mdays\u001b[0m \u001b[0;34m+\u001b[0m \u001b[0;36m1\u001b[0m\u001b[0;34m\u001b[0m\u001b[0;34m\u001b[0m\u001b[0m\n",
      "\u001b[0;31mNameError\u001b[0m: name 'data' is not defined"
     ]
    }
   ],
   "source": [
    "import pandas as pd\n",
    "import quandl as qdl\n",
    "from scipy.stats import linregress\n",
    "\n",
    "# get AAPL 10 years data\n",
    "\n",
    "# data = qdl.get(\"WIKI/AAPL\", start_date=\"2007-01-01\", end_date=\"2017-05-01\")\n",
    "\n",
    "data0 = data.copy()\n",
    "data0['date_id'] = ((data0.index.date - data0.index.date.min())).astype('timedelta64[D]')\n",
    "data0['date_id'] = data0['date_id'].dt.days + 1\n",
    "data00=data0\n",
    "data0= data0[\"2014\":\"2017\"]\n",
    "# high trend line\n",
    "\n",
    "data1 = data0.copy()\n",
    "\n",
    "while len(data1)>3:\n",
    "\n",
    "    reg = linregress(\n",
    "                    x=data1['date_id'],\n",
    "                    y=data1['Adj. High'],\n",
    "                    )\n",
    "    data1 = data1.loc[data1['Adj. High'] > reg[0] * data1['date_id'] + reg[1]]\n",
    "\n",
    "reg = linregress(\n",
    "                    x=data1['date_id'],\n",
    "                    y=data1['Adj. High'],\n",
    "                    )\n",
    "\n",
    "data0['high_trend'] = reg[0] * data0['date_id'] + reg[1]\n",
    "\n",
    "# low trend line\n",
    "\n",
    "data1 = data0.copy()\n",
    "\n",
    "while len(data1)>3:\n",
    "\n",
    "    reg = linregress(\n",
    "                    x=data1['date_id'],\n",
    "                    y=data1['Adj. Low'],\n",
    "                    )\n",
    "    data1 = data1.loc[data1['Adj. Low'] < reg[0] * data1['date_id'] + reg[1]]\n",
    "\n",
    "reg = linregress(\n",
    "                    x=data1['date_id'],\n",
    "                    y=data1['Adj. Low'],\n",
    "                    )\n",
    "\n",
    "data0['low_trend'] = reg[0] * data0['date_id'] + reg[1]\n",
    "\n",
    "# plot\n",
    "plt.style.use('seaborn-whitegrid')\n",
    "plt.figure(num=None, figsize=(8, 4), dpi=150)\n",
    "data00['Adj. Close'].plot()\n",
    "data0['high_trend'].plot()\n",
    "data0['low_trend'].plot()"
   ]
  },
  {
   "cell_type": "code",
   "execution_count": null,
   "metadata": {},
   "outputs": [],
   "source": []
  }
 ],
 "metadata": {
  "kernelspec": {
   "display_name": "Python 3",
   "language": "python",
   "name": "python3"
  },
  "language_info": {
   "codemirror_mode": {
    "name": "ipython",
    "version": 3
   },
   "file_extension": ".py",
   "mimetype": "text/x-python",
   "name": "python",
   "nbconvert_exporter": "python",
   "pygments_lexer": "ipython3",
   "version": "3.6.8"
  },
  "toc": {
   "base_numbering": 1,
   "nav_menu": {},
   "number_sections": false,
   "sideBar": false,
   "skip_h1_title": false,
   "title_cell": "Table of Contents",
   "title_sidebar": "Contents",
   "toc_cell": false,
   "toc_position": {},
   "toc_section_display": false,
   "toc_window_display": false
  }
 },
 "nbformat": 4,
 "nbformat_minor": 2
}
