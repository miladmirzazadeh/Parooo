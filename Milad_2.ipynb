{
 "cells": [
  {
   "cell_type": "code",
   "execution_count": 14,
   "metadata": {
    "ExecuteTime": {
     "end_time": "2019-10-31T09:17:16.559404Z",
     "start_time": "2019-10-31T09:17:12.370132Z"
    }
   },
   "outputs": [
    {
     "name": "stdout",
     "output_type": "stream",
     "text": [
      "Processing /home/nimac/.cache/pip/wheels/f2/26/49/c7460f8c74c80739f54366da51baacdfab8429f714bf15764a/finta-0.3.9-cp36-none-any.whl\n",
      "Requirement already satisfied: numpy in /home/nimac/.local/lib/python3.6/site-packages (from finta) (1.17.2)\n",
      "Requirement already satisfied: pandas in /home/nimac/.local/lib/python3.6/site-packages (from finta) (0.25.1)\n",
      "Requirement already satisfied: pytz>=2017.2 in /home/nimac/.local/lib/python3.6/site-packages (from pandas->finta) (2019.3)\n",
      "Requirement already satisfied: python-dateutil>=2.6.1 in /home/nimac/.local/lib/python3.6/site-packages (from pandas->finta) (2.8.0)\n",
      "Requirement already satisfied: six>=1.5 in /home/nimac/.local/lib/python3.6/site-packages (from python-dateutil>=2.6.1->pandas->finta) (1.12.0)\n",
      "Installing collected packages: finta\n",
      "Successfully installed finta-0.3.9\n",
      "\u001b[33mWARNING: You are using pip version 19.3; however, version 19.3.1 is available.\n",
      "You should consider upgrading via the 'pip install --upgrade pip' command.\u001b[0m\n"
     ]
    }
   ],
   "source": [
    "!python3 -m pip install --user finta"
   ]
  },
  {
   "cell_type": "code",
   "execution_count": 15,
   "metadata": {
    "ExecuteTime": {
     "end_time": "2019-10-31T11:32:03.193957Z",
     "start_time": "2019-10-31T11:32:02.309898Z"
    }
   },
   "outputs": [],
   "source": [
    "from finta import TA"
   ]
  },
  {
   "cell_type": "code",
   "execution_count": null,
   "metadata": {},
   "outputs": [],
   "source": [
    "-"
   ]
  }
 ],
 "metadata": {
  "kernelspec": {
   "display_name": "Python 3",
   "language": "python",
   "name": "python3"
  },
  "language_info": {
   "codemirror_mode": {
    "name": "ipython",
    "version": 3
   },
   "file_extension": ".py",
   "mimetype": "text/x-python",
   "name": "python",
   "nbconvert_exporter": "python",
   "pygments_lexer": "ipython3",
   "version": "3.6.8"
  },
  "toc": {
   "base_numbering": 1,
   "nav_menu": {},
   "number_sections": false,
   "sideBar": false,
   "skip_h1_title": false,
   "title_cell": "Table of Contents",
   "title_sidebar": "Contents",
   "toc_cell": false,
   "toc_position": {},
   "toc_section_display": false,
   "toc_window_display": false
  }
 },
 "nbformat": 4,
 "nbformat_minor": 2
}
